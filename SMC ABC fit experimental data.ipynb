{
 "cells": [
  {
   "cell_type": "code",
   "execution_count": 1,
   "metadata": {
    "code_folding": [
     0
    ],
    "collapsed": false
   },
   "outputs": [
    {
     "name": "stderr",
     "output_type": "stream",
     "text": [
      "/Users/stephan/anaconda/lib/python2.7/site-packages/matplotlib/font_manager.py:273: UserWarning: Matplotlib is building the font cache using fc-list. This may take a moment.\n",
      "  warnings.warn('Matplotlib is building the font cache using fc-list. This may take a moment.')\n"
     ]
    }
   ],
   "source": [
    "# imports\n",
    "%run SMC_ABC_recoded.py\n",
    "%matplotlib inline\n",
    "import DataAnalysisFunctions as daf\n",
    "\n",
    "%px import numpy as np\n",
    "%px import scipy as sp\n",
    "%px import random\n",
    "%px from scipy import stats\n",
    "%px from ipyparallel import CompositeError\n",
    "\n",
    "rc[:]['create_parameter_vector'] = create_parameter_vector\n",
    "rc[:]['singleTranscript'] = singleTranscript\n",
    "\n",
    "# load experimental data\n",
    "Data0pM = np.load('Data0pM.npy')\n",
    "Data5pM = np.load('Data5pM.npy')\n",
    "Data7pM = np.load('Data7pM.npy')\n",
    "Data10pM = np.load('Data10pM.npy')\n",
    "Data14pM = np.load('Data14pM.npy')\n",
    "Data20pM = np.load('Data20pM.npy')\n",
    "Data100pM = np.load('Data100pM.npy')\n",
    "Data1000pM = np.load('Data1000pM.npy')\n",
    "\n",
    "Mock0pM = np.load('Mock0pM.npy')\n",
    "Mock5pM = np.load('Mock5pM.npy')\n",
    "Mock7pM = np.load('Mock7pM.npy')\n",
    "Mock10pM = np.load('Mock10pM.npy')\n",
    "Mock14pM = np.load('Mock14pM.npy')\n",
    "Mock20pM = np.load('Mock20pM.npy')\n",
    "Mock100pM = np.load('Mock100pM.npy')\n",
    "Mock1000pM = np.load('Mock1000pM.npy')"
   ]
  },
  {
   "cell_type": "markdown",
   "metadata": {
    "code_folding": [
     0
    ],
    "collapsed": true,
    "level": 1
   },
   "source": [
    "# Using Sequential Monte Carlo Approximate Bayesian Computation to fit experimental data"
   ]
  },
  {
   "cell_type": "markdown",
   "metadata": {
    "code_folding": [
     0
    ],
    "level": 1
   },
   "source": [
    "# Create a large start population by random sampling\n",
    "\n",
    "Generate about 50000 candidate particles sampled from prior distributions. Simulate mRNA count only and save to file. Make the number of simulated cells larger than actual data sets. Before running SMC ABC take the start population, add noise and then find the best candidate particles for the SMC fitting. Reuse the start population for each fit be it real data or benchmark data. This should increase the sampling of the model and parameter space substantially.\n",
    "\n",
    "The resulting arrays of the simulations can become very big, thus it is easier not to hold all 50000 particles into one file but save 2000 or so particles into one file."
   ]
  },
  {
   "cell_type": "code",
   "execution_count": 2,
   "metadata": {
    "code_folding": [],
    "collapsed": true,
    "level": 7
   },
   "outputs": [],
   "source": [
    "# parameters\n",
    "\n",
    "# population size for SMC ABC\n",
    "n_particles = 2000\n",
    "\n",
    "# stop distance\n",
    "stop = 0.2\n",
    "\n",
    "# maximal number of iterations\n",
    "iterations = 1\n",
    "\n",
    "# path to save the results\n",
    "path = '/Users/stephan/Desktop/gene_transcription_SMC_ABC/fits/'\n",
    "\n",
    "# folder to temporally store individual particles to find a good start population\n",
    "temp = '/Users/stephan/Desktop/temp/'\n",
    "\n",
    "# path to candidate particles from the large start population\n",
    "cand_path = '/Users/stephan/Desktop/gene_transcription_SMC_ABC/cand/'"
   ]
  },
  {
   "cell_type": "code",
   "execution_count": 10,
   "metadata": {
    "code_folding": [],
    "collapsed": false,
    "level": 7
   },
   "outputs": [
    {
     "name": "stdout",
     "output_type": "stream",
     "text": [
      "0\n",
      "Duration: 3.13\n",
      "1\n",
      "Duration: 3.14\n"
     ]
    }
   ],
   "source": [
    "# number of files to create\n",
    "rounds = 2\n",
    "start = 0\n",
    "count = start\n",
    "# sampled candidate particles per file\n",
    "n_particles = 50\n",
    "n_sim = 100\n",
    "while count - start < rounds:\n",
    "    print count - start\n",
    "    res = smc_start_multi(n_particles,n_sim)\n",
    "    np.save(cand_path+'res_'+str(count)+'.npy',res)\n",
    "    count = count + 1"
   ]
  },
  {
   "cell_type": "markdown",
   "metadata": {},
   "source": [
    "# Fit experimental data from estrogen dose response"
   ]
  },
  {
   "cell_type": "markdown",
   "metadata": {
    "heading_collapsed": false,
    "level": 3
   },
   "source": [
    "### 0pM, 2nd"
   ]
  },
  {
   "cell_type": "code",
   "execution_count": 29,
   "metadata": {
    "code_folding": [],
    "collapsed": false
   },
   "outputs": [
    {
     "name": "stdout",
     "output_type": "stream",
     "text": [
      "File: 1 / 2\n",
      "File: 2 / 2\n",
      "Duration: 0.34 min\n",
      "Duration: 0.01 min\n"
     ]
    }
   ],
   "source": [
    "# compare data to blind shooting candidates\n",
    "paths = [cand_path,temp]\n",
    "dist_cand_0pM,par_cand_0pM = particle_distance_lut(Data0pM,Mock0pM,paths)\n",
    "\n",
    "# save distances and parameters of all candidate particles\n",
    "np.save(path + '0pM/dist_cand_10pM.npy',dist_cand_0pM)\n",
    "np.save(path+'0pM/par_cand_10pM.npy',par_cand_0pM)\n",
    "\n",
    "files = corrected_filelist(temp)\n",
    "start_population = best_start_particles(files,dist_cand_0pM,n_particles)\n",
    "np.save(path+'0pM/start_0pM_2000_corrected.npy',start_population)"
   ]
  },
  {
   "cell_type": "code",
   "execution_count": 3,
   "metadata": {
    "code_folding": [],
    "collapsed": false,
    "level": 7
   },
   "outputs": [],
   "source": [
    "start_population = np.load(path+'0pM/start_0pM_2000_corrected.npy')\n",
    "start_population[0][:,0] = 1./start_population[0].shape[0]"
   ]
  },
  {
   "cell_type": "code",
   "execution_count": 4,
   "metadata": {
    "code_folding": [],
    "collapsed": false,
    "level": 7,
    "scrolled": false
   },
   "outputs": [
    {
     "name": "stdout",
     "output_type": "stream",
     "text": [
      "# particles better than stop: 0\n",
      "Min start distance: 0.811\n",
      "Mean start distance: 3.313\n",
      "Max start distance: 4.83\n",
      "STD of start distance: 1.014\n",
      "Mean of burst, tau and T: [ 64.449   9.297  63.678]\n",
      "STD of burst, tau and T: [ 106.679    9.611   67.646]\n",
      "Iteration: 1\n",
      "Threshold distance 2.653\n"
     ]
    },
    {
     "name": "stderr",
     "output_type": "stream",
     "text": [
      "<string>:838: VisibleDeprecationWarning: using a non-integer number instead of an integer will result in an error in the future\n",
      "<string>:839: VisibleDeprecationWarning: using a non-integer number instead of an integer will result in an error in the future\n"
     ]
    },
    {
     "name": "stdout",
     "output_type": "stream",
     "text": [
      "Try: 0 First particles accepted: 71\n",
      "Try: 1 More particles accepted: 85\n",
      "Enough particles accepted: 85\n",
      "# Created particles: 98\n",
      "# particles better than stop: 0\n",
      "Min distance of current population: 0.531\n",
      "Mean distance of current population: 1.631\n",
      "Max distance of current population: 2.57\n",
      "Mean of burst, tau and T: [   5.598    2.194  173.988]\n",
      "STD of burst, tau and T: [   6.104    2.147  190.286]\n",
      "Duration of 1 th iteration 0.81 min\n",
      "Last iteration finished, max distance: 2.56965204996\n",
      "Duration of iterations: 0.81 min\n"
     ]
    }
   ],
   "source": [
    "alpha = 33.15\n",
    "threshold = 0.6\n",
    "save = [True,path+'0pM/','smc_0pM_']\n",
    "smc = smc_abc(Data0pM,Mock0pM,start_population,iterations,stop,threshold=threshold,alpha = alpha,save = save)\n",
    "np.save(path+'0pM/smc_0pM_2000_lut.npy',smc)"
   ]
  },
  {
   "cell_type": "markdown",
   "metadata": {
    "level": 4
   },
   "source": [
    "#### Fit 115 model to 0 pM \n",
    "\n",
    "The 115 model (two state with combined source of extrinsic noise of RNA pol II elongation rate and initiation rate) is by far the most frequent model for the low estrogen concentrations. Fitting this model with fixed topology allows reduce the dimensionality of the search space. The 115 model has four kinetic parameters. Fitting all data sets with the same model topology is a way to assess the dependency of the model parameters on experimental conditions."
   ]
  },
  {
   "cell_type": "code",
   "execution_count": 12,
   "metadata": {
    "collapsed": true,
    "level": 7
   },
   "outputs": [],
   "source": [
    "# find the best 1000 particles in the posterior distribution for the 0 pM data set\n",
    "ind = np.where(smc_0pM[0][:,1,-1] == 5)[0]\n",
    "ind = ind[0:1000]\n",
    "start_population = [smc_0pM[0][ind,:,-1],smc_0pM[1][:,:,ind],smc_0pM[2][ind,:,-1],smc_0pM[3][:,:,ind]]\n",
    "start_population[0][:,0] = 1./1000."
   ]
  },
  {
   "cell_type": "code",
   "execution_count": 13,
   "metadata": {
    "collapsed": true,
    "level": 7
   },
   "outputs": [
    {
     "name": "stdout",
     "output_type": "stream",
     "text": [
      "# particles better than stop: 0\n",
      "Min start distance: 0.504\n",
      "Mean start distance: 0.61\n",
      "Max start distance: 0.64\n",
      "STD of start distance: 0.024\n",
      "Mean of burst, tau and T: [   4.168    1.618  309.055]\n",
      "STD of burst, tau and T: [  2.836   1.104  83.979]\n",
      "Iteration: 1\n",
      "Threshold distance 0.591\n",
      "Try: 0 First particles accepted: 15\n",
      "Try: 1 More particles accepted: 20\n",
      "Try: 2 More particles accepted: 32\n",
      "Try: 3 More particles accepted: 37\n",
      "Try: 4 More particles accepted: 52\n",
      "Try: 5 More particles accepted: 67\n",
      "Try: 6 More particles accepted: 85\n",
      "Try: 7 More particles accepted: 100\n",
      "Try: 8 More particles accepted: 116\n",
      "Try: 9 More particles accepted: 135\n",
      "Try: 10 More particles accepted: 143\n",
      "Slow creation of new particles, reduced number of tries to: 15\n",
      "Try: 11 More particles accepted: 155\n",
      "Try: 12 More particles accepted: 171\n",
      "Try: 13 More particles accepted: 180\n",
      "Try: 14 More particles accepted: 192\n",
      "Not enough particles accepted: 192\n",
      "# Created particles: 10692\n",
      "# particles better than stop: 0\n",
      "Min distance of current population: 0.504\n",
      "Mean distance of current population: 0.592\n",
      "Max distance of current population: 0.617\n",
      "Mean of burst, tau and T: [   3.164    1.333  297.112]\n",
      "STD of burst, tau and T: [  2.513   1.02   71.55 ]\n",
      "Duration of 1 th iteration 58.6 min\n",
      "Iteration: 2\n",
      "Threshold distance 0.576\n",
      "Try: 0 First particles accepted: 11\n",
      "Try: 1 More particles accepted: 19\n",
      "Try: 2 More particles accepted: 31\n",
      "Try: 3 More particles accepted: 38\n",
      "Try: 4 More particles accepted: 42\n",
      "Try: 5 More particles accepted: 50\n",
      "Try: 6 More particles accepted: 60\n",
      "Try: 7 More particles accepted: 67\n",
      "Try: 8 More particles accepted: 68\n",
      "Try: 9 More particles accepted: 74\n",
      "Try: 10 More particles accepted: 80\n",
      "Slow creation of new particles, reduced number of tries to: 15\n",
      "Try: 11 More particles accepted: 86\n",
      "Try: 12 More particles accepted: 91\n",
      "Try: 13 More particles accepted: 94\n",
      "Try: 14 More particles accepted: 96\n",
      "Not enough particles accepted: 96\n",
      "# Created particles: 11189\n",
      "# particles better than stop: 0\n",
      "Min distance of current population: 0.504\n",
      "Mean distance of current population: 0.583\n",
      "Max distance of current population: 0.606\n",
      "Mean of burst, tau and T: [   3.225    1.317  297.861]\n",
      "STD of burst, tau and T: [  2.464   0.82   66.961]\n",
      "Duration of 2 th iteration 64.77 min\n",
      "Iteration: 3\n",
      "Threshold distance 0.568\n",
      "Try: 0 First particles accepted: 4\n",
      "Try: 1 More particles accepted: 5\n",
      "Try: 2 More particles accepted: 10\n",
      "Try: 3 More particles accepted: 17\n",
      "Try: 4 More particles accepted: 22\n",
      "Try: 5 More particles accepted: 28\n",
      "Try: 6 More particles accepted: 32\n",
      "Try: 7 More particles accepted: 37\n",
      "Try: 8 More particles accepted: 38\n",
      "Try: 9 More particles accepted: 43\n",
      "Try: 10 More particles accepted: 48\n",
      "Slow creation of new particles, reduced number of tries to: 15\n",
      "Try: 11 More particles accepted: 50\n",
      "Try: 12 More particles accepted: 52\n",
      "Try: 13 More particles accepted: 54\n",
      "Try: 14 More particles accepted: 57\n",
      "Not enough particles accepted: 57\n",
      "# Created particles: 11560\n",
      "# particles better than stop: 0\n",
      "Min distance of current population: 0.504\n",
      "Mean distance of current population: 0.577\n",
      "Max distance of current population: 0.598\n",
      "Mean of burst, tau and T: [   3.412    1.234  295.439]\n",
      "STD of burst, tau and T: [  2.304   0.752  62.419]\n",
      "Duration of 3 th iteration 67.28 min\n",
      "STOP: no improvement gained, stopped after 2 iterations\n",
      "Duration of iterations: 190.67 min\n"
     ]
    }
   ],
   "source": [
    "alpha = 33.15\n",
    "\n",
    "# the threshold value defines the likelihood for changes on the model space. A value of one prohibits any jumps at \n",
    "# all and thus keeps the model topology fixed.\n",
    "threshold = 1.\n",
    "save = [True,path+'0pM/','smc_0pM_115_']\n",
    "smc = smc_abc(Data0pM,Mock0pM,start_population,iterations,stop,threshold=threshold,alpha = alpha,save = save)\n",
    "np.save(path+'0pM/smc_0pM_1000_115.npy',smc)"
   ]
  },
  {
   "cell_type": "markdown",
   "metadata": {
    "heading_collapsed": false,
    "level": 3
   },
   "source": [
    "### 5pM, 2nd"
   ]
  },
  {
   "cell_type": "code",
   "execution_count": 4,
   "metadata": {
    "code_folding": [],
    "collapsed": false,
    "level": 7
   },
   "outputs": [
    {
     "name": "stdout",
     "output_type": "stream",
     "text": [
      "File: 1 / 35\n",
      "File: 2 / 35\n",
      "File: 3 / 35\n",
      "File: 4 / 35\n",
      "File: 5 / 35\n",
      "File: 6 / 35\n",
      "File: 7 / 35\n",
      "File: 8 / 35\n",
      "File: 9 / 35\n",
      "File: 10 / 35\n",
      "File: 11 / 35\n",
      "File: 12 / 35\n",
      "File: 13 / 35\n",
      "File: 14 / 35\n",
      "File: 15 / 35\n",
      "File: 16 / 35\n",
      "File: 17 / 35\n",
      "File: 18 / 35\n",
      "File: 19 / 35\n",
      "File: 20 / 35\n",
      "File: 21 / 35\n",
      "File: 22 / 35\n",
      "File: 23 / 35\n",
      "File: 24 / 35\n",
      "File: 25 / 35\n",
      "File: 26 / 35\n",
      "File: 27 / 35\n",
      "File: 28 / 35\n",
      "File: 29 / 35\n",
      "File: 30 / 35\n",
      "File: 31 / 35\n",
      "File: 32 / 35\n",
      "File: 33 / 35\n",
      "File: 34 / 35\n",
      "File: 35 / 35\n",
      "Duration: 147.7 min\n",
      "Duration: 2.64 min\n"
     ]
    }
   ],
   "source": [
    "# compare data to blind shooting candidates\n",
    "paths = [cand_path,temp]\n",
    "dist_cand_5pM,par_cand_5pM = particle_distance_lut(Data5pM,Mock5pM,paths)\n",
    "np.save(path + '5pM/dist_cand_10pM.npy',dist_cand_5pM)\n",
    "np.save(path+'5pM/par_cand_10pM.npy',par_cand_5pM)\n",
    "\n",
    "files = corrected_filelist(temp)\n",
    "start_population = best_start_particles(files,dist_cand_5pM,n_particles)\n",
    "np.save(path+'5pM/start_5pM_2000_corrected.npy',start_population)"
   ]
  },
  {
   "cell_type": "code",
   "execution_count": 5,
   "metadata": {
    "collapsed": true,
    "level": 7
   },
   "outputs": [],
   "source": [
    "start_population = np.load(path+'5pM/start_5pM_2000_corrected.npy')\n",
    "start_population[0][:,0] = 1./n_particles"
   ]
  },
  {
   "cell_type": "code",
   "execution_count": 6,
   "metadata": {
    "collapsed": false,
    "level": 7,
    "scrolled": true
   },
   "outputs": [
    {
     "name": "stdout",
     "output_type": "stream",
     "text": [
      "# particles better than stop: 0\n",
      "Min start distance: 0.477\n",
      "Mean start distance: 0.877\n",
      "Max start distance: 0.989\n",
      "STD of start distance: 0.09\n",
      "Mean of burst, tau and T: [   7.751    2.055  107.305]\n",
      "STD of burst, tau and T: [  5.778   1.813  68.306]\n",
      "Iteration: 1\n",
      "Threshold distance 0.805\n"
     ]
    },
    {
     "name": "stderr",
     "output_type": "stream",
     "text": [
      "<string>:748: VisibleDeprecationWarning: using a non-integer number instead of an integer will result in an error in the future\n",
      "<string>:749: VisibleDeprecationWarning: using a non-integer number instead of an integer will result in an error in the future\n"
     ]
    },
    {
     "name": "stdout",
     "output_type": "stream",
     "text": [
      "Try: 0 First particles accepted: 4\n",
      "Try: 1 More particles accepted: 34\n",
      "Try: 2 More particles accepted: 80\n",
      "Try: 3 More particles accepted: 128\n",
      "Try: 4 More particles accepted: 168\n",
      "Try: 5 More particles accepted: 216\n",
      "Try: 6 More particles accepted: 268\n",
      "Try: 7 More particles accepted: 306\n",
      "Try: 8 More particles accepted: 356\n",
      "Try: 9 More particles accepted: 406\n",
      "Try: 10 More particles accepted: 452\n",
      "Slow creation of new particles, reduced number of tries to: 15\n",
      "Try: 11 More particles accepted: 482\n",
      "Try: 12 More particles accepted: 518\n",
      "Try: 13 More particles accepted: 548\n",
      "Try: 14 More particles accepted: 578\n",
      "Not enough particles accepted: 578\n",
      "# Created particles: 20034\n",
      "# particles better than stop: 0\n",
      "Min distance of current population: 0.477\n",
      "Mean distance of current population: 0.792\n",
      "Max distance of current population: 0.845\n",
      "Mean of burst, tau and T: [  3.814   0.983  54.197]\n",
      "STD of burst, tau and T: [  2.986   0.728  36.353]\n",
      "Duration of 1 th iteration 147.65 min\n",
      "Iteration: 2\n",
      "Threshold distance 0.761\n",
      "Try: 0 First particles accepted: 28\n",
      "Try: 1 More particles accepted: 59\n",
      "Try: 2 More particles accepted: 86\n",
      "Try: 3 More particles accepted: 109\n",
      "Try: 4 More particles accepted: 126\n",
      "Try: 5 More particles accepted: 150\n",
      "Try: 6 More particles accepted: 172\n",
      "Try: 7 More particles accepted: 189\n",
      "Try: 8 More particles accepted: 203\n",
      "Try: 9 More particles accepted: 222\n",
      "Try: 10 More particles accepted: 242\n",
      "Slow creation of new particles, reduced number of tries to: 15\n",
      "Try: 11 More particles accepted: 261\n",
      "Try: 12 More particles accepted: 287\n",
      "Try: 13 More particles accepted: 299\n",
      "Try: 14 More particles accepted: 315\n",
      "Not enough particles accepted: 315\n",
      "# Created particles: 21567\n",
      "# particles better than stop: 0\n",
      "Min distance of current population: 0.477\n",
      "Mean distance of current population: 0.764\n",
      "Max distance of current population: 0.808\n",
      "Mean of burst, tau and T: [  3.167   0.846  45.735]\n",
      "STD of burst, tau and T: [  2.411   0.57   27.635]\n",
      "Duration of 2 th iteration 159.34 min\n",
      "Iteration: 3\n",
      "Threshold distance 0.737\n",
      "Try: 0 First particles accepted: 14\n",
      "Try: 1 More particles accepted: 31\n",
      "Try: 2 More particles accepted: 41\n",
      "Try: 3 More particles accepted: 49\n",
      "Try: 4 More particles accepted: 55\n",
      "Try: 5 More particles accepted: 63\n",
      "Try: 6 More particles accepted: 74\n",
      "Try: 7 More particles accepted: 83\n",
      "Try: 8 More particles accepted: 90\n",
      "Try: 9 More particles accepted: 97\n",
      "Try: 10 More particles accepted: 108\n",
      "Slow creation of new particles, reduced number of tries to: 15\n",
      "Try: 11 More particles accepted: 120\n",
      "Try: 12 More particles accepted: 131\n",
      "Try: 13 More particles accepted: 142\n",
      "Try: 14 More particles accepted: 149\n",
      "Not enough particles accepted: 149\n",
      "# Created particles: 22902\n",
      "# particles better than stop: 0\n",
      "Min distance of current population: 0.477\n",
      "Mean distance of current population: 0.749\n",
      "Max distance of current population: 0.789\n",
      "Mean of burst, tau and T: [  2.895   0.763  42.42 ]\n",
      "STD of burst, tau and T: [  2.2     0.45   23.579]\n",
      "Duration of 3 th iteration 171.4 min\n",
      "Iteration: 4\n",
      "Threshold distance 0.726\n",
      "Try: 0 First particles accepted: 8\n",
      "Try: 1 More particles accepted: 11\n",
      "Try: 2 More particles accepted: 20\n",
      "Try: 3 More particles accepted: 31\n",
      "Try: 4 More particles accepted: 33\n",
      "Try: 5 More particles accepted: 38\n",
      "Try: 6 More particles accepted: 46\n",
      "Try: 7 More particles accepted: 50\n",
      "Try: 8 More particles accepted: 56\n",
      "Try: 9 More particles accepted: 63\n",
      "Try: 10 More particles accepted: 69\n",
      "Slow creation of new particles, reduced number of tries to: 15\n",
      "Try: 11 More particles accepted: 78\n",
      "Try: 12 More particles accepted: 86\n",
      "Try: 13 More particles accepted: 96\n",
      "Try: 14 More particles accepted: 103\n",
      "Not enough particles accepted: 103\n",
      "# Created particles: 23315\n",
      "# particles better than stop: 0\n",
      "Min distance of current population: 0.477\n",
      "Mean distance of current population: 0.74\n",
      "Max distance of current population: 0.777\n",
      "Mean of burst, tau and T: [  2.744   0.725  40.632]\n",
      "STD of burst, tau and T: [  2.055   0.405  21.485]\n",
      "Duration of 4 th iteration 175.82 min\n",
      "STOP: no improvement gained, stopped after 3 iterations\n",
      "Duration of iterations: 654.51 min\n"
     ]
    }
   ],
   "source": [
    "alpha = 33.15\n",
    "threshold = 0.6\n",
    "save = [True,path+'5pM/','smc_5pM_']\n",
    "smc = smc_abc(Data5pM,Mock5pM,start_population,iterations,stop,threshold=threshold,alpha = alpha,save = save)\n",
    "np.save(path+'5pM/smc_5pM_1000_lut.npy',smc)"
   ]
  },
  {
   "cell_type": "markdown",
   "metadata": {
    "level": 4
   },
   "source": [
    "#### Fit 115 model to 5 pM"
   ]
  },
  {
   "cell_type": "code",
   "execution_count": 14,
   "metadata": {
    "collapsed": true,
    "level": 7
   },
   "outputs": [],
   "source": [
    "ind = np.where(smc_5pM[0][:,1,-1] == 5)[0]\n",
    "ind = ind[0:1000]\n",
    "start_population = [smc_5pM[0][ind,:,-1],smc_5pM[1][:,:,ind],smc_5pM[2][ind,:,-1],smc_5pM[3][:,:,ind]]\n",
    "start_population[0][:,0] = 1./1000."
   ]
  },
  {
   "cell_type": "code",
   "execution_count": 15,
   "metadata": {
    "collapsed": true,
    "level": 7
   },
   "outputs": [
    {
     "name": "stdout",
     "output_type": "stream",
     "text": [
      "# particles better than stop: 0\n",
      "Min start distance: 0.507\n",
      "Mean start distance: 0.622\n",
      "Max start distance: 0.656\n",
      "STD of start distance: 0.027\n",
      "Mean of burst, tau and T: [  3.138   0.807  42.974]\n",
      "STD of burst, tau and T: [  1.801   0.295  13.19 ]\n",
      "Iteration: 1\n",
      "Threshold distance 0.601\n",
      "Try: 0 First particles accepted: 23\n",
      "Try: 1 More particles accepted: 45\n",
      "Try: 2 More particles accepted: 56\n",
      "Try: 3 More particles accepted: 70\n",
      "Try: 4 More particles accepted: 92\n",
      "Try: 5 More particles accepted: 112\n",
      "Try: 6 More particles accepted: 141\n",
      "Try: 7 More particles accepted: 161\n",
      "Try: 8 More particles accepted: 184\n",
      "Try: 9 More particles accepted: 198\n",
      "Try: 10 More particles accepted: 222\n",
      "Slow creation of new particles, reduced number of tries to: 15\n",
      "Try: 11 More particles accepted: 247\n",
      "Try: 12 More particles accepted: 268\n",
      "Try: 13 More particles accepted: 281\n",
      "Try: 14 More particles accepted: 296\n",
      "Not enough particles accepted: 296\n",
      "# Created particles: 9900\n",
      "# particles better than stop: 0\n",
      "Min distance of current population: 0.507\n",
      "Mean distance of current population: 0.595\n",
      "Max distance of current population: 0.622\n",
      "Mean of burst, tau and T: [  2.832   0.663  41.033]\n",
      "STD of burst, tau and T: [  1.618   0.234  11.277]\n",
      "Duration of 1 th iteration 74.55 min\n",
      "Iteration: 2\n",
      "Threshold distance 0.577\n",
      "Try: 0 First particles accepted: 13\n",
      "Try: 1 More particles accepted: 22\n",
      "Try: 2 More particles accepted: 33\n",
      "Try: 3 More particles accepted: 41\n",
      "Try: 4 More particles accepted: 45\n",
      "Try: 5 More particles accepted: 57\n",
      "Try: 6 More particles accepted: 68\n",
      "Try: 7 More particles accepted: 82\n",
      "Try: 8 More particles accepted: 88\n",
      "Try: 9 More particles accepted: 108\n",
      "Try: 10 More particles accepted: 118\n",
      "Slow creation of new particles, reduced number of tries to: 15\n",
      "Try: 11 More particles accepted: 132\n",
      "Try: 12 More particles accepted: 142\n",
      "Try: 13 More particles accepted: 152\n",
      "Try: 14 More particles accepted: 161\n",
      "Not enough particles accepted: 161\n",
      "# Created particles: 10899\n",
      "# particles better than stop: 0\n",
      "Min distance of current population: 0.488\n",
      "Mean distance of current population: 0.58\n",
      "Max distance of current population: 0.605\n",
      "Mean of burst, tau and T: [  2.753   0.613  40.7  ]\n",
      "STD of burst, tau and T: [  1.581   0.217  10.308]\n",
      "Duration of 2 th iteration 83.62 min\n",
      "Iteration: 3\n",
      "Threshold distance 0.565\n",
      "Try: 0 First particles accepted: 10\n",
      "Try: 1 More particles accepted: 15\n",
      "Try: 2 More particles accepted: 22\n",
      "Try: 3 More particles accepted: 31\n",
      "Try: 4 More particles accepted: 38\n",
      "Try: 5 More particles accepted: 48\n",
      "Try: 6 More particles accepted: 54\n",
      "Try: 7 More particles accepted: 68\n",
      "Try: 8 More particles accepted: 69\n",
      "Try: 9 More particles accepted: 75\n",
      "Try: 10 More particles accepted: 83\n",
      "Slow creation of new particles, reduced number of tries to: 15\n",
      "Try: 11 More particles accepted: 87\n",
      "Try: 12 More particles accepted: 93\n",
      "Try: 13 More particles accepted: 105\n",
      "Try: 14 More particles accepted: 110\n",
      "Not enough particles accepted: 110\n",
      "# Created particles: 11202\n",
      "# particles better than stop: 0\n",
      "Min distance of current population: 0.488\n",
      "Mean distance of current population: 0.57\n",
      "Max distance of current population: 0.594\n",
      "Mean of burst, tau and T: [  2.717   0.576  40.023]\n",
      "STD of burst, tau and T: [ 1.579  0.213  9.712]\n",
      "Duration of 3 th iteration 80.09 min\n",
      "STOP: no improvement gained, stopped after 2 iterations\n",
      "Duration of iterations: 238.31 min\n"
     ]
    }
   ],
   "source": [
    "alpha = 33.15\n",
    "threshold = 1.\n",
    "save = [True,path+'5pM/','smc_5pM_115_']\n",
    "smc = smc_abc(Data5pM,Mock5pM,start_population,iterations,stop,threshold=threshold,alpha = alpha,save = save)\n",
    "np.save(path+'5pM/smc_5pM_1000_115.npy',smc)"
   ]
  },
  {
   "cell_type": "markdown",
   "metadata": {
    "heading_collapsed": false,
    "level": 3
   },
   "source": [
    "### 7 pM, 2nd"
   ]
  },
  {
   "cell_type": "code",
   "execution_count": 7,
   "metadata": {
    "code_folding": [],
    "collapsed": true,
    "level": 7
   },
   "outputs": [
    {
     "name": "stdout",
     "output_type": "stream",
     "text": [
      "File: 1 / 35\n",
      "File: 2 / 35\n",
      "File: 3 / 35\n",
      "File: 4 / 35\n",
      "File: 5 / 35\n",
      "File: 6 / 35\n",
      "File: 7 / 35\n",
      "File: 8 / 35\n",
      "File: 9 / 35\n",
      "File: 10 / 35\n",
      "File: 11 / 35\n",
      "File: 12 / 35\n",
      "File: 13 / 35\n",
      "File: 14 / 35\n",
      "File: 15 / 35\n",
      "File: 16 / 35\n",
      "File: 17 / 35\n",
      "File: 18 / 35\n",
      "File: 19 / 35\n",
      "File: 20 / 35\n",
      "File: 21 / 35\n",
      "File: 22 / 35\n",
      "File: 23 / 35\n",
      "File: 24 / 35\n",
      "File: 25 / 35\n",
      "File: 26 / 35\n",
      "File: 27 / 35\n",
      "File: 28 / 35\n",
      "File: 29 / 35\n",
      "File: 30 / 35\n",
      "File: 31 / 35\n",
      "File: 32 / 35\n",
      "File: 33 / 35\n",
      "File: 34 / 35\n",
      "File: 35 / 35\n",
      "Duration: 132.65 min\n",
      "Duration: 2.33 min\n"
     ]
    }
   ],
   "source": [
    "# compare data to blind shooting candidates\n",
    "paths = [cand_path,temp]\n",
    "dist_cand_7pM,par_cand_7pM = particle_distance_lut(Data7pM,Mock7pM,paths)\n",
    "np.save(path + '7pM/dist_cand_10pM.npy',dist_cand_7pM)\n",
    "np.save(path+'7pM/par_cand_10pM.npy',par_cand_7pM)\n",
    "\n",
    "files = corrected_filelist(temp)\n",
    "start_population = best_start_particles(files,dist_cand_7pM,n_particles)\n",
    "np.save(path+'7pM/start_7pM_2000_corrected.npy',start_population)"
   ]
  },
  {
   "cell_type": "code",
   "execution_count": 14,
   "metadata": {
    "collapsed": true,
    "level": 7
   },
   "outputs": [],
   "source": [
    "start_population = np.load(path+'7pM/start_7pM_2000_corrected.npy')\n",
    "start_population[0][:,0] = 1./n_particles"
   ]
  },
  {
   "cell_type": "code",
   "execution_count": 15,
   "metadata": {
    "collapsed": true,
    "level": 7
   },
   "outputs": [
    {
     "name": "stdout",
     "output_type": "stream",
     "text": [
      "# particles better than stop: 0\n",
      "Min start distance: 0.589\n",
      "Mean start distance: 0.96\n",
      "Max start distance: 1.054\n",
      "STD of start distance: 0.081\n",
      "Mean of burst, tau and T: [  7.404   1.679  63.139]\n",
      "STD of burst, tau and T: [  5.13    1.265  41.921]\n",
      "Iteration: 1\n",
      "Threshold distance 0.897\n",
      "Try: 0 First particles accepted: 12\n",
      "Try: 1 More particles accepted: 63\n",
      "Try: 2 More particles accepted: 112\n",
      "Try: 3 More particles accepted: 167\n",
      "Try: 4 More particles accepted: 224\n",
      "Try: 5 More particles accepted: 264\n",
      "Try: 6 More particles accepted: 319\n",
      "Try: 7 More particles accepted: 377\n",
      "Try: 8 More particles accepted: 423\n",
      "Try: 9 More particles accepted: 466\n",
      "Try: 10 More particles accepted: 500\n",
      "Slow creation of new particles, reduced number of tries to: 15\n",
      "Try: 11 More particles accepted: 535\n",
      "Try: 12 More particles accepted: 579\n",
      "Try: 13 More particles accepted: 639\n",
      "Try: 14 More particles accepted: 682\n",
      "Not enough particles accepted: 682\n",
      "# Created particles: 19320\n",
      "# particles better than stop: 0\n",
      "Min distance of current population: 0.589\n",
      "Mean distance of current population: 0.878\n",
      "Max distance of current population: 0.938\n",
      "Mean of burst, tau and T: [  4.357   1.01   38.35 ]\n",
      "STD of burst, tau and T: [  2.98    0.597  18.853]\n",
      "Duration of 1 th iteration 139.64 min\n",
      "Iteration: 2\n",
      "Threshold distance 0.841\n",
      "Try: 0 First particles accepted: 18\n",
      "Try: 1 More particles accepted: 30\n",
      "Try: 2 More particles accepted: 52\n",
      "Try: 3 More particles accepted: 75\n",
      "Try: 4 More particles accepted: 97\n",
      "Try: 5 More particles accepted: 122\n",
      "Try: 6 More particles accepted: 148\n",
      "Try: 7 More particles accepted: 168\n",
      "Try: 8 More particles accepted: 193\n",
      "Try: 9 More particles accepted: 212\n",
      "Try: 10 More particles accepted: 229\n",
      "Slow creation of new particles, reduced number of tries to: 15\n",
      "Try: 11 More particles accepted: 260\n",
      "Try: 12 More particles accepted: 285\n",
      "Try: 13 More particles accepted: 302\n",
      "Try: 14 More particles accepted: 319\n",
      "Not enough particles accepted: 319\n",
      "# Created particles: 21809\n",
      "# particles better than stop: 0\n",
      "Min distance of current population: 0.589\n",
      "Mean distance of current population: 0.845\n",
      "Max distance of current population: 0.892\n",
      "Mean of burst, tau and T: [  3.778   0.85   34.205]\n",
      "STD of burst, tau and T: [  2.511   0.443  14.382]\n",
      "Duration of 2 th iteration 161.24 min\n",
      "Iteration: 3\n",
      "Threshold distance 0.816\n",
      "Try: 0 First particles accepted: 13\n",
      "Try: 1 More particles accepted: 33\n",
      "Try: 2 More particles accepted: 47\n",
      "Try: 3 More particles accepted: 64\n",
      "Try: 4 More particles accepted: 73\n",
      "Try: 5 More particles accepted: 88\n",
      "Try: 6 More particles accepted: 106\n",
      "Try: 7 More particles accepted: 124\n",
      "Try: 8 More particles accepted: 136\n",
      "Try: 9 More particles accepted: 156\n",
      "Try: 10 More particles accepted: 166\n",
      "Slow creation of new particles, reduced number of tries to: 15\n",
      "Try: 11 More particles accepted: 184\n",
      "Try: 12 More particles accepted: 199\n",
      "Try: 13 More particles accepted: 214\n",
      "Try: 14 More particles accepted: 229\n",
      "Not enough particles accepted: 229\n",
      "# Created particles: 22397\n",
      "# particles better than stop: 0\n",
      "Min distance of current population: 0.589\n",
      "Mean distance of current population: 0.826\n",
      "Max distance of current population: 0.868\n",
      "Mean of burst, tau and T: [  3.563   0.778  32.523]\n",
      "STD of burst, tau and T: [  2.269   0.371  11.806]\n",
      "Duration of 3 th iteration 164.97 min\n",
      "Iteration: 4\n",
      "Threshold distance 0.8\n",
      "Try: 0 First particles accepted: 9\n",
      "Try: 1 More particles accepted: 16\n",
      "Try: 2 More particles accepted: 26\n",
      "Try: 3 More particles accepted: 34\n",
      "Try: 4 More particles accepted: 46\n",
      "Try: 5 More particles accepted: 56\n",
      "Try: 6 More particles accepted: 64\n",
      "Try: 7 More particles accepted: 77\n",
      "Try: 8 More particles accepted: 88\n",
      "Try: 9 More particles accepted: 92\n",
      "Try: 10 More particles accepted: 99\n",
      "Slow creation of new particles, reduced number of tries to: 15\n",
      "Try: 11 More particles accepted: 103\n",
      "Try: 12 More particles accepted: 113\n",
      "Try: 13 More particles accepted: 120\n",
      "Try: 14 More particles accepted: 131\n",
      "Not enough particles accepted: 131\n",
      "# Created particles: 23057\n",
      "# particles better than stop: 0\n",
      "Min distance of current population: 0.589\n",
      "Mean distance of current population: 0.814\n",
      "Max distance of current population: 0.853\n",
      "Mean of burst, tau and T: [  3.408   0.746  31.564]\n",
      "STD of burst, tau and T: [  2.137   0.335  10.571]\n",
      "Duration of 4 th iteration 171.11 min\n",
      "STOP: no improvement gained, stopped after 3 iterations\n",
      "Duration of iterations: 637.2 min\n"
     ]
    }
   ],
   "source": [
    "alpha = 33.15\n",
    "threshold = 0.6\n",
    "save = [True,path+'7pM/','smc_7pM_']\n",
    "smc = smc_abc(Data7pM,Mock7pM,start_population,iterations,stop,threshold=threshold,alpha = alpha,save = save)\n",
    "np.save(path+'7pM/smc_7pM_2000_lut.npy',smc)"
   ]
  },
  {
   "cell_type": "markdown",
   "metadata": {
    "level": 4
   },
   "source": [
    "#### Fit 115 model to 7 pM"
   ]
  },
  {
   "cell_type": "code",
   "execution_count": 16,
   "metadata": {
    "collapsed": true,
    "level": 7
   },
   "outputs": [],
   "source": [
    "ind = np.where(smc_7pM[0][:,1,-1] == 5)[0]\n",
    "ind = ind[0:1000]\n",
    "start_population = [smc_7pM[0][ind,:,-1],smc_7pM[1][:,:,ind],smc_7pM[2][ind,:,-1],smc_7pM[3][:,:,ind]]\n",
    "start_population[0][:,0] = 1./1000."
   ]
  },
  {
   "cell_type": "code",
   "execution_count": 17,
   "metadata": {
    "collapsed": true,
    "level": 7
   },
   "outputs": [
    {
     "name": "stdout",
     "output_type": "stream",
     "text": [
      "# particles better than stop: 0\n",
      "Min start distance: 0.522\n",
      "Mean start distance: 0.648\n",
      "Max start distance: 0.679\n",
      "STD of start distance: 0.026\n",
      "Mean of burst, tau and T: [  4.527   0.709  34.341]\n",
      "STD of burst, tau and T: [ 2.539  0.243  8.123]\n",
      "Iteration: 1\n",
      "Threshold distance 0.628\n",
      "Try: 0 First particles accepted: 8\n",
      "Try: 1 More particles accepted: 19\n",
      "Try: 2 More particles accepted: 35\n",
      "Try: 3 More particles accepted: 44\n",
      "Try: 4 More particles accepted: 52\n",
      "Try: 5 More particles accepted: 60\n",
      "Try: 6 More particles accepted: 71\n",
      "Try: 7 More particles accepted: 82\n",
      "Try: 8 More particles accepted: 94\n",
      "Try: 9 More particles accepted: 103\n",
      "Try: 10 More particles accepted: 109\n",
      "Slow creation of new particles, reduced number of tries to: 15\n",
      "Try: 11 More particles accepted: 117\n",
      "Try: 12 More particles accepted: 125\n",
      "Try: 13 More particles accepted: 130\n",
      "Try: 14 More particles accepted: 142\n",
      "Not enough particles accepted: 142\n",
      "# Created particles: 10951\n",
      "# particles better than stop: 0\n",
      "Min distance of current population: 0.516\n",
      "Mean distance of current population: 0.632\n",
      "Max distance of current population: 0.661\n",
      "Mean of burst, tau and T: [  4.451   0.636  34.014]\n",
      "STD of burst, tau and T: [ 2.452  0.237  7.629]\n",
      "Duration of 1 th iteration 76.22 min\n",
      "Iteration: 2\n",
      "Threshold distance 0.613\n",
      "Try: 0 First particles accepted: 3\n",
      "Try: 1 More particles accepted: 5\n",
      "Try: 2 More particles accepted: 7\n",
      "Try: 3 More particles accepted: 12\n",
      "Try: 4 More particles accepted: 19\n",
      "Try: 5 More particles accepted: 31\n",
      "Try: 6 More particles accepted: 35\n",
      "Try: 7 More particles accepted: 45\n",
      "Try: 8 More particles accepted: 50\n",
      "Try: 9 More particles accepted: 53\n",
      "Try: 10 More particles accepted: 61\n",
      "Slow creation of new particles, reduced number of tries to: 15\n",
      "Try: 11 More particles accepted: 65\n",
      "Try: 12 More particles accepted: 71\n",
      "Try: 13 More particles accepted: 75\n",
      "Try: 14 More particles accepted: 81\n",
      "Not enough particles accepted: 81\n",
      "# Created particles: 11468\n",
      "# particles better than stop: 0\n",
      "Min distance of current population: 0.516\n",
      "Mean distance of current population: 0.622\n",
      "Max distance of current population: 0.65\n",
      "Mean of burst, tau and T: [  4.326   0.619  34.063]\n",
      "STD of burst, tau and T: [ 2.457  0.218  7.286]\n",
      "Duration of 2 th iteration 81.49 min\n",
      "Iteration: 3\n",
      "Threshold distance 0.605\n",
      "Try: 0 First particles accepted: 9\n",
      "Try: 1 More particles accepted: 14\n",
      "Try: 2 More particles accepted: 20\n",
      "Try: 3 More particles accepted: 26\n",
      "Try: 4 More particles accepted: 29\n",
      "Try: 5 More particles accepted: 31\n",
      "Try: 6 More particles accepted: 35\n",
      "Try: 7 More particles accepted: 40\n",
      "Try: 8 More particles accepted: 44\n",
      "Try: 9 More particles accepted: 51\n",
      "Try: 10 More particles accepted: 53\n",
      "Slow creation of new particles, reduced number of tries to: 15\n",
      "Try: 11 More particles accepted: 58\n",
      "Try: 12 More particles accepted: 65\n",
      "Try: 13 More particles accepted: 69\n",
      "Try: 14 More particles accepted: 73\n",
      "Not enough particles accepted: 73\n",
      "# Created particles: 11456\n",
      "# particles better than stop: 0\n",
      "Min distance of current population: 0.511\n",
      "Mean distance of current population: 0.614\n",
      "Max distance of current population: 0.64\n",
      "Mean of burst, tau and T: [  4.24    0.596  33.87 ]\n",
      "STD of burst, tau and T: [ 2.436  0.21   6.954]\n",
      "Duration of 3 th iteration 81.38 min\n",
      "STOP: no improvement gained, stopped after 2 iterations\n",
      "Duration of iterations: 239.13 min\n"
     ]
    }
   ],
   "source": [
    "alpha = 33.15\n",
    "threshold = 1.\n",
    "save = [True,path+'7pM/','smc_7pM_115_']\n",
    "smc = smc_abc(Data7pM,Mock7pM,start_population,iterations,stop,threshold=threshold,alpha = alpha,save = save)\n",
    "np.save(path+'7pM/smc_7pM_1000_115.npy',smc)"
   ]
  },
  {
   "cell_type": "markdown",
   "metadata": {
    "heading_collapsed": false,
    "level": 3
   },
   "source": [
    "### 10 pM, 2nd"
   ]
  },
  {
   "cell_type": "code",
   "execution_count": 16,
   "metadata": {
    "code_folding": [],
    "collapsed": true,
    "level": 7
   },
   "outputs": [
    {
     "name": "stdout",
     "output_type": "stream",
     "text": [
      "File: 1 / 35\n",
      "File: 2 / 35\n",
      "File: 3 / 35\n",
      "File: 4 / 35\n",
      "File: 5 / 35\n",
      "File: 6 / 35\n",
      "File: 7 / 35\n",
      "File: 8 / 35\n",
      "File: 9 / 35\n",
      "File: 10 / 35\n",
      "File: 11 / 35\n",
      "File: 12 / 35\n",
      "File: 13 / 35\n",
      "File: 14 / 35\n",
      "File: 15 / 35\n",
      "File: 16 / 35\n",
      "File: 17 / 35\n",
      "File: 18 / 35\n",
      "File: 19 / 35\n",
      "File: 20 / 35\n",
      "File: 21 / 35\n",
      "File: 22 / 35\n",
      "File: 23 / 35\n",
      "File: 24 / 35\n",
      "File: 25 / 35\n",
      "File: 26 / 35\n",
      "File: 27 / 35\n",
      "File: 28 / 35\n",
      "File: 29 / 35\n",
      "File: 30 / 35\n",
      "File: 31 / 35\n",
      "File: 32 / 35\n",
      "File: 33 / 35\n",
      "File: 34 / 35\n",
      "File: 35 / 35\n",
      "Duration: 138.76 min\n",
      "Duration: 2.51 min\n"
     ]
    }
   ],
   "source": [
    "# compare data to blind shooting candidates\n",
    "paths = [cand_path,temp]\n",
    "dist_cand_10pM,par_cand_10pM = particle_distance_lut(Data10pM,Mock10pM,paths)\n",
    "np.save(path + '10pM/dist_cand_10pM.npy',dist_cand_10pM)\n",
    "np.save(path+'10pM/par_cand_10pM.npy',par_cand_10pM)\n",
    "\n",
    "files = corrected_filelist(temp)\n",
    "start_population = best_start_particles(files,dist_cand_10pM,n_particles)\n",
    "np.save(path+'10pM/start_10pM_2000_corrected.npy',start_population)"
   ]
  },
  {
   "cell_type": "code",
   "execution_count": 17,
   "metadata": {
    "collapsed": true,
    "level": 7
   },
   "outputs": [],
   "source": [
    "start_population = np.load(path+'10pM/start_10pM_2000_corrected.npy')\n",
    "start_population[0][:,0] = 1./n_particles"
   ]
  },
  {
   "cell_type": "code",
   "execution_count": 18,
   "metadata": {
    "collapsed": true,
    "level": 7
   },
   "outputs": [
    {
     "name": "stdout",
     "output_type": "stream",
     "text": [
      "# particles better than stop: 0\n",
      "Min start distance: 0.647\n",
      "Mean start distance: 1.004\n",
      "Max start distance: 1.115\n",
      "STD of start distance: 0.092\n",
      "Mean of burst, tau and T: [  9.159   1.864  49.1  ]\n",
      "STD of burst, tau and T: [  5.997   1.369  32.529]\n",
      "Iteration: 1\n",
      "Threshold distance 0.93\n",
      "Try: 0 First particles accepted: 8\n",
      "Try: 1 More particles accepted: 47\n",
      "Try: 2 More particles accepted: 94\n",
      "Try: 3 More particles accepted: 132\n",
      "Try: 4 More particles accepted: 180\n",
      "Try: 5 More particles accepted: 205\n",
      "Try: 6 More particles accepted: 252\n",
      "Try: 7 More particles accepted: 292\n",
      "Try: 8 More particles accepted: 336\n",
      "Try: 9 More particles accepted: 380\n",
      "Try: 10 More particles accepted: 418\n",
      "Slow creation of new particles, reduced number of tries to: 15\n",
      "Try: 11 More particles accepted: 458\n",
      "Try: 12 More particles accepted: 491\n",
      "Try: 13 More particles accepted: 522\n",
      "Try: 14 More particles accepted: 560\n",
      "Not enough particles accepted: 560\n",
      "# Created particles: 20185\n",
      "# particles better than stop: 0\n",
      "Min distance of current population: 0.647\n",
      "Mean distance of current population: 0.917\n",
      "Max distance of current population: 0.98\n",
      "Mean of burst, tau and T: [  5.928   1.098  31.336]\n",
      "STD of burst, tau and T: [  3.466   0.591  15.159]\n",
      "Duration of 1 th iteration 169.49 min\n",
      "Iteration: 2\n",
      "Threshold distance 0.877\n",
      "Try: 0 First particles accepted: 20\n",
      "Try: 1 More particles accepted: 35\n",
      "Try: 2 More particles accepted: 54\n",
      "Try: 3 More particles accepted: 69\n",
      "Try: 4 More particles accepted: 80\n",
      "Try: 5 More particles accepted: 88\n",
      "Try: 6 More particles accepted: 107\n",
      "Try: 7 More particles accepted: 124\n",
      "Try: 8 More particles accepted: 136\n",
      "Try: 9 More particles accepted: 150\n",
      "Try: 10 More particles accepted: 167\n",
      "Slow creation of new particles, reduced number of tries to: 15\n",
      "Try: 11 More particles accepted: 185\n",
      "Try: 12 More particles accepted: 201\n",
      "Try: 13 More particles accepted: 216\n",
      "Try: 14 More particles accepted: 234\n",
      "Not enough particles accepted: 234\n",
      "# Created particles: 22368\n",
      "# particles better than stop: 0\n",
      "Min distance of current population: 0.647\n",
      "Mean distance of current population: 0.888\n",
      "Max distance of current population: 0.94\n",
      "Mean of burst, tau and T: [  5.444   0.966  28.496]\n",
      "STD of burst, tau and T: [  2.974   0.467  11.589]\n",
      "Duration of 2 th iteration 190.24 min\n",
      "Iteration: 3\n",
      "Threshold distance 0.856\n",
      "Try: 0 First particles accepted: 18\n",
      "Try: 1 More particles accepted: 29\n",
      "Try: 2 More particles accepted: 38\n",
      "Try: 3 More particles accepted: 46\n",
      "Try: 4 More particles accepted: 52\n",
      "Try: 5 More particles accepted: 57\n",
      "Try: 6 More particles accepted: 71\n",
      "Try: 7 More particles accepted: 84\n",
      "Try: 8 More particles accepted: 94\n",
      "Try: 9 More particles accepted: 104\n",
      "Try: 10 More particles accepted: 111\n",
      "Slow creation of new particles, reduced number of tries to: 15\n",
      "Try: 11 More particles accepted: 119\n",
      "Try: 12 More particles accepted: 123\n",
      "Try: 13 More particles accepted: 133\n",
      "Try: 14 More particles accepted: 139\n",
      "Not enough particles accepted: 139\n",
      "# Created particles: 22921\n",
      "# particles better than stop: 0\n",
      "Min distance of current population: 0.647\n",
      "Mean distance of current population: 0.872\n",
      "Max distance of current population: 0.919\n",
      "Mean of burst, tau and T: [  5.213   0.911  27.494]\n",
      "STD of burst, tau and T: [  2.771   0.425  10.556]\n",
      "Duration of 3 th iteration 197.84 min\n",
      "Iteration: 4\n",
      "Threshold distance 0.843\n",
      "Try: 0 First particles accepted: 4\n",
      "Try: 1 More particles accepted: 6\n",
      "Try: 2 More particles accepted: 17\n",
      "Try: 3 More particles accepted: 26\n",
      "Try: 4 More particles accepted: 35\n",
      "Try: 5 More particles accepted: 45\n",
      "Try: 6 More particles accepted: 50\n",
      "Try: 7 More particles accepted: 54\n",
      "Try: 8 More particles accepted: 63\n",
      "Try: 9 More particles accepted: 70\n",
      "Try: 10 More particles accepted: 79\n",
      "Slow creation of new particles, reduced number of tries to: 15\n",
      "Try: 11 More particles accepted: 84\n",
      "Try: 12 More particles accepted: 89\n",
      "Try: 13 More particles accepted: 98\n",
      "Try: 14 More particles accepted: 105\n",
      "Not enough particles accepted: 105\n",
      "# Created particles: 23280\n",
      "# particles better than stop: 0\n",
      "Min distance of current population: 0.647\n",
      "Mean distance of current population: 0.86\n",
      "Max distance of current population: 0.903\n",
      "Mean of burst, tau and T: [  5.096   0.872  26.856]\n",
      "STD of burst, tau and T: [ 2.69   0.392  9.285]\n",
      "Duration of 4 th iteration 201.34 min\n",
      "STOP: no improvement gained, stopped after 3 iterations\n",
      "Duration of iterations: 759.18 min\n"
     ]
    }
   ],
   "source": [
    "alpha = 33.15\n",
    "threshold = 0.6\n",
    "save = [True,path+'10pM/','smc_10pM_']\n",
    "smc = smc_abc(Data10pM,Mock10pM,start_population,iterations,stop,threshold=threshold,alpha = alpha,save = save)\n",
    "np.save(path+'10pM/smc_10pM_2000_lut.npy',smc)"
   ]
  },
  {
   "cell_type": "markdown",
   "metadata": {
    "level": 4
   },
   "source": [
    "#### Fit 115 model to 10 pM"
   ]
  },
  {
   "cell_type": "code",
   "execution_count": 18,
   "metadata": {
    "collapsed": false,
    "level": 7
   },
   "outputs": [],
   "source": [
    "ind = np.where(smc_10pM[0][:,1,-1] == 5)[0]\n",
    "ind = ind[0:1000]\n",
    "start_population = [smc_10pM[0][ind,:,-1],smc_10pM[1][:,:,ind],smc_10pM[2][ind,:,-1],smc_10pM[3][:,:,ind]]\n",
    "start_population[0][:,0] = 1./1000."
   ]
  },
  {
   "cell_type": "code",
   "execution_count": 19,
   "metadata": {
    "collapsed": true,
    "level": 7
   },
   "outputs": [
    {
     "name": "stdout",
     "output_type": "stream",
     "text": [
      "# particles better than stop: 0\n",
      "Min start distance: 0.541\n",
      "Mean start distance: 0.708\n",
      "Max start distance: 0.748\n",
      "STD of start distance: 0.034\n",
      "Mean of burst, tau and T: [  5.67    0.805  27.892]\n",
      "STD of burst, tau and T: [ 3.262  0.269  7.599]\n",
      "Iteration: 1\n",
      "Threshold distance 0.681\n",
      "Try: 0 First particles accepted: 23\n",
      "Try: 1 More particles accepted: 33\n",
      "Try: 2 More particles accepted: 44\n",
      "Try: 3 More particles accepted: 55\n",
      "Try: 4 More particles accepted: 66\n",
      "Try: 5 More particles accepted: 79\n",
      "Try: 6 More particles accepted: 94\n",
      "Try: 7 More particles accepted: 105\n",
      "Try: 8 More particles accepted: 112\n",
      "Try: 9 More particles accepted: 123\n",
      "Try: 10 More particles accepted: 132\n",
      "Slow creation of new particles, reduced number of tries to: 15\n",
      "Try: 11 More particles accepted: 146\n",
      "Try: 12 More particles accepted: 151\n",
      "Try: 13 More particles accepted: 162\n",
      "Try: 14 More particles accepted: 169\n",
      "Not enough particles accepted: 169\n",
      "# Created particles: 10675\n",
      "# particles better than stop: 0\n",
      "Min distance of current population: 0.541\n",
      "Mean distance of current population: 0.683\n",
      "Max distance of current population: 0.718\n",
      "Mean of burst, tau and T: [  5.778   0.714  27.89 ]\n",
      "STD of burst, tau and T: [ 3.212  0.242  6.956]\n",
      "Duration of 1 th iteration 86.27 min\n",
      "Iteration: 2\n",
      "Threshold distance 0.66\n",
      "Try: 0 First particles accepted: 13\n",
      "Try: 1 More particles accepted: 21\n",
      "Try: 2 More particles accepted: 29\n",
      "Try: 3 More particles accepted: 39\n",
      "Try: 4 More particles accepted: 43\n",
      "Try: 5 More particles accepted: 53\n",
      "Try: 6 More particles accepted: 62\n",
      "Try: 7 More particles accepted: 69\n",
      "Try: 8 More particles accepted: 80\n",
      "Try: 9 More particles accepted: 94\n",
      "Try: 10 More particles accepted: 102\n",
      "Slow creation of new particles, reduced number of tries to: 15\n",
      "Try: 11 More particles accepted: 111\n",
      "Try: 12 More particles accepted: 124\n",
      "Try: 13 More particles accepted: 128\n",
      "Try: 14 More particles accepted: 134\n",
      "Not enough particles accepted: 134\n",
      "# Created particles: 11032\n",
      "# particles better than stop: 0\n",
      "Min distance of current population: 0.515\n",
      "Mean distance of current population: 0.667\n",
      "Max distance of current population: 0.701\n",
      "Mean of burst, tau and T: [  5.905   0.659  27.807]\n",
      "STD of burst, tau and T: [ 3.164  0.214  6.59 ]\n",
      "Duration of 2 th iteration 88.77 min\n",
      "Iteration: 3\n",
      "Threshold distance 0.646\n",
      "Try: 0 First particles accepted: 7\n",
      "Try: 1 More particles accepted: 13\n",
      "Try: 2 More particles accepted: 21\n",
      "Try: 3 More particles accepted: 29\n",
      "Try: 4 More particles accepted: 34\n",
      "Try: 5 More particles accepted: 36\n",
      "Try: 6 More particles accepted: 39\n",
      "Try: 7 More particles accepted: 48\n",
      "Try: 8 More particles accepted: 50\n",
      "Try: 9 More particles accepted: 55\n",
      "Try: 10 More particles accepted: 59\n",
      "Slow creation of new particles, reduced number of tries to: 15\n",
      "Try: 11 More particles accepted: 61\n",
      "Try: 12 More particles accepted: 66\n",
      "Try: 13 More particles accepted: 74\n",
      "Try: 14 More particles accepted: 80\n",
      "Not enough particles accepted: 80\n",
      "# Created particles: 11408\n",
      "# particles better than stop: 0\n",
      "Min distance of current population: 0.515\n",
      "Mean distance of current population: 0.657\n",
      "Max distance of current population: 0.687\n",
      "Mean of burst, tau and T: [  5.995   0.644  27.97 ]\n",
      "STD of burst, tau and T: [ 3.05   0.208  6.279]\n",
      "Duration of 3 th iteration 91.52 min\n",
      "STOP: no improvement gained, stopped after 2 iterations\n",
      "Duration of iterations: 266.6 min\n"
     ]
    }
   ],
   "source": [
    "alpha = 33.15\n",
    "threshold = 1.\n",
    "save = [True,path+'10pM/','smc_10pM_115_']\n",
    "smc = smc_abc(Data10pM,Mock10pM,start_population,iterations,stop,threshold=threshold,alpha = alpha,save = save)\n",
    "np.save(path+'10pM/smc_10pM_1000_115.npy',smc)"
   ]
  },
  {
   "cell_type": "markdown",
   "metadata": {
    "heading_collapsed": false,
    "level": 3
   },
   "source": [
    "### 14 pM"
   ]
  },
  {
   "cell_type": "code",
   "execution_count": 19,
   "metadata": {
    "code_folding": [],
    "collapsed": true,
    "level": 7
   },
   "outputs": [
    {
     "name": "stdout",
     "output_type": "stream",
     "text": [
      "File: 1 / 35\n",
      "File: 2 / 35\n",
      "File: 3 / 35\n",
      "File: 4 / 35\n",
      "File: 5 / 35\n",
      "File: 6 / 35\n",
      "File: 7 / 35\n",
      "File: 8 / 35\n",
      "File: 9 / 35\n",
      "File: 10 / 35\n",
      "File: 11 / 35\n",
      "File: 12 / 35\n",
      "File: 13 / 35\n",
      "File: 14 / 35\n",
      "File: 15 / 35\n",
      "File: 16 / 35\n",
      "File: 17 / 35\n",
      "File: 18 / 35\n",
      "File: 19 / 35\n",
      "File: 20 / 35\n",
      "File: 21 / 35\n",
      "File: 22 / 35\n",
      "File: 23 / 35\n",
      "File: 24 / 35\n",
      "File: 25 / 35\n",
      "File: 26 / 35\n",
      "File: 27 / 35\n",
      "File: 28 / 35\n",
      "File: 29 / 35\n",
      "File: 30 / 35\n",
      "File: 31 / 35\n",
      "File: 32 / 35\n",
      "File: 33 / 35\n",
      "File: 34 / 35\n",
      "File: 35 / 35\n",
      "Duration: 127.94 min\n",
      "Duration: 2.24 min\n"
     ]
    }
   ],
   "source": [
    "# compare data to blind shooting candidates\n",
    "paths = [cand_path,temp]\n",
    "dist_cand_14pM,par_cand_14pM = particle_distance_lut(Data14pM,Mock14pM,paths)\n",
    "np.save(path + '14pM/dist_cand_14pM.npy',dist_cand_14pM)\n",
    "np.save(path+'14pM/par_cand_14pM.npy',par_cand_14pM)\n",
    "\n",
    "files = corrected_filelist(temp)\n",
    "start_population = best_start_particles(files,dist_cand_14pM,n_particles)\n",
    "np.save(path+'14pM/start_14pM_2000_corrected.npy',start_population)"
   ]
  },
  {
   "cell_type": "code",
   "execution_count": 20,
   "metadata": {
    "collapsed": true,
    "level": 7
   },
   "outputs": [],
   "source": [
    "start_population = np.load(path+'14pM/start_14pM_2000_corrected.npy')\n",
    "start_population[0][:,0] = 1./n_particles"
   ]
  },
  {
   "cell_type": "code",
   "execution_count": 21,
   "metadata": {
    "collapsed": true,
    "level": 7
   },
   "outputs": [
    {
     "name": "stdout",
     "output_type": "stream",
     "text": [
      "# particles better than stop: 0\n",
      "Min start distance: 0.655\n",
      "Mean start distance: 1.078\n",
      "Max start distance: 1.191\n",
      "STD of start distance: 0.095\n",
      "Mean of burst, tau and T: [ 10.614   2.192  39.029]\n",
      "STD of burst, tau and T: [  6.214   1.62   22.248]\n",
      "Iteration: 1\n",
      "Threshold distance 1.007\n",
      "Try: 0 First particles accepted: 5\n",
      "Try: 1 More particles accepted: 20\n",
      "Try: 2 More particles accepted: 31\n",
      "Try: 3 More particles accepted: 47\n",
      "Try: 4 More particles accepted: 62\n",
      "Try: 5 More particles accepted: 76\n",
      "Try: 6 More particles accepted: 96\n",
      "Try: 7 More particles accepted: 119\n",
      "Try: 8 More particles accepted: 136\n",
      "Try: 9 More particles accepted: 159\n",
      "Try: 10 More particles accepted: 181\n",
      "Slow creation of new particles, reduced number of tries to: 15\n",
      "Try: 11 More particles accepted: 194\n",
      "Try: 12 More particles accepted: 208\n",
      "Try: 13 More particles accepted: 234\n",
      "Try: 14 More particles accepted: 250\n",
      "Not enough particles accepted: 250\n",
      "# Created particles: 22432\n",
      "# particles better than stop: 0\n",
      "Min distance of current population: 0.655\n",
      "Mean distance of current population: 1.02\n",
      "Max distance of current population: 1.095\n",
      "Mean of burst, tau and T: [  7.841   1.43   28.607]\n",
      "STD of burst, tau and T: [  3.973   0.992  13.026]\n",
      "Duration of 1 th iteration 200.38 min\n",
      "Iteration: 2\n",
      "Threshold distance 0.974\n",
      "Try: 0 First particles accepted: 12\n",
      "Try: 1 More particles accepted: 20\n",
      "Try: 2 More particles accepted: 32\n",
      "Try: 3 More particles accepted: 45\n",
      "Try: 4 More particles accepted: 59\n",
      "Try: 5 More particles accepted: 64\n",
      "Try: 6 More particles accepted: 73\n",
      "Try: 7 More particles accepted: 82\n",
      "Try: 8 More particles accepted: 92\n",
      "Try: 9 More particles accepted: 99\n",
      "Try: 10 More particles accepted: 112\n",
      "Slow creation of new particles, reduced number of tries to: 15\n",
      "Try: 11 More particles accepted: 125\n",
      "Try: 12 More particles accepted: 136\n",
      "Try: 13 More particles accepted: 142\n",
      "Try: 14 More particles accepted: 153\n",
      "Not enough particles accepted: 153\n",
      "# Created particles: 22907\n",
      "# particles better than stop: 0\n",
      "Min distance of current population: 0.655\n",
      "Mean distance of current population: 0.992\n",
      "Max distance of current population: 1.055\n",
      "Mean of burst, tau and T: [  7.319   1.22   26.261]\n",
      "STD of burst, tau and T: [  3.418   0.816  10.602]\n",
      "Duration of 2 th iteration 202.7 min\n",
      "Iteration: 3\n",
      "Threshold distance 0.955\n",
      "Try: 0 First particles accepted: 16\n",
      "Try: 1 More particles accepted: 26\n",
      "Try: 2 More particles accepted: 32\n",
      "Try: 3 More particles accepted: 37\n",
      "Try: 4 More particles accepted: 40\n",
      "Try: 5 More particles accepted: 47\n",
      "Try: 6 More particles accepted: 50\n",
      "Try: 7 More particles accepted: 55\n",
      "Try: 8 More particles accepted: 60\n",
      "Try: 9 More particles accepted: 64\n",
      "Try: 10 More particles accepted: 67\n",
      "Slow creation of new particles, reduced number of tries to: 15\n",
      "Try: 11 More particles accepted: 72\n",
      "Try: 12 More particles accepted: 75\n",
      "Try: 13 More particles accepted: 79\n",
      "Try: 14 More particles accepted: 85\n",
      "Not enough particles accepted: 85\n",
      "# Created particles: 23280\n",
      "# particles better than stop: 0\n",
      "Min distance of current population: 0.655\n",
      "Mean distance of current population: 0.979\n",
      "Max distance of current population: 1.038\n",
      "Mean of burst, tau and T: [  7.183   1.169  25.654]\n",
      "STD of burst, tau and T: [ 3.193  0.756  9.869]\n",
      "Duration of 3 th iteration 206.45 min\n",
      "STOP: no improvement gained, stopped after 2 iterations\n",
      "Duration of iterations: 609.71 min\n"
     ]
    }
   ],
   "source": [
    "alpha = 33.15\n",
    "threshold = 0.6\n",
    "save = [True,path+'14pM/','smc_14pM_']\n",
    "smc = smc_abc(Data14pM,Mock14pM,start_population,iterations,stop,threshold=threshold,alpha = alpha,save = save)\n",
    "np.save(path+'14pM/smc_14pM_2000_lut.npy',smc)"
   ]
  },
  {
   "cell_type": "markdown",
   "metadata": {
    "level": 4
   },
   "source": [
    "#### Fit 115 model to 14 pM"
   ]
  },
  {
   "cell_type": "code",
   "execution_count": 20,
   "metadata": {
    "collapsed": false,
    "level": 7
   },
   "outputs": [],
   "source": [
    "ind = np.where(smc_14pM[0][:,1,-1] == 5)[0]\n",
    "particles = np.vstack((smc_14pM[0][ind,:,-1],np.zeros((1000 - ind.shape[0],20))))\n",
    "particles[:,0] = 1./1000.\n",
    "sims = np.dstack((smc_14pM[1][:,:,ind],np.zeros((smc_14pM[1].shape[0],smc_14pM[1].shape[1],1000 - ind.shape[0]))))\n",
    "dd = np.zeros((1000 - ind.shape[0],6))\n",
    "dd[:,5] = np.linspace(5,10,1000 - ind.shape[0])\n",
    "dists = np.vstack((smc_14pM[2][ind,:,-1],dd))\n",
    "perts = np.dstack((smc_14pM[3][:,:,ind],np.zeros((smc_14pM[3].shape[0],smc_14pM[3].shape[1],1000 - ind.shape[0]))))\n",
    "start_population = [particles,sims,dists,perts]"
   ]
  },
  {
   "cell_type": "code",
   "execution_count": 21,
   "metadata": {
    "collapsed": true,
    "level": 7
   },
   "outputs": [
    {
     "name": "stdout",
     "output_type": "stream",
     "text": [
      "# particles better than stop: 0\n",
      "Min start distance: 0.587\n",
      "Mean start distance: 2.097\n",
      "Max start distance: 10.0\n",
      "STD of start distance: 2.77\n",
      "Mean of burst, tau and T: [  5.738   0.704  20.898]\n",
      "STD of burst, tau and T: [  4.559   0.45   12.322]\n",
      "Iteration: 1\n",
      "Threshold distance 0.735\n",
      "Try: 0 First particles accepted: 17\n",
      "Try: 1 More particles accepted: 26\n",
      "Try: 2 More particles accepted: 43\n",
      "Try: 3 More particles accepted: 57\n",
      "Try: 4 More particles accepted: 64\n",
      "Try: 5 More particles accepted: 68\n",
      "Try: 6 More particles accepted: 75\n",
      "Try: 7 More particles accepted: 88\n",
      "Try: 8 More particles accepted: 94\n",
      "Try: 9 More particles accepted: 106\n",
      "Try: 10 More particles accepted: 116\n",
      "Slow creation of new particles, reduced number of tries to: 15\n",
      "Try: 11 More particles accepted: 123\n",
      "Try: 12 More particles accepted: 130\n",
      "Try: 13 More particles accepted: 132\n",
      "Try: 14 More particles accepted: 138\n",
      "Not enough particles accepted: 138\n",
      "# Created particles: 10861\n",
      "# particles better than stop: 0\n",
      "Min distance of current population: 0.577\n",
      "Mean distance of current population: 0.741\n",
      "Max distance of current population: 0.784\n",
      "Mean of burst, tau and T: [  5.656   0.826  25.735]\n",
      "STD of burst, tau and T: [ 4.525  0.249  6.559]\n",
      "Duration of 1 th iteration 86.99 min\n",
      "Iteration: 2\n",
      "Threshold distance 0.715\n",
      "Try: 0 First particles accepted: 6\n",
      "Try: 1 More particles accepted: 16\n",
      "Try: 2 More particles accepted: 25\n",
      "Try: 3 More particles accepted: 30\n",
      "Try: 4 More particles accepted: 38\n",
      "Try: 5 More particles accepted: 49\n",
      "Try: 6 More particles accepted: 57\n",
      "Try: 7 More particles accepted: 62\n",
      "Try: 8 More particles accepted: 68\n",
      "Try: 9 More particles accepted: 74\n",
      "Try: 10 More particles accepted: 82\n",
      "Slow creation of new particles, reduced number of tries to: 15\n",
      "Try: 11 More particles accepted: 90\n",
      "Try: 12 More particles accepted: 94\n",
      "Try: 13 More particles accepted: 104\n",
      "Try: 14 More particles accepted: 110\n",
      "Not enough particles accepted: 110\n",
      "# Created particles: 11205\n",
      "# particles better than stop: 0\n",
      "Min distance of current population: 0.565\n",
      "Mean distance of current population: 0.724\n",
      "Max distance of current population: 0.765\n",
      "Mean of burst, tau and T: [  6.3     0.793  25.905]\n",
      "STD of burst, tau and T: [ 4.242  0.237  6.339]\n",
      "Duration of 2 th iteration 94.44 min\n",
      "Iteration: 3\n",
      "Threshold distance 0.7\n",
      "Try: 0 First particles accepted: 5\n",
      "Try: 1 More particles accepted: 7\n",
      "Try: 2 More particles accepted: 10\n",
      "Try: 3 More particles accepted: 19\n",
      "Try: 4 More particles accepted: 24\n",
      "Try: 5 More particles accepted: 27\n",
      "Try: 6 More particles accepted: 34\n",
      "Try: 7 More particles accepted: 36\n",
      "Try: 8 More particles accepted: 41\n",
      "Try: 9 More particles accepted: 47\n",
      "Try: 10 More particles accepted: 56\n",
      "Slow creation of new particles, reduced number of tries to: 15\n",
      "Try: 11 More particles accepted: 63\n",
      "Try: 12 More particles accepted: 64\n",
      "Try: 13 More particles accepted: 66\n",
      "Try: 14 More particles accepted: 72\n",
      "Not enough particles accepted: 72\n",
      "# Created particles: 11501\n",
      "# particles better than stop: 0\n",
      "Min distance of current population: 0.565\n",
      "Mean distance of current population: 0.712\n",
      "Max distance of current population: 0.751\n",
      "Mean of burst, tau and T: [  6.668   0.766  26.211]\n",
      "STD of burst, tau and T: [ 4.215  0.24   6.319]\n",
      "Duration of 3 th iteration 94.21 min\n",
      "STOP: no improvement gained, stopped after 2 iterations\n",
      "Duration of iterations: 275.69 min\n"
     ]
    }
   ],
   "source": [
    "alpha = 33.15\n",
    "threshold = 1.\n",
    "save = [True,path+'14pM/','smc_14pM_115_']\n",
    "smc = smc_abc(Data14pM,Mock14pM,start_population,iterations,stop,threshold=threshold,alpha = alpha,save = save)\n",
    "np.save(path+'14pM/smc_14pM_1000_115.npy',smc)"
   ]
  },
  {
   "cell_type": "markdown",
   "metadata": {
    "collapsed": true,
    "heading_collapsed": false,
    "level": 3
   },
   "source": [
    "### 20 pM, 2nd"
   ]
  },
  {
   "cell_type": "code",
   "execution_count": 22,
   "metadata": {
    "code_folding": [],
    "collapsed": true,
    "level": 7
   },
   "outputs": [
    {
     "name": "stdout",
     "output_type": "stream",
     "text": [
      "File: 1 / 35\n",
      "File: 2 / 35\n",
      "File: 3 / 35\n",
      "File: 4 / 35\n",
      "File: 5 / 35\n",
      "File: 6 / 35\n",
      "File: 7 / 35\n",
      "File: 8 / 35\n",
      "File: 9 / 35\n",
      "File: 10 / 35\n",
      "File: 11 / 35\n",
      "File: 12 / 35\n",
      "File: 13 / 35\n",
      "File: 14 / 35\n",
      "File: 15 / 35\n",
      "File: 16 / 35\n",
      "File: 17 / 35\n",
      "File: 18 / 35\n",
      "File: 19 / 35\n",
      "File: 20 / 35\n",
      "File: 21 / 35\n",
      "File: 22 / 35\n",
      "File: 23 / 35\n",
      "File: 24 / 35\n",
      "File: 25 / 35\n",
      "File: 26 / 35\n",
      "File: 27 / 35\n",
      "File: 28 / 35\n",
      "File: 29 / 35\n",
      "File: 30 / 35\n",
      "File: 31 / 35\n",
      "File: 32 / 35\n",
      "File: 33 / 35\n",
      "File: 34 / 35\n",
      "File: 35 / 35\n",
      "Duration: 142.96 min\n",
      "Duration: 2.48 min\n"
     ]
    }
   ],
   "source": [
    "# compare data to blind shooting candidates\n",
    "paths = [cand_path,temp]\n",
    "dist_cand_20pM,par_cand_20pM = particle_distance_lut(Data20pM,Mock20pM,paths)\n",
    "np.save(path + '20pM/dist_cand_20pM.npy',dist_cand_20pM)\n",
    "np.save(path+'20pM/par_cand_20pM.npy',par_cand_20pM)\n",
    "\n",
    "files = corrected_filelist(temp)\n",
    "start_population = best_start_particles(files,dist_cand_20pM,n_particles)\n",
    "np.save(path+'20pM/start_20pM_2000_corrected.npy',start_population)"
   ]
  },
  {
   "cell_type": "code",
   "execution_count": 23,
   "metadata": {
    "collapsed": true,
    "level": 7
   },
   "outputs": [],
   "source": [
    "start_population = np.load(path+'20pM/start_20pM_2000_corrected.npy')\n",
    "start_population[0][:,0] = 1./n_particles"
   ]
  },
  {
   "cell_type": "code",
   "execution_count": 24,
   "metadata": {
    "collapsed": true,
    "level": 7
   },
   "outputs": [
    {
     "name": "stdout",
     "output_type": "stream",
     "text": [
      "# particles better than stop: 0\n",
      "Min start distance: 0.506\n",
      "Mean start distance: 0.971\n",
      "Max start distance: 1.098\n",
      "STD of start distance: 0.1\n",
      "Mean of burst, tau and T: [ 12.311   2.493  21.765]\n",
      "STD of burst, tau and T: [  6.697   1.547  11.185]\n",
      "Iteration: 1\n",
      "Threshold distance 0.887\n",
      "Try: 0 First particles accepted: 3\n",
      "Try: 1 More particles accepted: 16\n",
      "Try: 2 More particles accepted: 33\n",
      "Try: 3 More particles accepted: 55\n",
      "Try: 4 More particles accepted: 72\n",
      "Try: 5 More particles accepted: 105\n",
      "Try: 6 More particles accepted: 127\n",
      "Try: 7 More particles accepted: 148\n",
      "Try: 8 More particles accepted: 173\n",
      "Try: 9 More particles accepted: 198\n",
      "Try: 10 More particles accepted: 221\n",
      "Slow creation of new particles, reduced number of tries to: 15\n",
      "Try: 11 More particles accepted: 242\n",
      "Try: 12 More particles accepted: 258\n",
      "Try: 13 More particles accepted: 279\n",
      "Try: 14 More particles accepted: 299\n",
      "Not enough particles accepted: 299\n",
      "# Created particles: 22070\n",
      "# particles better than stop: 0\n",
      "Min distance of current population: 0.506\n",
      "Mean distance of current population: 0.899\n",
      "Max distance of current population: 0.978\n",
      "Mean of burst, tau and T: [  9.381   1.466  17.04 ]\n",
      "STD of burst, tau and T: [ 4.557  0.888  7.502]\n",
      "Duration of 1 th iteration 295.64 min\n",
      "Iteration: 2\n",
      "Threshold distance 0.845\n",
      "Try: 0 First particles accepted: 9\n",
      "Try: 1 More particles accepted: 21\n",
      "Try: 2 More particles accepted: 30\n",
      "Try: 3 More particles accepted: 45\n",
      "Try: 4 More particles accepted: 53\n",
      "Try: 5 More particles accepted: 62\n",
      "Try: 6 More particles accepted: 79\n",
      "Try: 7 More particles accepted: 88\n",
      "Try: 8 More particles accepted: 97\n",
      "Try: 9 More particles accepted: 108\n",
      "Try: 10 More particles accepted: 124\n",
      "Slow creation of new particles, reduced number of tries to: 15\n",
      "Try: 11 More particles accepted: 142\n",
      "Try: 12 More particles accepted: 158\n",
      "Try: 13 More particles accepted: 167\n",
      "Try: 14 More particles accepted: 181\n",
      "Not enough particles accepted: 181\n",
      "# Created particles: 22817\n",
      "# particles better than stop: 0\n",
      "Min distance of current population: 0.506\n",
      "Mean distance of current population: 0.867\n",
      "Max distance of current population: 0.932\n",
      "Mean of burst, tau and T: [  8.774   1.252  16.274]\n",
      "STD of burst, tau and T: [ 3.662  0.67   6.217]\n",
      "Duration of 2 th iteration 301.56 min\n",
      "Iteration: 3\n",
      "Threshold distance 0.825\n",
      "Try: 0 First particles accepted: 8\n",
      "Try: 1 More particles accepted: 14\n",
      "Try: 2 More particles accepted: 24\n",
      "Try: 3 More particles accepted: 30\n",
      "Try: 4 More particles accepted: 37\n",
      "Try: 5 More particles accepted: 44\n",
      "Try: 6 More particles accepted: 51\n",
      "Try: 7 More particles accepted: 60\n",
      "Try: 8 More particles accepted: 72\n",
      "Try: 9 More particles accepted: 83\n",
      "Try: 10 More particles accepted: 92\n",
      "Slow creation of new particles, reduced number of tries to: 15\n",
      "Try: 11 More particles accepted: 103\n",
      "Try: 12 More particles accepted: 108\n",
      "Try: 13 More particles accepted: 113\n",
      "Try: 14 More particles accepted: 123\n",
      "Not enough particles accepted: 123\n",
      "# Created particles: 23161\n",
      "# particles better than stop: 0\n",
      "Min distance of current population: 0.506\n",
      "Mean distance of current population: 0.848\n",
      "Max distance of current population: 0.906\n",
      "Mean of burst, tau and T: [  8.552   1.161  15.928]\n",
      "STD of burst, tau and T: [ 3.392  0.577  5.735]\n",
      "Duration of 3 th iteration 305.26 min\n",
      "Iteration: 4\n",
      "Threshold distance 0.813\n",
      "Try: 0 First particles accepted: 4\n",
      "Try: 1 More particles accepted: 9\n",
      "Try: 2 More particles accepted: 15\n",
      "Try: 3 More particles accepted: 20\n",
      "Try: 4 More particles accepted: 28\n",
      "Try: 5 More particles accepted: 29\n",
      "Try: 6 More particles accepted: 34\n",
      "Try: 7 More particles accepted: 38\n",
      "Try: 8 More particles accepted: 43\n",
      "Try: 9 More particles accepted: 49\n",
      "Try: 10 More particles accepted: 56\n",
      "Slow creation of new particles, reduced number of tries to: 15\n",
      "Try: 11 More particles accepted: 65\n",
      "Try: 12 More particles accepted: 68\n",
      "Try: 13 More particles accepted: 78\n",
      "Try: 14 More particles accepted: 80\n",
      "Not enough particles accepted: 80\n",
      "# Created particles: 23464\n",
      "# particles better than stop: 0\n",
      "Min distance of current population: 0.506\n",
      "Mean distance of current population: 0.836\n",
      "Max distance of current population: 0.89\n",
      "Mean of burst, tau and T: [  8.408   1.123  15.728]\n",
      "STD of burst, tau and T: [ 3.153  0.543  5.293]\n",
      "Duration of 4 th iteration 321.58 min\n",
      "STOP: no improvement gained, stopped after 3 iterations\n",
      "Duration of iterations: 1224.31 min\n"
     ]
    }
   ],
   "source": [
    "alpha = 33.15\n",
    "threshold = 0.6\n",
    "save = [True,path+'20pM/','smc_20pM_']\n",
    "smc = smc_abc(Data20pM,Mock20pM,start_population,iterations,stop,threshold=threshold,alpha = alpha,save = save)\n",
    "np.save(path+'20pM/smc_20pM_2000_lut.npy',smc)"
   ]
  },
  {
   "cell_type": "markdown",
   "metadata": {
    "level": 4
   },
   "source": [
    "#### Fit 115 model to 20 pM data"
   ]
  },
  {
   "cell_type": "code",
   "execution_count": 22,
   "metadata": {
    "collapsed": true,
    "level": 7
   },
   "outputs": [
    {
     "name": "stdout",
     "output_type": "stream",
     "text": [
      "Try: 0 First particles accepted: 442\n",
      "Try: 1 More particles accepted: 620\n",
      "Try: 2 More particles accepted: 732\n",
      "Try: 3 More particles accepted: 808\n",
      "Try: 4 More particles accepted: 855\n",
      "Try: 5 More particles accepted: 882\n",
      "Try: 6 More particles accepted: 906\n",
      "Try: 7 More particles accepted: 922\n",
      "Try: 8 More particles accepted: 938\n",
      "Try: 9 More particles accepted: 950\n",
      "Try: 10 More particles accepted: 958\n",
      "Try: 11 More particles accepted: 963\n",
      "Try: 12 More particles accepted: 968\n",
      "Try: 13 No particles accepted\n",
      "Try: 14 More particles accepted: 970\n",
      "Try: 15 More particles accepted: 972\n",
      "Try: 16 More particles accepted: 974\n",
      "Try: 17 More particles accepted: 976\n",
      "Try: 18 No particles accepted\n",
      "Try: 19 More particles accepted: 977\n",
      "Not enough particles accepted: 977\n",
      "# Created particles: 2802\n"
     ]
    }
   ],
   "source": [
    "alpha = 33.15\n",
    "threshold = 1.\n",
    "ind = np.where(smc_20pM[0][:,1,-1] == 5)[0]\n",
    "n_new = 1000 - ind.shape[0]\n",
    "max_dist = 1.\n",
    "\n",
    "# not enough 115 particles, fill up the start population by a prior iteration of the SMC algorithm\n",
    "new_particles = create_new_particles_below_max_dist(Data20pM, Mock20pM, smc_20pM[0][ind,:,-1], max_dist, \n",
    "                                                    n_new, alpha, threshold,)"
   ]
  },
  {
   "cell_type": "code",
   "execution_count": 23,
   "metadata": {
    "collapsed": false,
    "level": 7
   },
   "outputs": [],
   "source": [
    "dists = np.vstack((smc_20pM[2][ind,:,-1],new_particles[2]))\n",
    "ind_sort = np.argsort(dists[:,-1])\n",
    "dists = dists[ind_sort]\n",
    "particles = np.vstack((smc_20pM[0][ind,:,-1],new_particles[0]))\n",
    "particles = particles[ind_sort]\n",
    "sims = np.dstack((smc_20pM[1][:,:,ind],new_particles[1]))\n",
    "sims = sims[:,:,ind_sort]\n",
    "perts = np.dstack((smc_20pM[3][:,:,ind],new_particles[3]))\n",
    "perts = perts[:,:,ind_sort]\n",
    "start_population = [particles,sims,dists,perts]\n",
    "start_population[0][:,0] = 1./1000."
   ]
  },
  {
   "cell_type": "code",
   "execution_count": 24,
   "metadata": {
    "collapsed": true,
    "level": 7
   },
   "outputs": [
    {
     "name": "stdout",
     "output_type": "stream",
     "text": [
      "# particles better than stop: 0\n",
      "Min start distance: 0.573\n",
      "Mean start distance: 0.86\n",
      "Max start distance: 1.0\n",
      "STD of start distance: 0.094\n",
      "Mean of burst, tau and T: [ 10.779   0.833  17.886]\n",
      "STD of burst, tau and T: [ 4.807  0.336  7.816]\n",
      "Iteration: 1\n",
      "Threshold distance 0.775\n",
      "Try: 0 First particles accepted: 84\n",
      "Try: 1 More particles accepted: 133\n",
      "Try: 2 More particles accepted: 183\n",
      "Try: 3 More particles accepted: 217\n",
      "Try: 4 More particles accepted: 251\n",
      "Try: 5 More particles accepted: 285\n",
      "Try: 6 More particles accepted: 307\n",
      "Try: 7 More particles accepted: 330\n",
      "Try: 8 More particles accepted: 356\n",
      "Try: 9 More particles accepted: 376\n",
      "Try: 10 More particles accepted: 408\n",
      "Try: 11 More particles accepted: 436\n",
      "Try: 12 More particles accepted: 453\n",
      "Try: 13 More particles accepted: 472\n",
      "Try: 14 More particles accepted: 493\n",
      "Try: 15 More particles accepted: 515\n",
      "Try: 16 More particles accepted: 538\n",
      "Try: 17 More particles accepted: 557\n",
      "Try: 18 More particles accepted: 573\n",
      "Try: 19 More particles accepted: 596\n",
      "Not enough particles accepted: 596\n",
      "# Created particles: 9033\n",
      "# particles better than stop: 0\n",
      "Min distance of current population: 0.559\n",
      "Mean distance of current population: 0.734\n",
      "Max distance of current population: 0.795\n",
      "Mean of burst, tau and T: [ 10.036   0.727  16.694]\n",
      "STD of burst, tau and T: [ 3.065  0.256  4.999]\n",
      "Duration of 1 th iteration 107.55 min\n",
      "Iteration: 2\n",
      "Threshold distance 0.697\n",
      "Try: 0 First particles accepted: 20\n",
      "Try: 1 More particles accepted: 34\n",
      "Try: 2 More particles accepted: 51\n",
      "Try: 3 More particles accepted: 68\n",
      "Try: 4 More particles accepted: 92\n",
      "Try: 5 More particles accepted: 106\n",
      "Try: 6 More particles accepted: 118\n",
      "Try: 7 More particles accepted: 137\n",
      "Try: 8 More particles accepted: 149\n",
      "Try: 9 More particles accepted: 165\n",
      "Try: 10 More particles accepted: 177\n",
      "Slow creation of new particles, reduced number of tries to: 15\n",
      "Try: 11 More particles accepted: 191\n",
      "Try: 12 More particles accepted: 209\n",
      "Try: 13 More particles accepted: 228\n",
      "Try: 14 More particles accepted: 242\n",
      "Not enough particles accepted: 242\n",
      "# Created particles: 10255\n",
      "# particles better than stop: 0\n",
      "Min distance of current population: 0.553\n",
      "Mean distance of current population: 0.695\n",
      "Max distance of current population: 0.742\n",
      "Mean of burst, tau and T: [  9.694   0.665  16.16 ]\n",
      "STD of burst, tau and T: [ 2.56   0.223  4.075]\n",
      "Duration of 2 th iteration 122.79 min\n",
      "Iteration: 3\n",
      "Threshold distance 0.665\n",
      "Try: 0 First particles accepted: 10\n",
      "Try: 1 More particles accepted: 20\n",
      "Try: 2 More particles accepted: 33\n",
      "Try: 3 More particles accepted: 46\n",
      "Try: 4 More particles accepted: 57\n",
      "Try: 5 More particles accepted: 64\n",
      "Try: 6 More particles accepted: 69\n",
      "Try: 7 More particles accepted: 81\n",
      "Try: 8 More particles accepted: 92\n",
      "Try: 9 More particles accepted: 100\n",
      "Try: 10 More particles accepted: 109\n",
      "Slow creation of new particles, reduced number of tries to: 15\n",
      "Try: 11 More particles accepted: 119\n",
      "Try: 12 More particles accepted: 126\n",
      "Try: 13 More particles accepted: 137\n",
      "Try: 14 More particles accepted: 149\n",
      "Not enough particles accepted: 149\n",
      "# Created particles: 10937\n",
      "# particles better than stop: 0\n",
      "Min distance of current population: 0.545\n",
      "Mean distance of current population: 0.671\n",
      "Max distance of current population: 0.71\n",
      "Mean of burst, tau and T: [  9.417   0.628  15.884]\n",
      "STD of burst, tau and T: [ 2.243  0.21   3.572]\n",
      "Duration of 3 th iteration 131.46 min\n",
      "STOP: no improvement gained, stopped after 2 iterations\n",
      "Duration of iterations: 361.84 min\n"
     ]
    }
   ],
   "source": [
    "save = [True,path+'20pM/','smc_20pM_115_']\n",
    "smc = smc_abc(Data20pM,Mock20pM,start_population,iterations,stop,threshold=threshold,alpha = alpha,save = save)\n",
    "np.save(path+'20pM/smc_20pM_1000_115.npy',smc)"
   ]
  },
  {
   "cell_type": "markdown",
   "metadata": {
    "heading_collapsed": false,
    "level": 3
   },
   "source": [
    "### 100 pM, 2nd"
   ]
  },
  {
   "cell_type": "code",
   "execution_count": 25,
   "metadata": {
    "code_folding": [],
    "collapsed": true,
    "level": 7
   },
   "outputs": [
    {
     "name": "stdout",
     "output_type": "stream",
     "text": [
      "File: 1 / 35\n",
      "File: 2 / 35\n",
      "File: 3 / 35\n",
      "File: 4 / 35\n",
      "File: 5 / 35\n",
      "File: 6 / 35\n",
      "File: 7 / 35\n",
      "File: 8 / 35\n",
      "File: 9 / 35\n",
      "File: 10 / 35\n",
      "File: 11 / 35\n",
      "File: 12 / 35\n",
      "File: 13 / 35\n",
      "File: 14 / 35\n",
      "File: 15 / 35\n",
      "File: 16 / 35\n",
      "File: 17 / 35\n",
      "File: 18 / 35\n",
      "File: 19 / 35\n",
      "File: 20 / 35\n",
      "File: 21 / 35\n",
      "File: 22 / 35\n",
      "File: 23 / 35\n",
      "File: 24 / 35\n",
      "File: 25 / 35\n",
      "File: 26 / 35\n",
      "File: 27 / 35\n",
      "File: 28 / 35\n",
      "File: 29 / 35\n",
      "File: 30 / 35\n",
      "File: 31 / 35\n",
      "File: 32 / 35\n",
      "File: 33 / 35\n",
      "File: 34 / 35\n",
      "File: 35 / 35\n",
      "Duration: 114.12 min\n",
      "Duration: 1.84 min\n"
     ]
    }
   ],
   "source": [
    "# compare data to blind shooting candidates\n",
    "paths = [cand_path,temp]\n",
    "dist_cand_100pM,par_cand_100pM = particle_distance_lut(Data100pM,Mock100pM,paths)\n",
    "np.save(path + '100pM/dist_cand_100pM.npy',dist_cand_100pM)\n",
    "np.save(path+'100pM/par_cand_100pM.npy',par_cand_100pM)\n",
    "\n",
    "files = corrected_filelist(temp)\n",
    "start_population = best_start_particles(files,dist_cand_100pM,n_particles)\n",
    "np.save(path+'100pM/start_100pM_2000_corrected.npy',start_population)"
   ]
  },
  {
   "cell_type": "code",
   "execution_count": null,
   "metadata": {
    "collapsed": false,
    "level": 7
   },
   "outputs": [],
   "source": [
    "start_population = np.load(path+'100pM/start_100pM_2000_corrected.npy')\n",
    "start_population[0][:,0] = 1./n_particles"
   ]
  },
  {
   "cell_type": "code",
   "execution_count": null,
   "metadata": {
    "collapsed": true,
    "level": 7
   },
   "outputs": [
    {
     "name": "stdout",
     "output_type": "stream",
     "text": [
      "# particles better than stop: 0\n",
      "Min start distance: 0.746\n",
      "Mean start distance: 1.172\n",
      "Max start distance: 1.289\n",
      "STD of start distance: 0.093\n",
      "Mean of burst, tau and T: [ 17.658   4.128  25.478]\n",
      "STD of burst, tau and T: [  9.62    3.472  13.08 ]\n",
      "Iteration: 1\n",
      "Threshold distance 1.095\n",
      "Try: 0 No particles accepted\n",
      "Try: 1 No particles accepted\n",
      "Try: 2 No particles accepted\n",
      "Try: 3 No particles accepted\n",
      "Try: 4 No particles accepted\n",
      "Try: 5 No particles accepted\n",
      "Try: 6 No particles accepted\n",
      "Try: 7 No particles accepted\n",
      "Try: 8 No particles accepted\n",
      "Try: 9 No particles accepted\n",
      "Try: 10 First particles accepted: 2\n",
      "Slow creation of new particles, reduced number of tries to: 15\n",
      "Try: 11 More particles accepted: 10\n",
      "Try: 12 More particles accepted: 17\n",
      "Try: 13 More particles accepted: 26\n",
      "Try: 14 More particles accepted: 35\n",
      "Not enough particles accepted: 35\n",
      "# Created particles: 23945\n",
      "# particles better than stop: 0\n",
      "Min distance of current population: 0.746\n",
      "Mean distance of current population: 1.146\n",
      "Max distance of current population: 1.239\n",
      "Mean of burst, tau and T: [ 23.177   8.405  26.057]\n",
      "STD of burst, tau and T: [ 13.798   8.433  10.994]\n",
      "Duration of 1 th iteration 293.24 min\n",
      "Iteration: 2\n",
      "Threshold distance 1.087\n",
      "Try: 0 First particles accepted: 2\n",
      "Try: 1 More particles accepted: 18\n",
      "Try: 2 More particles accepted: 30\n",
      "Try: 3 More particles accepted: 48\n",
      "Try: 4 More particles accepted: 53\n",
      "Try: 5 More particles accepted: 70\n",
      "Try: 6 More particles accepted: 87\n",
      "Try: 7 More particles accepted: 101\n",
      "Try: 8 More particles accepted: 109\n",
      "Try: 9 More particles accepted: 123\n",
      "Try: 10 More particles accepted: 138\n",
      "Slow creation of new particles, reduced number of tries to: 15\n",
      "Try: 11 More particles accepted: 154\n",
      "Try: 12 More particles accepted: 167\n",
      "Try: 13 More particles accepted: 181\n",
      "Try: 14 More particles accepted: 193\n",
      "Not enough particles accepted: 193\n",
      "# Created particles: 22719\n",
      "# particles better than stop: 0\n",
      "Min distance of current population: 0.746\n",
      "Mean distance of current population: 1.101\n",
      "Max distance of current population: 1.159\n",
      "Mean of burst, tau and T: [ 33.874  19.394  27.366]\n",
      "STD of burst, tau and T: [ 17.185  15.399   8.331]\n",
      "Duration of 2 th iteration 321.47 min\n",
      "Iteration: 3\n",
      "Threshold distance 1.069\n",
      "Try: 0 First particles accepted: 11\n",
      "Try: 1 More particles accepted: 19\n",
      "Try: 2 More particles accepted: 30\n",
      "Try: 3 More particles accepted: 47\n",
      "Try: 4 More particles accepted: 58\n",
      "Try: 5 More particles accepted: 74\n",
      "Try: 6 More particles accepted: 87\n",
      "Try: 7 More particles accepted: 102\n",
      "Try: 8 More particles accepted: 116\n",
      "Try: 9 More particles accepted: 132\n",
      "Try: 10 More particles accepted: 149\n",
      "Slow creation of new particles, reduced number of tries to: 15\n",
      "Try: 11 More particles accepted: 168\n",
      "Try: 12 More particles accepted: 182\n",
      "Try: 13 More particles accepted: 193\n",
      "Try: 14 More particles accepted: 208\n",
      "Not enough particles accepted: 208\n",
      "# Created particles: 22632\n",
      "# particles better than stop: 0\n",
      "Min distance of current population: 0.746\n",
      "Mean distance of current population: 1.078\n",
      "Max distance of current population: 1.13\n",
      "Mean of burst, tau and T: [ 37.19   26.103  27.73 ]\n",
      "STD of burst, tau and T: [ 18.445  20.803   7.641]\n",
      "Duration of 3 th iteration 322.57 min\n",
      "Iteration: 4\n",
      "Threshold distance 1.048\n",
      "Try: 0 First particles accepted: 16\n",
      "Try: 1 More particles accepted: 30\n",
      "Try: 2 More particles accepted: 43\n",
      "Try: 3 More particles accepted: 59\n",
      "Try: 4 More particles accepted: 79\n",
      "Try: 5 More particles accepted: 102\n",
      "Try: 6 More particles accepted: 126\n",
      "Try: 7 More particles accepted: 142\n",
      "Try: 8 More particles accepted: 171\n",
      "Try: 9 More particles accepted: 188\n",
      "Try: 10 More particles accepted: 203\n",
      "Slow creation of new particles, reduced number of tries to: 15\n",
      "Try: 11 More particles accepted: 222\n",
      "Try: 12 More particles accepted: 234\n",
      "Try: 13 More particles accepted: 252\n",
      "Try: 14 More particles accepted: 267\n",
      "Not enough particles accepted: 267\n",
      "# Created particles: 22133\n",
      "# particles better than stop: 0\n",
      "Min distance of current population: 0.746\n",
      "Mean distance of current population: 1.054\n",
      "Max distance of current population: 1.103\n",
      "Mean of burst, tau and T: [ 40.67   34.245  28.025]\n",
      "STD of burst, tau and T: [ 20.871  25.26    7.155]\n",
      "Duration of 4 th iteration 318.51 min\n",
      "Iteration: 5\n",
      "Threshold distance 1.022\n",
      "Try: 0 First particles accepted: 9\n",
      "Try: 1 More particles accepted: 26\n"
     ]
    }
   ],
   "source": [
    "alpha = 23.3\n",
    "threshold = 0.6\n",
    "save = [True,path+'100pM/','smc_100pM_']\n",
    "smc = smc_abc(Data100pM_2,Mock100pM_2,start_population,iterations,stop,threshold=threshold,alpha = alpha,save = save)\n",
    "np.save(path+'100pM/smc_100pM_2000_lut.npy',smc)"
   ]
  },
  {
   "cell_type": "markdown",
   "metadata": {
    "level": 4
   },
   "source": [
    "#### Fit 115 model to 100 pM"
   ]
  },
  {
   "cell_type": "code",
   "execution_count": 28,
   "metadata": {
    "collapsed": true,
    "level": 7
   },
   "outputs": [],
   "source": [
    "# load 100 pM fitting results\n",
    "smc_100pM = np.load(path+'100pM/smc_100pM_2000_lut.npy')"
   ]
  },
  {
   "cell_type": "code",
   "execution_count": 29,
   "metadata": {
    "collapsed": true
   },
   "outputs": [
    {
     "name": "stdout",
     "output_type": "stream",
     "text": [
      "Try: 0 First particles accepted: 681\n",
      "Try: 1 More particles accepted: 827\n",
      "Try: 2 More particles accepted: 897\n",
      "Try: 3 More particles accepted: 928\n",
      "Try: 4 More particles accepted: 951\n",
      "Try: 5 More particles accepted: 963\n",
      "Try: 6 More particles accepted: 973\n",
      "Enough particles accepted: 973\n",
      "# Created particles: 1550\n"
     ]
    }
   ],
   "source": [
    "alpha = 23.3\n",
    "threshold = 1.\n",
    "ind = np.where(smc_100pM[0][:,1,-1] == 5)[0]\n",
    "n_new = 1000 - ind.shape[0]\n",
    "max_dist = 1.5\n",
    "\n",
    "new_particles = create_new_particles_below_max_dist(Data100pM, Mock100pM, smc_100pM[0][ind,:,-1], max_dist, \n",
    "                                                    n_new, alpha, threshold,)"
   ]
  },
  {
   "cell_type": "code",
   "execution_count": 30,
   "metadata": {
    "collapsed": true,
    "level": 7
   },
   "outputs": [],
   "source": [
    "dists = np.vstack((smc_100pM[2][ind,:,-1],new_particles[2]))\n",
    "ind_sort = np.argsort(dists[:,-1])\n",
    "dists = dists[ind_sort]\n",
    "particles = np.vstack((smc_100pM[0][ind,:,-1],new_particles[0]))\n",
    "particles = particles[ind_sort]\n",
    "sims = np.dstack((smc_100pM[1][:,:,ind],new_particles[1]))\n",
    "sims = sims[:,:,ind_sort]\n",
    "perts = np.dstack((smc_100pM[3][:,:,ind],new_particles[3]))\n",
    "perts = perts[:,:,ind_sort]\n",
    "start_population = [particles,sims,dists,perts]\n",
    "start_population[0][:,0] = 1./1000.\n",
    "np.save(path+'100pM/start_100pM_1000_115.npy',start_population)"
   ]
  },
  {
   "cell_type": "code",
   "execution_count": 31,
   "metadata": {
    "collapsed": true,
    "level": 7
   },
   "outputs": [
    {
     "name": "stdout",
     "output_type": "stream",
     "text": [
      "# particles better than stop: 0\n",
      "Min start distance: 0.816\n",
      "Mean start distance: 1.279\n",
      "Max start distance: 1.496\n",
      "STD of start distance: 0.139\n",
      "Mean of burst, tau and T: [ 34.447   9.993  33.34 ]\n",
      "STD of burst, tau and T: [ 21.497   7.958  22.507]\n",
      "Iteration: 1\n",
      "Threshold distance 1.157\n",
      "Try: 0 First particles accepted: 123\n",
      "Try: 1 More particles accepted: 175\n",
      "Try: 2 More particles accepted: 243\n",
      "Try: 3 More particles accepted: 291\n",
      "Try: 4 More particles accepted: 340\n",
      "Try: 5 More particles accepted: 381\n",
      "Try: 6 More particles accepted: 426\n",
      "Try: 7 More particles accepted: 459\n",
      "Try: 8 More particles accepted: 498\n",
      "Try: 9 More particles accepted: 526\n",
      "Try: 10 More particles accepted: 551\n",
      "Try: 11 More particles accepted: 577\n",
      "Try: 12 More particles accepted: 598\n",
      "Try: 13 More particles accepted: 616\n",
      "Try: 14 More particles accepted: 639\n",
      "Try: 15 More particles accepted: 648\n",
      "Try: 16 More particles accepted: 657\n",
      "Try: 17 More particles accepted: 668\n",
      "Try: 18 More particles accepted: 681\n",
      "Try: 19 More particles accepted: 689\n",
      "Not enough particles accepted: 689\n",
      "# Created particles: 6903\n",
      "# particles better than stop: 0\n",
      "Min distance of current population: 0.741\n",
      "Mean distance of current population: 1.098\n",
      "Max distance of current population: 1.166\n",
      "Mean of burst, tau and T: [ 32.403  12.385  24.687]\n",
      "STD of burst, tau and T: [ 14.199  11.033   8.014]\n",
      "Duration of 1 th iteration 85.22 min\n",
      "Iteration: 2\n",
      "Threshold distance 1.059\n",
      "Try: 0 First particles accepted: 30\n",
      "Try: 1 More particles accepted: 49\n",
      "Try: 2 More particles accepted: 73\n",
      "Try: 3 More particles accepted: 97\n",
      "Try: 4 More particles accepted: 116\n",
      "Try: 5 More particles accepted: 133\n",
      "Try: 6 More particles accepted: 155\n",
      "Try: 7 More particles accepted: 170\n",
      "Try: 8 More particles accepted: 197\n",
      "Try: 9 More particles accepted: 216\n",
      "Try: 10 More particles accepted: 234\n",
      "Slow creation of new particles, reduced number of tries to: 15\n",
      "Try: 11 More particles accepted: 247\n",
      "Try: 12 More particles accepted: 266\n",
      "Try: 13 More particles accepted: 281\n",
      "Try: 14 More particles accepted: 300\n",
      "Not enough particles accepted: 300\n",
      "# Created particles: 9736\n",
      "# particles better than stop: 0\n",
      "Min distance of current population: 0.741\n",
      "Mean distance of current population: 1.042\n",
      "Max distance of current population: 1.1\n",
      "Mean of burst, tau and T: [ 35.474  20.646  23.375]\n",
      "STD of burst, tau and T: [ 22.408  29.948   6.828]\n",
      "Duration of 2 th iteration 117.58 min\n",
      "Iteration: 3\n",
      "Threshold distance 1.003\n",
      "Try: 0 First particles accepted: 16\n",
      "Try: 1 More particles accepted: 28\n",
      "Try: 2 More particles accepted: 39\n",
      "Try: 3 More particles accepted: 48\n",
      "Try: 4 More particles accepted: 63\n",
      "Try: 5 More particles accepted: 64\n",
      "Try: 6 No particles accepted\n",
      "Try: 7 No particles accepted\n",
      "Try: 8 No particles accepted\n",
      "Try: 9 No particles accepted\n",
      "Try: 10 No particles accepted\n",
      "Slow creation of new particles, reduced number of tries to: 15\n",
      "Try: 11 More particles accepted: 66\n",
      "Try: 12 No particles accepted\n",
      "Try: 13 More particles accepted: 67\n",
      "Try: 14 More particles accepted: 68\n",
      "Not enough particles accepted: 68\n",
      "# Created particles: 11223\n",
      "# particles better than stop: 0\n",
      "Min distance of current population: 0.708\n",
      "Mean distance of current population: 1.021\n",
      "Max distance of current population: 1.074\n",
      "Mean of burst, tau and T: [ 33.944  16.345  23.54 ]\n",
      "STD of burst, tau and T: [ 19.99   24.903   6.762]\n",
      "Duration of 3 th iteration 133.43 min\n",
      "Iteration: 4\n",
      "Threshold distance 0.989\n",
      "Try: 0 First particles accepted: 1\n",
      "Try: 1 More particles accepted: 2\n",
      "Try: 2 No particles accepted\n",
      "Try: 3 No particles accepted\n",
      "Try: 4 No particles accepted\n",
      "Try: 5 No particles accepted\n",
      "Try: 6 No particles accepted\n",
      "Try: 7 No particles accepted\n",
      "Try: 8 No particles accepted\n",
      "Try: 9 More particles accepted: 3\n",
      "Try: 10 More particles accepted: 4\n",
      "Slow creation of new particles, reduced number of tries to: 15\n",
      "Try: 11 No particles accepted\n",
      "Try: 12 No particles accepted\n",
      "Try: 13 No particles accepted\n",
      "Try: 14 More particles accepted: 5\n",
      "Not enough particles accepted: 5\n",
      "# Created particles: 11964\n",
      "# particles better than stop: 0\n",
      "Min distance of current population: 0.708\n",
      "Mean distance of current population: 1.015\n",
      "Max distance of current population: 1.064\n",
      "Mean of burst, tau and T: [ 35.011  16.396  23.677]\n",
      "STD of burst, tau and T: [ 19.085  22.634   6.429]\n",
      "Duration of 4 th iteration 143.87 min\n",
      "STOP: no improvement gained, stopped after 3 iterations\n",
      "Duration of iterations: 480.15 min\n"
     ]
    }
   ],
   "source": [
    "save = [True,path+'100pM/','smc_100pM_115_']\n",
    "smc = smc_abc(Data100pM,Mock100pM,start_population,iterations,stop,threshold=threshold,alpha = alpha,save = save)\n",
    "np.save(path+'100pM/smc_100pM_1000_115.npy',smc)"
   ]
  },
  {
   "cell_type": "markdown",
   "metadata": {
    "collapsed": true,
    "heading_collapsed": false,
    "level": 3
   },
   "source": [
    "### 1000 pM, 2nd"
   ]
  },
  {
   "cell_type": "code",
   "execution_count": 8,
   "metadata": {
    "code_folding": [],
    "collapsed": true,
    "level": 7
   },
   "outputs": [
    {
     "name": "stdout",
     "output_type": "stream",
     "text": [
      "File: 1 / 35\n",
      "File: 2 / 35\n",
      "File: 3 / 35\n",
      "File: 4 / 35\n",
      "File: 5 / 35\n",
      "File: 6 / 35\n",
      "File: 7 / 35\n",
      "File: 8 / 35\n",
      "File: 9 / 35\n",
      "File: 10 / 35\n",
      "File: 11 / 35\n",
      "File: 12 / 35\n",
      "File: 13 / 35\n",
      "File: 14 / 35\n",
      "File: 15 / 35\n",
      "File: 16 / 35\n",
      "File: 17 / 35\n",
      "File: 18 / 35\n",
      "File: 19 / 35\n",
      "File: 20 / 35\n",
      "File: 21 / 35\n",
      "File: 22 / 35\n",
      "File: 23 / 35\n",
      "File: 24 / 35\n",
      "File: 25 / 35\n",
      "File: 26 / 35\n",
      "File: 27 / 35\n",
      "File: 28 / 35\n",
      "File: 29 / 35\n",
      "File: 30 / 35\n",
      "File: 31 / 35\n",
      "File: 32 / 35\n",
      "File: 33 / 35\n",
      "File: 34 / 35\n",
      "File: 35 / 35\n",
      "Duration: 100.5 min\n",
      "Duration: 1.74 min\n"
     ]
    }
   ],
   "source": [
    "# compare data to blind shooting candidates\n",
    "paths = [cand_path,temp]\n",
    "dist_cand_1000pM,par_cand_1000pM = particle_distance_lut(Data1000pM,Mock1000pM,paths)\n",
    "np.save(path + '1000pM/dist_cand_1000pM.npy',dist_cand_1000pM)\n",
    "np.save(path+'1000pM/par_cand_1000pM.npy',par_cand_1000pM)\n",
    "\n",
    "files = corrected_filelist(temp)\n",
    "start_population = best_start_particles(files,dist_cand_1000pM,n_particles)\n",
    "np.save(path+'1000pM/start_1000pM_2000_corrected.npy',start_population)"
   ]
  },
  {
   "cell_type": "code",
   "execution_count": null,
   "metadata": {
    "collapsed": true,
    "level": 7
   },
   "outputs": [],
   "source": [
    "start_population = np.load(path+'1000pM/start_1000pM_2000_corrected.npy')\n",
    "start_population[0][:,0] = 1./n_particles"
   ]
  },
  {
   "cell_type": "code",
   "execution_count": null,
   "metadata": {
    "collapsed": true,
    "level": 7
   },
   "outputs": [
    {
     "name": "stdout",
     "output_type": "stream",
     "text": [
      "# particles better than stop: 0\n",
      "Min start distance: 0.954\n",
      "Mean start distance: 1.471\n",
      "Max start distance: 1.612\n",
      "STD of start distance: 0.118\n",
      "Mean of burst, tau and T: [ 19.281   4.838  15.694]\n",
      "STD of burst, tau and T: [ 11.221   4.849   9.195]\n",
      "Iteration: 1\n",
      "Threshold distance 1.381\n"
     ]
    },
    {
     "name": "stderr",
     "output_type": "stream",
     "text": [
      "<string>:748: VisibleDeprecationWarning: using a non-integer number instead of an integer will result in an error in the future\n",
      "<string>:749: VisibleDeprecationWarning: using a non-integer number instead of an integer will result in an error in the future\n"
     ]
    },
    {
     "name": "stdout",
     "output_type": "stream",
     "text": [
      "Try: 0 No particles accepted\n",
      "Try: 1 No particles accepted\n",
      "Try: 2 First particles accepted: 1\n",
      "Try: 3 More particles accepted: 3\n"
     ]
    }
   ],
   "source": [
    "alpha = 23.3\n",
    "threshold = 0.6\n",
    "save = [True,path+'1000pM/','smc_1000pM_']\n",
    "smc = smc_abc(Data1000pM,Mock1000pM,start_population,iterations,stop,alpha = alpha,save = save)\n",
    "np.save(path+'1000pM/smc_1000pM_2000_lut.npy',smc)"
   ]
  },
  {
   "cell_type": "markdown",
   "metadata": {
    "collapsed": true,
    "level": 4
   },
   "source": [
    "#### Fit 115 model to 1000 pM"
   ]
  },
  {
   "cell_type": "code",
   "execution_count": 9,
   "metadata": {
    "collapsed": true,
    "level": 7
   },
   "outputs": [],
   "source": [
    "# load 1000 pM data\n",
    "smc_1000pM = np.load(path+'1000pM/smc_1000pM_2000_lut.npy')"
   ]
  },
  {
   "cell_type": "code",
   "execution_count": 10,
   "metadata": {
    "collapsed": true
   },
   "outputs": [],
   "source": [
    "alpha = 23.3\n",
    "threshold = 1.\n",
    "ind = np.where(smc_1000pM[0][:,1,-1] == 5)[0]"
   ]
  },
  {
   "cell_type": "code",
   "execution_count": 22,
   "metadata": {
    "collapsed": true,
    "level": 7
   },
   "outputs": [
    {
     "name": "stdout",
     "output_type": "stream",
     "text": [
      "Try: 0 First particles accepted: 159\n",
      "Try: 1 More particles accepted: 278\n",
      "Try: 2 More particles accepted: 385\n",
      "Try: 3 More particles accepted: 468\n",
      "Try: 4 More particles accepted: 538\n",
      "Try: 5 More particles accepted: 597\n",
      "Try: 6 More particles accepted: 636\n",
      "Try: 7 More particles accepted: 683\n",
      "Try: 8 More particles accepted: 716\n",
      "Try: 9 More particles accepted: 736\n",
      "Try: 10 More particles accepted: 757\n",
      "Try: 11 More particles accepted: 780\n",
      "Try: 12 More particles accepted: 808\n",
      "Try: 13 More particles accepted: 832\n",
      "Try: 14 More particles accepted: 853\n",
      "Try: 15 More particles accepted: 871\n",
      "Try: 16 More particles accepted: 887\n",
      "Try: 17 More particles accepted: 899\n",
      "Try: 18 More particles accepted: 905\n",
      "Try: 19 More particles accepted: 917\n",
      "Not enough particles accepted: 917\n",
      "# Created particles: 6792\n"
     ]
    }
   ],
   "source": [
    "n_new = 1000 - ind.shape[0]\n",
    "max_dist = 1.5\n",
    "new_particles = create_new_particles_below_max_dist(Data1000pM, Mock1000pM, smc_1000pM[0][ind,:,-1], max_dist, \n",
    "                                                    n_new, alpha, threshold,)"
   ]
  },
  {
   "cell_type": "code",
   "execution_count": 30,
   "metadata": {
    "collapsed": false,
    "level": 7
   },
   "outputs": [],
   "source": [
    "dists = np.vstack((smc_1000pM[2][ind,:,-1],new_particles[2]))\n",
    "ind_sort = np.argsort(dists[:,-1])\n",
    "dists = dists[ind_sort]\n",
    "particles = np.vstack((smc_1000pM[0][ind,:,-1],new_particles[0]))\n",
    "particles = particles[ind_sort]\n",
    "sims = np.dstack((smc_1000pM[1][:,:,ind],new_particles[1]))\n",
    "sims = sims[:,:,ind_sort]\n",
    "perts = np.dstack((smc_1000pM[3][:,:,ind],new_particles[3]))\n",
    "perts = perts[:,:,ind_sort]\n",
    "start_population = [particles,sims,dists,perts]\n",
    "start_population[0][:,0] = 1./1000.\n",
    "np.save(path+'1000pM/start_1000pM_115.npy',start_population)"
   ]
  },
  {
   "cell_type": "code",
   "execution_count": 34,
   "metadata": {
    "collapsed": true
   },
   "outputs": [],
   "source": [
    "start_population = np.load(path+'1000pM/start_1000pM_115.npy')"
   ]
  },
  {
   "cell_type": "code",
   "execution_count": 38,
   "metadata": {
    "collapsed": true,
    "level": 7
   },
   "outputs": [
    {
     "name": "stdout",
     "output_type": "stream",
     "text": [
      "# particles better than stop: 0\n",
      "Min start distance: 1.118\n",
      "Mean start distance: 1.427\n",
      "Max start distance: 1.508\n",
      "STD of start distance: 0.063\n",
      "Mean of burst, tau and T: [ 71.34   27.184  22.62 ]\n",
      "STD of burst, tau and T: [ 24.436  13.577   7.66 ]\n",
      "Iteration: 1\n",
      "Threshold distance 1.379\n",
      "Try: 0 First particles accepted: 38\n",
      "Try: 1 More particles accepted: 56\n",
      "Try: 2 More particles accepted: 77\n",
      "Try: 3 More particles accepted: 93\n",
      "Try: 4 More particles accepted: 117\n",
      "Try: 5 More particles accepted: 142\n",
      "Try: 6 More particles accepted: 169\n",
      "Try: 7 More particles accepted: 195\n",
      "Try: 8 More particles accepted: 222\n",
      "Try: 9 More particles accepted: 240\n",
      "Try: 10 More particles accepted: 272\n",
      "Slow creation of new particles, reduced number of tries to: 15\n",
      "Try: 11 More particles accepted: 285\n",
      "Try: 12 More particles accepted: 307\n",
      "Try: 13 More particles accepted: 329\n",
      "Try: 14 More particles accepted: 344\n",
      "Not enough particles accepted: 344\n",
      "# Created particles: 9458\n",
      "# particles better than stop: 0\n",
      "Min distance of current population: 1.049\n",
      "Mean distance of current population: 1.36\n",
      "Max distance of current population: 1.422\n",
      "Mean of burst, tau and T: [ 73.315  30.32   20.168]\n",
      "STD of burst, tau and T: [ 31.471  18.43    6.221]\n",
      "Duration of 1 th iteration 151.21 min\n",
      "Iteration: 2\n",
      "Threshold distance 1.32\n",
      "Try: 0 First particles accepted: 6\n",
      "Try: 1 More particles accepted: 16\n",
      "Try: 2 More particles accepted: 138\n",
      "Try: 3 More particles accepted: 243\n",
      "Try: 4 More particles accepted: 340\n",
      "Try: 5 More particles accepted: 409\n",
      "Try: 6 More particles accepted: 470\n",
      "Try: 7 More particles accepted: 520\n",
      "Try: 8 More particles accepted: 561\n",
      "Try: 9 More particles accepted: 595\n",
      "Try: 10 More particles accepted: 625\n",
      "Try: 11 More particles accepted: 647\n",
      "Try: 12 More particles accepted: 679\n",
      "Try: 13 More particles accepted: 699\n",
      "Try: 14 More particles accepted: 717\n",
      "Try: 15 More particles accepted: 729\n",
      "Try: 16 More particles accepted: 740\n",
      "Try: 17 More particles accepted: 748\n",
      "Try: 18 More particles accepted: 756\n",
      "Try: 19 More particles accepted: 763\n",
      "Not enough particles accepted: 763\n",
      "# Created particles: 6362\n",
      "# particles better than stop: 0\n",
      "Min distance of current population: 0.862\n",
      "Mean distance of current population: 1.233\n",
      "Max distance of current population: 1.324\n",
      "Mean of burst, tau and T: [ 31.361   8.415  13.004]\n",
      "STD of burst, tau and T: [ 31.194  17.258   5.385]\n",
      "Duration of 2 th iteration 97.59 min\n",
      "Iteration: 3\n",
      "Threshold distance 1.17\n",
      "Try: 0 First particles accepted: 4\n",
      "Try: 1 More particles accepted: 14\n",
      "Try: 2 More particles accepted: 25\n",
      "Try: 3 No particles accepted\n",
      "Try: 4 No particles accepted\n",
      "Try: 5 More particles accepted: 26\n",
      "Try: 6 No particles accepted\n",
      "Try: 7 No particles accepted\n",
      "Try: 8 No particles accepted\n",
      "Try: 9 No particles accepted\n",
      "Try: 10 More particles accepted: 27\n",
      "Slow creation of new particles, reduced number of tries to: 15\n",
      "Try: 11 No particles accepted\n",
      "Try: 12 More particles accepted: 28\n",
      "Try: 13 No particles accepted\n",
      "Try: 14 No particles accepted\n",
      "Not enough particles accepted: 28\n",
      "# Created particles: 11667\n",
      "# particles better than stop: 0\n",
      "Min distance of current population: 0.862\n",
      "Mean distance of current population: 1.213\n",
      "Max distance of current population: 1.291\n",
      "Mean of burst, tau and T: [ 39.685  13.056  13.436]\n",
      "STD of burst, tau and T: [ 40.57   21.837   5.784]\n",
      "Duration of 3 th iteration 193.19 min\n",
      "Iteration: 4\n",
      "Threshold distance 1.162\n",
      "Try: 0 No particles accepted\n",
      "Try: 1 First particles accepted: 1\n",
      "Try: 2 No particles accepted\n",
      "Try: 3 No particles accepted\n",
      "Try: 4 No particles accepted\n",
      "Try: 5 No particles accepted\n",
      "Try: 6 No particles accepted\n",
      "Try: 7 No particles accepted\n",
      "Try: 8 No particles accepted\n",
      "Try: 9 No particles accepted\n",
      "Try: 10 No particles accepted\n",
      "Slow creation of new particles, reduced number of tries to: 15\n",
      "Try: 11 No particles accepted\n",
      "Try: 12 More particles accepted: 2\n",
      "Try: 13 More particles accepted: 3\n",
      "Try: 14 No particles accepted\n",
      "Not enough particles accepted: 3\n",
      "# Created particles: 11984\n",
      "# particles better than stop: 0\n",
      "Min distance of current population: 0.862\n",
      "Mean distance of current population: 1.207\n",
      "Max distance of current population: 1.278\n",
      "Mean of burst, tau and T: [ 45.861  16.353  14.032]\n",
      "STD of burst, tau and T: [ 43.794  23.478   5.925]\n",
      "Duration of 4 th iteration 199.67 min\n",
      "STOP: no improvement gained, stopped after 3 iterations\n",
      "Duration of iterations: 641.7 min\n"
     ]
    }
   ],
   "source": [
    "alpha = 23.15\n",
    "threshold = 2.0\n",
    "save = [True,path+'1000pM/','smc_1000pM_115_']\n",
    "smc = smc_abc(Data1000pM,Mock1000pM,start_population,iterations,stop,threshold=threshold,alpha = alpha,save = save)\n",
    "np.save(path+'1000pM/smc_1000pM_1000_115.npy',smc)"
   ]
  },
  {
   "cell_type": "markdown",
   "metadata": {
    "level": 1
   },
   "source": [
    "# Inhibitors"
   ]
  },
  {
   "cell_type": "code",
   "execution_count": 50,
   "metadata": {
    "collapsed": false
   },
   "outputs": [],
   "source": [
    "# load experimental data\n",
    "Data20pM_NaBu = np.load('Data20pM_NaBu.npy')\n",
    "Data20pM_C646 = np.load('Data20pM_C646.npy')\n",
    "Data20pM_DMSO = np.load('Data20pM_DMSO.npy')\n",
    "\n",
    "Mock20pM_NaBu = np.load('Mock20pM_NaBu.npy')\n",
    "Mock20pM_C646 = np.load('Mock20pM_C646.npy')\n",
    "Mock20pM_DMSO = np.load('Mock20pM_DMSO.npy')\n",
    "\n",
    "path = '/Users/stephan/Desktop/gene_transcription_SMC_ABC/fits/inhibitors/'"
   ]
  },
  {
   "cell_type": "markdown",
   "metadata": {
    "heading_collapsed": false,
    "level": 2
   },
   "source": [
    "## 20 pM estrogen + sodium butyrate\n",
    "\n",
    "HDAC inhibitor"
   ]
  },
  {
   "cell_type": "code",
   "execution_count": 54,
   "metadata": {
    "code_folding": [],
    "collapsed": false,
    "level": 7
   },
   "outputs": [
    {
     "name": "stdout",
     "output_type": "stream",
     "text": [
      "File: 1 / 2\n",
      "File: 2 / 2\n",
      "Duration: 0.35 min\n"
     ]
    },
    {
     "ename": "IOError",
     "evalue": "[Errno 2] No such file or directory: '/Users/stephan/Desktop/gene_transcription_SMC_ABC/fits/20pM_NaBu/dist_cand_20pM_NaBu.npy'",
     "output_type": "error",
     "traceback": [
      "\u001b[0;31m---------------------------------------------------------------------------\u001b[0m",
      "\u001b[0;31mIOError\u001b[0m                                   Traceback (most recent call last)",
      "\u001b[0;32m<ipython-input-54-60c8022d14be>\u001b[0m in \u001b[0;36m<module>\u001b[0;34m()\u001b[0m\n\u001b[1;32m      2\u001b[0m \u001b[0mpaths\u001b[0m \u001b[0;34m=\u001b[0m \u001b[0;34m[\u001b[0m\u001b[0mcand_path\u001b[0m\u001b[0;34m,\u001b[0m\u001b[0mtemp\u001b[0m\u001b[0;34m]\u001b[0m\u001b[0;34m\u001b[0m\u001b[0m\n\u001b[1;32m      3\u001b[0m \u001b[0mdist_cand_20pM_NaBu\u001b[0m\u001b[0;34m,\u001b[0m\u001b[0mpar_cand_20pM_NaBu\u001b[0m \u001b[0;34m=\u001b[0m \u001b[0mparticle_distance_lut\u001b[0m\u001b[0;34m(\u001b[0m\u001b[0mData20pM_NaBu\u001b[0m\u001b[0;34m,\u001b[0m\u001b[0mMock20pM_NaBu\u001b[0m\u001b[0;34m,\u001b[0m\u001b[0mpaths\u001b[0m\u001b[0;34m)\u001b[0m\u001b[0;34m\u001b[0m\u001b[0m\n\u001b[0;32m----> 4\u001b[0;31m \u001b[0mnp\u001b[0m\u001b[0;34m.\u001b[0m\u001b[0msave\u001b[0m\u001b[0;34m(\u001b[0m\u001b[0mpath\u001b[0m \u001b[0;34m+\u001b[0m \u001b[0;34m'20pM_NaBu/dist_cand_20pM_NaBu.npy'\u001b[0m\u001b[0;34m,\u001b[0m\u001b[0mdist_cand_20pM_NaBu\u001b[0m\u001b[0;34m)\u001b[0m\u001b[0;34m\u001b[0m\u001b[0m\n\u001b[0m\u001b[1;32m      5\u001b[0m \u001b[0mnp\u001b[0m\u001b[0;34m.\u001b[0m\u001b[0msave\u001b[0m\u001b[0;34m(\u001b[0m\u001b[0mpath\u001b[0m\u001b[0;34m+\u001b[0m\u001b[0;34m'20pM_NaBu/par_cand_20pM_NaBu.npy'\u001b[0m\u001b[0;34m,\u001b[0m\u001b[0mpar_cand_20pM_NaBu\u001b[0m\u001b[0;34m)\u001b[0m\u001b[0;34m\u001b[0m\u001b[0m\n",
      "\u001b[0;32m/Users/stephan/anaconda/lib/python2.7/site-packages/numpy/lib/npyio.pyc\u001b[0m in \u001b[0;36msave\u001b[0;34m(file, arr, allow_pickle, fix_imports)\u001b[0m\n\u001b[1;32m    475\u001b[0m         \u001b[0;32mif\u001b[0m \u001b[0;32mnot\u001b[0m \u001b[0mfile\u001b[0m\u001b[0;34m.\u001b[0m\u001b[0mendswith\u001b[0m\u001b[0;34m(\u001b[0m\u001b[0;34m'.npy'\u001b[0m\u001b[0;34m)\u001b[0m\u001b[0;34m:\u001b[0m\u001b[0;34m\u001b[0m\u001b[0m\n\u001b[1;32m    476\u001b[0m             \u001b[0mfile\u001b[0m \u001b[0;34m=\u001b[0m \u001b[0mfile\u001b[0m \u001b[0;34m+\u001b[0m \u001b[0;34m'.npy'\u001b[0m\u001b[0;34m\u001b[0m\u001b[0m\n\u001b[0;32m--> 477\u001b[0;31m         \u001b[0mfid\u001b[0m \u001b[0;34m=\u001b[0m \u001b[0mopen\u001b[0m\u001b[0;34m(\u001b[0m\u001b[0mfile\u001b[0m\u001b[0;34m,\u001b[0m \u001b[0;34m\"wb\"\u001b[0m\u001b[0;34m)\u001b[0m\u001b[0;34m\u001b[0m\u001b[0m\n\u001b[0m\u001b[1;32m    478\u001b[0m         \u001b[0mown_fid\u001b[0m \u001b[0;34m=\u001b[0m \u001b[0mTrue\u001b[0m\u001b[0;34m\u001b[0m\u001b[0m\n\u001b[1;32m    479\u001b[0m     \u001b[0;32melse\u001b[0m\u001b[0;34m:\u001b[0m\u001b[0;34m\u001b[0m\u001b[0m\n",
      "\u001b[0;31mIOError\u001b[0m: [Errno 2] No such file or directory: '/Users/stephan/Desktop/gene_transcription_SMC_ABC/fits/20pM_NaBu/dist_cand_20pM_NaBu.npy'"
     ]
    }
   ],
   "source": [
    "# compare data to blind shooting candidates\n",
    "paths = [cand_path,temp]\n",
    "dist_cand_20pM_NaBu,par_cand_20pM_NaBu = particle_distance_lut(Data20pM_NaBu,Mock20pM_NaBu,paths)\n",
    "np.save(path + '20pM_NaBu/dist_cand_20pM_NaBu.npy',dist_cand_20pM_NaBu)\n",
    "np.save(path+'20pM_NaBu/par_cand_20pM_NaBu.npy',par_cand_20pM_NaBu)"
   ]
  },
  {
   "cell_type": "code",
   "execution_count": null,
   "metadata": {
    "code_folding": [],
    "collapsed": false,
    "level": 7
   },
   "outputs": [],
   "source": [
    "files = corrected_filelist(temp_20pM)\n",
    "start_population = best_start_particles(files,dist_cand_20pM_NaBu,n_particles)\n",
    "np.save(path+'20pM_NaBu/start_2000_20pM_NaBu.npy',start_population)"
   ]
  },
  {
   "cell_type": "code",
   "execution_count": null,
   "metadata": {
    "collapsed": false,
    "level": 7
   },
   "outputs": [],
   "source": [
    "start_population = np.load(path+'20pM_NaBu/start_2000_20pM_NaBu.npy')\n",
    "start_population[0][:,0] = 1./n_particles"
   ]
  },
  {
   "cell_type": "code",
   "execution_count": null,
   "metadata": {
    "collapsed": true,
    "level": 7
   },
   "outputs": [],
   "source": [
    "alpha = 23.3\n",
    "threshold = 0.6\n",
    "save = [True,path+'20pM_NaBu/','smc_20pM_NaBu_']\n",
    "smc = smc_abc(Data20pM_NaBu,Mock20pM_NaBu,start_population,iterations,stop,alpha = alpha,save = save)\n",
    "np.save(path+'20pM_NaBu/smc_20pM_NaBu_2000_lut.npy',smc)"
   ]
  },
  {
   "cell_type": "markdown",
   "metadata": {
    "heading_collapsed": true,
    "level": 3
   },
   "source": [
    "### Fit 115 model to NaBu "
   ]
  },
  {
   "cell_type": "code",
   "execution_count": 15,
   "metadata": {
    "code_folding": [],
    "collapsed": false,
    "hidden": true,
    "level": 7
   },
   "outputs": [
    {
     "name": "stdout",
     "output_type": "stream",
     "text": [
      "Try: 0 First particles accepted: 6\n",
      "Try: 1 More particles accepted: 13\n",
      "Try: 2 More particles accepted: 15\n",
      "Try: 3 More particles accepted: 22\n",
      "Try: 4 More particles accepted: 24\n",
      "Try: 5 More particles accepted: 30\n",
      "Try: 6 More particles accepted: 32\n",
      "Try: 7 More particles accepted: 33\n",
      "Try: 8 More particles accepted: 36\n",
      "Try: 9 More particles accepted: 39\n",
      "Try: 10 More particles accepted: 44\n",
      "Slow creation of new particles, reduced number of tries to: 15\n",
      "Try: 11 More particles accepted: 51\n",
      "Try: 12 More particles accepted: 60\n",
      "Try: 13 More particles accepted: 64\n",
      "Try: 14 More particles accepted: 69\n",
      "Not enough particles accepted: 69\n",
      "# Created particles: 1991\n"
     ]
    }
   ],
   "source": [
    "# generate new particles to fill start population\n",
    "alpha = 23.3\n",
    "threshold = 1.\n",
    "ind = np.where(smc_NaBu[0][:,1,-1] == 5)[0]\n",
    "n_new = 1000 - ind.shape[0]\n",
    "max_dist = 1.4\n",
    "new_particles = create_new_particles_below_max_dist(Data20pM_NaBu, Mock20pM_NaBu, smc_NaBu[0][ind,:,-1], max_dist, \n",
    "                                                    n_new, alpha, threshold,)"
   ]
  },
  {
   "cell_type": "code",
   "execution_count": 16,
   "metadata": {
    "code_folding": [],
    "collapsed": true,
    "hidden": true,
    "level": 7
   },
   "outputs": [],
   "source": [
    "# create start population with existing and newly created particles\n",
    "dists = np.vstack((smc_NaBu[2][ind,:,-1],new_particles[2]))\n",
    "ind_sort = np.argsort(dists[:,-1])\n",
    "dists = dists[ind_sort]\n",
    "particles = np.vstack((smc_NaBu[0][ind,:,-1],new_particles[0]))\n",
    "particles = particles[ind_sort]\n",
    "sims = np.dstack((smc_NaBu[1][:,:,ind],new_particles[1]))\n",
    "sims = sims[:,:,ind_sort]\n",
    "perts = np.dstack((smc_NaBu[3][:,:,ind],new_particles[3]))\n",
    "perts = perts[:,:,ind_sort]\n",
    "start_population = [particles,sims,dists,perts]\n",
    "start_population[0][:,0] = 1./1000.\n",
    "np.save(path+'20pM_NaBu/start_NaBu_1000_20pM_NaBu.npy',start_population)"
   ]
  },
  {
   "cell_type": "code",
   "execution_count": 24,
   "metadata": {
    "collapsed": false,
    "hidden": true,
    "level": 7,
    "scrolled": false
   },
   "outputs": [
    {
     "name": "stdout",
     "output_type": "stream",
     "text": [
      "# particles better than stop: 0\n",
      "Min start distance: 1.104\n",
      "Mean start distance: 1.377\n",
      "Max start distance: 1.441\n",
      "STD of start distance: 0.051\n",
      "Mean of burst, tau and T: [  8.98  11.16  53.15]\n",
      "STD of burst, tau and T: [  6.879  12.184  47.01 ]\n",
      "Iteration: 1\n",
      "Threshold distance 1.343\n",
      "Try: 0 First particles accepted: 32\n",
      "Try: 1 More particles accepted: 50\n",
      "Try: 2 More particles accepted: 77\n",
      "Try: 3 More particles accepted: 100\n",
      "Try: 4 More particles accepted: 131\n",
      "Try: 5 More particles accepted: 165\n",
      "Try: 6 More particles accepted: 183\n",
      "Try: 7 More particles accepted: 203\n",
      "Try: 8 More particles accepted: 223\n",
      "Try: 9 More particles accepted: 252\n",
      "Try: 10 More particles accepted: 274\n",
      "Slow creation of new particles, reduced number of tries to: 15\n",
      "Try: 11 More particles accepted: 302\n",
      "Try: 12 More particles accepted: 324\n",
      "Try: 13 More particles accepted: 344\n",
      "Try: 14 More particles accepted: 368\n",
      "Not enough particles accepted: 368\n",
      "# Created particles: 9340\n",
      "# particles better than stop: 0\n",
      "Min distance of current population: 1.104\n",
      "Mean distance of current population: 1.32\n",
      "Max distance of current population: 1.377\n",
      "Mean of burst, tau and T: [  6.411   5.543  31.696]\n",
      "STD of burst, tau and T: [  4.541  10.142  23.611]\n",
      "Duration of 1 th iteration 206.58 min\n",
      "Iteration: 2\n",
      "Threshold distance 1.282\n",
      "Try: 0 First particles accepted: 14\n",
      "Try: 1 More particles accepted: 24\n",
      "Try: 2 More particles accepted: 37\n",
      "Try: 3 More particles accepted: 52\n",
      "Try: 4 More particles accepted: 62\n",
      "Try: 5 More particles accepted: 76\n",
      "Try: 6 More particles accepted: 93\n",
      "Try: 7 More particles accepted: 111\n",
      "Try: 8 More particles accepted: 130\n",
      "Try: 9 More particles accepted: 149\n",
      "Try: 10 More particles accepted: 163\n",
      "Slow creation of new particles, reduced number of tries to: 15\n",
      "Try: 11 More particles accepted: 177\n",
      "Try: 12 More particles accepted: 197\n",
      "Try: 13 More particles accepted: 208\n",
      "Try: 14 More particles accepted: 229\n",
      "Not enough particles accepted: 229\n",
      "# Created particles: 10507\n",
      "# particles better than stop: 0\n",
      "Min distance of current population: 1.103\n",
      "Mean distance of current population: 1.279\n",
      "Max distance of current population: 1.329\n",
      "Mean of burst, tau and T: [  6.821  14.736  30.026]\n",
      "STD of burst, tau and T: [  3.992  16.419  14.607]\n",
      "Duration of 2 th iteration 240.25 min\n",
      "Iteration: 3\n",
      "Threshold distance 1.246\n",
      "Try: 0 First particles accepted: 4\n",
      "Try: 1 More particles accepted: 5\n",
      "Try: 2 More particles accepted: 11\n",
      "Try: 3 More particles accepted: 19\n",
      "Try: 4 More particles accepted: 25\n",
      "Try: 5 More particles accepted: 27\n",
      "Try: 6 More particles accepted: 35\n",
      "Try: 7 More particles accepted: 38\n",
      "Try: 8 No particles accepted\n",
      "Try: 9 More particles accepted: 43\n",
      "Try: 10 More particles accepted: 46\n",
      "Slow creation of new particles, reduced number of tries to: 15\n",
      "Try: 11 More particles accepted: 48\n",
      "Try: 12 More particles accepted: 56\n",
      "Try: 13 More particles accepted: 59\n",
      "Try: 14 More particles accepted: 65\n",
      "Not enough particles accepted: 65\n",
      "# Created particles: 11546\n",
      "# particles better than stop: 0\n",
      "Min distance of current population: 1.0\n",
      "Mean distance of current population: 1.264\n",
      "Max distance of current population: 1.312\n",
      "Mean of burst, tau and T: [  6.385  10.994  27.816]\n",
      "STD of burst, tau and T: [  3.686  15.457  12.055]\n",
      "Duration of 3 th iteration 235.05 min\n",
      "STOP: no improvement gained, stopped after 2 iterations\n",
      "Duration of iterations: 681.89 min\n"
     ]
    }
   ],
   "source": [
    "save = [True,path+'20pM_NaBu/','smc_NaBu_115_']\n",
    "smc = smc_abc(Data20pM_NaBu,Mock20pM_NaBu,start_population,iterations,stop,threshold=threshold,\n",
    "              alpha = alpha,save = save)\n",
    "np.save(path+'20pM_NaBu/smc_NaBu_1000_115.npy',smc)"
   ]
  },
  {
   "cell_type": "markdown",
   "metadata": {
    "collapsed": true,
    "heading_collapsed": false,
    "level": 2
   },
   "source": [
    "## 20 pM estrogen + DMSO\n",
    "\n",
    "Control condition"
   ]
  },
  {
   "cell_type": "code",
   "execution_count": null,
   "metadata": {
    "collapsed": true,
    "level": 7
   },
   "outputs": [],
   "source": [
    "# compare data to blind shooting candidates\n",
    "temp_20pM_DMSO= 'H:/stephan/temp/'\n",
    "paths = [cand_path,temp_20pM_DMSO]\n",
    "dist_cand_20pM_DMSO,par_cand_20pM_DMSO = particle_distance_lut(Data20pM_DMSO,Mock20pM_DMSO,paths)"
   ]
  },
  {
   "cell_type": "code",
   "execution_count": null,
   "metadata": {
    "collapsed": false,
    "level": 7
   },
   "outputs": [],
   "source": [
    "np.save(path + '20pM_DMSO/dist_cand_20pM_DMSO.npy',dist_cand_20pM_DMSO)\n",
    "np.save(path+'20pM_DMSO/par_cand_20pM_DMSO.npy',par_cand_20pM_DMSO)\n",
    "\n",
    "files = corrected_filelist(temp_20pM_DMSO)\n",
    "start_population = best_start_particles(files,dist_cand_20pM_DMSO,n_particles)\n",
    "np.save(path+'20pM_DMSO/start_2000_20pM_DMSO.npy',start_population)"
   ]
  },
  {
   "cell_type": "code",
   "execution_count": null,
   "metadata": {
    "collapsed": true,
    "level": 7
   },
   "outputs": [],
   "source": [
    "start_population = np.load(path+'20pM_DMSO/start_2000_20pM_DMSO.npy')\n",
    "start_population[0][:,0] = 1./n_particles"
   ]
  },
  {
   "cell_type": "code",
   "execution_count": null,
   "metadata": {
    "collapsed": true,
    "level": 7
   },
   "outputs": [],
   "source": [
    "alpha = 23.3\n",
    "threshold = 0.6\n",
    "save = [True,path+'20pM_DMSO/','smc_20pM_DMSO_']\n",
    "smc = smc_abc(Data20pM_DMSO,Mock20pM_DMSO,start_population,iterations,stop,alpha = alpha,save = save)\n",
    "np.save(path+'20pM_DMSO/smc_20pM_DMSO_2000_lut.npy',smc)"
   ]
  },
  {
   "cell_type": "markdown",
   "metadata": {
    "heading_collapsed": true,
    "level": 3
   },
   "source": [
    "### Fit 115 model to DMSO"
   ]
  },
  {
   "cell_type": "code",
   "execution_count": 25,
   "metadata": {
    "collapsed": false,
    "hidden": true,
    "level": 7
   },
   "outputs": [
    {
     "name": "stdout",
     "output_type": "stream",
     "text": [
      "Try: 0 First particles accepted: 145\n",
      "Try: 1 More particles accepted: 237\n",
      "Try: 2 More particles accepted: 320\n",
      "Try: 3 More particles accepted: 375\n",
      "Try: 4 More particles accepted: 434\n",
      "Try: 5 More particles accepted: 489\n",
      "Try: 6 More particles accepted: 532\n",
      "Try: 7 More particles accepted: 565\n",
      "Try: 8 More particles accepted: 605\n",
      "Try: 9 More particles accepted: 646\n",
      "Try: 10 More particles accepted: 678\n",
      "Try: 11 More particles accepted: 704\n",
      "Try: 12 More particles accepted: 724\n",
      "Try: 13 More particles accepted: 750\n",
      "Try: 14 More particles accepted: 767\n",
      "Try: 15 More particles accepted: 780\n",
      "Try: 16 More particles accepted: 792\n",
      "Try: 17 More particles accepted: 801\n",
      "Try: 18 More particles accepted: 809\n",
      "Try: 19 More particles accepted: 820\n",
      "Not enough particles accepted: 820\n",
      "# Created particles: 7027\n"
     ]
    }
   ],
   "source": [
    "alpha = 23.3\n",
    "threshold = 1.\n",
    "ind = np.where(smc_DMSO[0][:,1,-1] == 5)[0]\n",
    "\n",
    "n_new = 1000 - ind.shape[0]\n",
    "max_dist = 1.\n",
    "new_particles = create_new_particles_below_max_dist(Data20pM_DMSO, Mock20pM_DMSO, smc_DMSO[0][ind,:,-1], max_dist, \n",
    "                                                    n_new, alpha, threshold,)"
   ]
  },
  {
   "cell_type": "code",
   "execution_count": 26,
   "metadata": {
    "collapsed": true,
    "hidden": true,
    "level": 7
   },
   "outputs": [],
   "source": [
    "dists = np.vstack((smc_DMSO[2][ind,:,-1],new_particles[2]))\n",
    "ind_sort = np.argsort(dists[:,-1])\n",
    "dists = dists[ind_sort]\n",
    "particles = np.vstack((smc_DMSO[0][ind,:,-1],new_particles[0]))\n",
    "particles = particles[ind_sort]\n",
    "sims = np.dstack((smc_DMSO[1][:,:,ind],new_particles[1]))\n",
    "sims = sims[:,:,ind_sort]\n",
    "perts = np.dstack((smc_DMSO[3][:,:,ind],new_particles[3]))\n",
    "perts = perts[:,:,ind_sort]\n",
    "start_population = [particles,sims,dists,perts]\n",
    "start_population[0][:,0] = 1./1000.\n",
    "np.save(path+'20pM_DMSO/start_DMSO_1000_20pM_NaBu.npy',start_population)"
   ]
  },
  {
   "cell_type": "code",
   "execution_count": 27,
   "metadata": {
    "collapsed": false,
    "hidden": true,
    "level": 7
   },
   "outputs": [
    {
     "name": "stdout",
     "output_type": "stream",
     "text": [
      "# particles better than stop: 0\n",
      "Min start distance: 0.67\n",
      "Mean start distance: 0.921\n",
      "Max start distance: 1.01\n",
      "STD of start distance: 0.071\n",
      "Mean of burst, tau and T: [ 15.297   1.316  19.64 ]\n",
      "STD of burst, tau and T: [ 4.871  0.413  6.354]\n",
      "Iteration: 1\n",
      "Threshold distance 0.852\n",
      "Try: 0 First particles accepted: 22\n",
      "Try: 1 More particles accepted: 38\n",
      "Try: 2 More particles accepted: 54\n",
      "Try: 3 More particles accepted: 69\n",
      "Try: 4 More particles accepted: 92\n",
      "Try: 5 More particles accepted: 107\n",
      "Try: 6 More particles accepted: 121\n",
      "Try: 7 More particles accepted: 135\n",
      "Try: 8 More particles accepted: 148\n",
      "Try: 9 More particles accepted: 158\n",
      "Try: 10 More particles accepted: 170\n",
      "Slow creation of new particles, reduced number of tries to: 15\n",
      "Try: 11 More particles accepted: 183\n",
      "Try: 12 More particles accepted: 188\n",
      "Try: 13 More particles accepted: 197\n",
      "Try: 14 More particles accepted: 203\n",
      "Not enough particles accepted: 203\n",
      "# Created particles: 10318\n",
      "# particles better than stop: 0\n",
      "Min distance of current population: 0.647\n",
      "Mean distance of current population: 0.857\n",
      "Max distance of current population: 0.921\n",
      "Mean of burst, tau and T: [ 15.039   1.142  19.109]\n",
      "STD of burst, tau and T: [ 4.08   0.329  5.087]\n",
      "Duration of 1 th iteration 512.04 min\n",
      "Iteration: 2\n",
      "Threshold distance 0.814\n",
      "Try: 0 First particles accepted: 6\n",
      "Try: 1 More particles accepted: 17\n",
      "Try: 2 More particles accepted: 27\n",
      "Try: 3 More particles accepted: 30\n",
      "Try: 4 More particles accepted: 35\n",
      "Try: 5 More particles accepted: 41\n",
      "Try: 6 More particles accepted: 52\n",
      "Try: 7 More particles accepted: 61\n",
      "Try: 8 More particles accepted: 66\n",
      "Try: 9 More particles accepted: 76\n",
      "Try: 10 More particles accepted: 82\n",
      "Slow creation of new particles, reduced number of tries to: 15\n",
      "Try: 11 More particles accepted: 86\n",
      "Try: 12 More particles accepted: 92\n",
      "Try: 13 More particles accepted: 95\n",
      "Try: 14 More particles accepted: 100\n",
      "Not enough particles accepted: 100\n",
      "# Created particles: 11234\n",
      "# particles better than stop: 0\n",
      "Min distance of current population: 0.63\n",
      "Mean distance of current population: 0.831\n",
      "Max distance of current population: 0.884\n",
      "Mean of burst, tau and T: [ 14.564   1.097  18.681]\n",
      "STD of burst, tau and T: [ 3.714  0.309  4.649]\n",
      "Duration of 2 th iteration 546.35 min\n",
      "Iteration: 3\n",
      "Threshold distance 0.796\n",
      "Try: 0 First particles accepted: 4\n",
      "Try: 1 More particles accepted: 6\n",
      "Try: 2 More particles accepted: 11\n",
      "Try: 3 More particles accepted: 15\n",
      "Try: 4 More particles accepted: 18\n",
      "Try: 5 More particles accepted: 22\n",
      "Try: 6 More particles accepted: 30\n",
      "Try: 7 More particles accepted: 34\n",
      "Try: 8 More particles accepted: 38\n",
      "Try: 9 More particles accepted: 45\n",
      "Try: 10 More particles accepted: 50\n",
      "Slow creation of new particles, reduced number of tries to: 15\n",
      "Try: 11 More particles accepted: 62\n",
      "Try: 12 More particles accepted: 70\n",
      "Try: 13 More particles accepted: 71\n",
      "Try: 14 More particles accepted: 77\n",
      "Not enough particles accepted: 77\n",
      "# Created particles: 11524\n",
      "# particles better than stop: 0\n",
      "Min distance of current population: 0.63\n",
      "Mean distance of current population: 0.814\n",
      "Max distance of current population: 0.862\n",
      "Mean of burst, tau and T: [ 14.509   1.064  18.592]\n",
      "STD of burst, tau and T: [ 3.669  0.287  4.393]\n",
      "Duration of 3 th iteration 552.35 min\n",
      "Iteration: 4\n",
      "Threshold distance 0.785\n",
      "Try: 0 First particles accepted: 7\n",
      "Try: 1 More particles accepted: 14\n",
      "Try: 2 More particles accepted: 16\n",
      "Try: 3 More particles accepted: 22\n",
      "Try: 4 More particles accepted: 27\n",
      "Try: 5 More particles accepted: 32\n",
      "Try: 6 More particles accepted: 35\n",
      "Try: 7 More particles accepted: 39\n",
      "Try: 8 More particles accepted: 46\n",
      "Try: 9 More particles accepted: 49\n",
      "Try: 10 More particles accepted: 57\n",
      "Slow creation of new particles, reduced number of tries to: 15\n",
      "Try: 11 More particles accepted: 59\n",
      "Try: 12 More particles accepted: 61\n",
      "Try: 13 More particles accepted: 64\n",
      "Try: 14 More particles accepted: 65\n",
      "Not enough particles accepted: 65\n",
      "# Created particles: 11472\n",
      "# particles better than stop: 0\n",
      "Min distance of current population: 0.63\n",
      "Mean distance of current population: 0.803\n",
      "Max distance of current population: 0.848\n",
      "Mean of burst, tau and T: [ 14.448   1.029  18.538]\n",
      "STD of burst, tau and T: [ 3.453  0.265  4.215]\n",
      "Duration of 4 th iteration 551.97 min\n",
      "STOP: no improvement gained, stopped after 3 iterations\n",
      "Duration of iterations: 2162.75 min\n"
     ]
    }
   ],
   "source": [
    "save = [True,path+'20pM_DMSO/','smc_DMSO_115_']\n",
    "smc = smc_abc(Data20pM_DMSO,Mock20pM_DMSO,start_population,iterations,stop,threshold=threshold,alpha = alpha,save = save)\n",
    "np.save(path+'20pM_DMSO/smc_DMSO_1000_115.npy',smc)"
   ]
  },
  {
   "cell_type": "markdown",
   "metadata": {
    "level": 2
   },
   "source": [
    "## 20 pM estrogen + C646\n",
    "p300 (histone acetyl transferase) inhibitor"
   ]
  },
  {
   "cell_type": "code",
   "execution_count": null,
   "metadata": {
    "collapsed": true,
    "level": 7
   },
   "outputs": [],
   "source": [
    "# compare data to blind shooting candidates\n",
    "temp_20pM_C646= 'H:/stephan/temp/'\n",
    "paths = [cand_path,temp_20pM_C646]\n",
    "dist_cand_20pM_C646,par_cand_20pM_C646 = particle_distance_lut(Data20pM_C646,Mock20pM_C646,paths)"
   ]
  },
  {
   "cell_type": "code",
   "execution_count": null,
   "metadata": {
    "collapsed": false,
    "level": 7
   },
   "outputs": [],
   "source": [
    "np.save(path + '20pM_C646/dist_cand_20pM_C646.npy',dist_cand_20pM_C646)\n",
    "np.save(path+'20pM_C646/par_cand_20pM_C646.npy',par_cand_20pM_C646)\n",
    "\n",
    "files = corrected_filelist(temp_20pM_C646)\n",
    "start_population = best_start_particles(files,dist_cand_20pM_C646,n_particles)\n",
    "np.save(path+'20pM_C646/start_2000_20pM_C646.npy',start_population)"
   ]
  },
  {
   "cell_type": "code",
   "execution_count": null,
   "metadata": {
    "collapsed": true,
    "level": 7
   },
   "outputs": [],
   "source": [
    "start_population = np.load(path+'20pM_C646/start_2000_20pM_C646.npy')\n",
    "start_population[0][:,0] = 1./n_particles"
   ]
  },
  {
   "cell_type": "code",
   "execution_count": null,
   "metadata": {
    "collapsed": true,
    "level": 7
   },
   "outputs": [],
   "source": [
    "alpha = 23.3\n",
    "threshold = 0.6\n",
    "save = [True,path+'20pM_C646/','smc_20pM_C646_']\n",
    "smc = smc_abc(Data20pM_C646,Mock20pM_C646,start_population,iterations,stop,alpha = alpha,save = save)\n",
    "np.save(path+'20pM_C646/smc_20pM_C646_2000_lut.npy',smc)"
   ]
  },
  {
   "cell_type": "markdown",
   "metadata": {
    "collapsed": true,
    "heading_collapsed": true,
    "level": 3
   },
   "source": [
    "### Fit 115 model to C646"
   ]
  },
  {
   "cell_type": "code",
   "execution_count": 30,
   "metadata": {
    "collapsed": false,
    "hidden": true,
    "level": 7
   },
   "outputs": [
    {
     "name": "stdout",
     "output_type": "stream",
     "text": [
      "Try: 0 First particles accepted: 7\n",
      "Try: 1 More particles accepted: 12\n",
      "Try: 2 More particles accepted: 17\n",
      "Try: 3 More particles accepted: 20\n",
      "Try: 4 More particles accepted: 24\n",
      "Try: 5 More particles accepted: 27\n",
      "Try: 6 More particles accepted: 35\n",
      "Try: 7 More particles accepted: 36\n",
      "Try: 8 More particles accepted: 43\n",
      "Try: 9 More particles accepted: 48\n",
      "Try: 10 More particles accepted: 55\n",
      "Slow creation of new particles, reduced number of tries to: 15\n",
      "Try: 11 More particles accepted: 60\n",
      "Try: 12 More particles accepted: 70\n",
      "Try: 13 More particles accepted: 80\n",
      "Try: 14 More particles accepted: 87\n",
      "Not enough particles accepted: 87\n",
      "# Created particles: 14346\n"
     ]
    }
   ],
   "source": [
    "alpha = 23.3\n",
    "threshold = 1.\n",
    "ind = np.where(smc_C646[0][:,1,-1] == 5)[0]\n",
    "\n",
    "n_new = 1000 - ind.shape[0]\n",
    "max_dist = 1.\n",
    "new_particles = create_new_particles_below_max_dist(Data20pM_C646, Mock20pM_C646, smc_C646[0][ind,:,-1], max_dist, \n",
    "                                                    n_new, alpha, threshold,)"
   ]
  },
  {
   "cell_type": "code",
   "execution_count": 31,
   "metadata": {
    "collapsed": true,
    "hidden": true,
    "level": 7
   },
   "outputs": [],
   "source": [
    "dists = np.vstack((smc_C646[2][ind,:,-1],new_particles[2]))\n",
    "ind_sort = np.argsort(dists[:,-1])\n",
    "dists = dists[ind_sort]\n",
    "particles = np.vstack((smc_C646[0][ind,:,-1],new_particles[0]))\n",
    "particles = particles[ind_sort]\n",
    "sims = np.dstack((smc_C646[1][:,:,ind],new_particles[1]))\n",
    "sims = sims[:,:,ind_sort]\n",
    "perts = np.dstack((smc_C646[3][:,:,ind],new_particles[3]))\n",
    "perts = perts[:,:,ind_sort]\n",
    "start_population = [particles,sims,dists,perts]\n",
    "start_population[0][:,0] = 1./1000."
   ]
  },
  {
   "cell_type": "code",
   "execution_count": 9,
   "metadata": {
    "collapsed": true,
    "hidden": true,
    "level": 7
   },
   "outputs": [],
   "source": [
    "start_population = np.load(path+'20pM_C646/start_1000_20pM_C646_115.npy')"
   ]
  },
  {
   "cell_type": "code",
   "execution_count": 15,
   "metadata": {
    "collapsed": false,
    "hidden": true,
    "level": 7
   },
   "outputs": [
    {
     "name": "stdout",
     "output_type": "stream",
     "text": [
      "# particles better than stop: 0\n",
      "Min start distance: 0.871\n",
      "Mean start distance: 1.074\n",
      "Max start distance: 1.142\n",
      "STD of start distance: 0.051\n",
      "Mean of burst, tau and T: [ 12.225   0.584  10.413]\n",
      "STD of burst, tau and T: [ 3.858  0.124  3.32 ]\n",
      "Iteration: 1\n",
      "Threshold distance 1.033\n",
      "Try: 0 First particles accepted: 7\n",
      "Try: 1 More particles accepted: 16\n",
      "Try: 2 More particles accepted: 29\n",
      "Try: 3 More particles accepted: 33\n",
      "Try: 4 More particles accepted: 41\n",
      "Try: 5 More particles accepted: 50\n",
      "Try: 6 More particles accepted: 58\n",
      "Try: 7 More particles accepted: 67\n",
      "Try: 8 More particles accepted: 74\n",
      "Try: 9 More particles accepted: 84\n",
      "Try: 10 More particles accepted: 91\n",
      "Slow creation of new particles, reduced number of tries to: 15\n",
      "Try: 11 More particles accepted: 104\n",
      "Try: 12 More particles accepted: 113\n",
      "Try: 13 More particles accepted: 119\n",
      "Try: 14 More particles accepted: 123\n",
      "Not enough particles accepted: 123\n",
      "# Created particles: 11114\n",
      "# particles better than stop: 0\n",
      "Min distance of current population: 0.87\n",
      "Mean distance of current population: 1.045\n",
      "Max distance of current population: 1.097\n",
      "Mean of burst, tau and T: [ 12.815   0.594  10.976]\n",
      "STD of burst, tau and T: [ 3.991  0.147  3.447]\n",
      "Duration of 1 th iteration 240.58 min\n",
      "Iteration: 2\n",
      "Threshold distance 1.012\n",
      "Try: 0 First particles accepted: 7\n",
      "Try: 1 More particles accepted: 19\n",
      "Try: 2 More particles accepted: 22\n",
      "Try: 3 More particles accepted: 28\n",
      "Try: 4 More particles accepted: 31\n",
      "Try: 5 More particles accepted: 34\n",
      "Try: 6 More particles accepted: 39\n",
      "Try: 7 More particles accepted: 49\n",
      "Try: 8 More particles accepted: 56\n",
      "Try: 9 More particles accepted: 64\n",
      "Try: 10 More particles accepted: 72\n",
      "Slow creation of new particles, reduced number of tries to: 15\n",
      "Try: 11 More particles accepted: 77\n",
      "Try: 12 More particles accepted: 83\n",
      "Try: 13 More particles accepted: 88\n",
      "Try: 14 More particles accepted: 95\n",
      "Not enough particles accepted: 95\n",
      "# Created particles: 11331\n",
      "# particles better than stop: 0\n",
      "Min distance of current population: 0.789\n",
      "Mean distance of current population: 1.026\n",
      "Max distance of current population: 1.074\n",
      "Mean of burst, tau and T: [ 12.948   0.59   11.144]\n",
      "STD of burst, tau and T: [ 4.064  0.158  3.572]\n",
      "Duration of 2 th iteration 243.68 min\n",
      "Iteration: 3\n",
      "Threshold distance 0.996\n",
      "Try: 0 First particles accepted: 3\n",
      "Try: 1 More particles accepted: 7\n",
      "Try: 2 More particles accepted: 12\n",
      "Try: 3 More particles accepted: 14\n",
      "Try: 4 More particles accepted: 20\n",
      "Try: 5 More particles accepted: 22\n",
      "Try: 6 More particles accepted: 24\n",
      "Try: 7 More particles accepted: 25\n",
      "Try: 8 More particles accepted: 29\n",
      "Try: 9 More particles accepted: 32\n",
      "Try: 10 More particles accepted: 33\n",
      "Slow creation of new particles, reduced number of tries to: 15\n",
      "Try: 11 More particles accepted: 38\n",
      "Try: 12 More particles accepted: 40\n",
      "Try: 13 More particles accepted: 42\n",
      "Try: 14 More particles accepted: 47\n",
      "Not enough particles accepted: 47\n",
      "# Created particles: 11659\n",
      "# particles better than stop: 0\n",
      "Min distance of current population: 0.789\n",
      "Mean distance of current population: 1.015\n",
      "Max distance of current population: 1.06\n",
      "Mean of burst, tau and T: [ 13.016   0.61   11.185]\n",
      "STD of burst, tau and T: [ 4.026  0.189  3.492]\n",
      "Duration of 3 th iteration 249.47 min\n",
      "STOP: no improvement gained, stopped after 2 iterations\n",
      "Duration of iterations: 733.76 min\n"
     ]
    }
   ],
   "source": [
    "alpha = 23.3\n",
    "threshold = 1.\n",
    "save = [True,path+'20pM_C646/','smc_C646_115_']\n",
    "smc = smc_abc(Data20pM_C646,Mock20pM_C646,start_population,iterations,stop,threshold=threshold,alpha = alpha,save = save)\n",
    "np.save(path+'20pM_C646/smc_C646_1000_115.npy',smc)"
   ]
  },
  {
   "cell_type": "code",
   "execution_count": null,
   "metadata": {
    "collapsed": true,
    "hidden": true,
    "level": 7
   },
   "outputs": [],
   "source": []
  }
 ],
 "metadata": {
  "anaconda-cloud": {},
  "hide_input": false,
  "kernelspec": {
   "display_name": "Python 2",
   "language": "python",
   "name": "python2"
  },
  "language_info": {
   "codemirror_mode": {
    "name": "ipython",
    "version": 2
   },
   "file_extension": ".py",
   "mimetype": "text/x-python",
   "name": "python",
   "nbconvert_exporter": "python",
   "pygments_lexer": "ipython2",
   "version": "2.7.13"
  },
  "latex_envs": {
   "bibliofile": "biblio.bib",
   "cite_by": "apalike",
   "current_citInitial": 1,
   "eqLabelWithNumbers": true,
   "eqNumInitial": 0
  },
  "notify_time": "5",
  "toc": {
   "toc_cell": false,
   "toc_number_sections": false,
   "toc_section_display": "block",
   "toc_threshold": 6,
   "toc_window_display": true
  },
  "toc_position": {
   "height": "792px",
   "left": "1553.94px",
   "right": "20px",
   "top": "119px",
   "width": "350px"
  }
 },
 "nbformat": 4,
 "nbformat_minor": 0
}
