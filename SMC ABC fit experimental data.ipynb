{
 "cells": [
  {
   "cell_type": "code",
   "execution_count": 6,
   "metadata": {
    "code_folding": [],
    "collapsed": true
   },
   "outputs": [],
   "source": [
    "# imports\n",
    "%run SMC_ABC_recoded.py\n",
    "%matplotlib inline\n",
    "import DataAnalysisFunctions as daf\n",
    "\n",
    "%px import numpy as np\n",
    "%px import scipy as sp\n",
    "%px import random\n",
    "%px from scipy import stats\n",
    "%px from ipyparallel import CompositeError\n",
    "\n",
    "rc[:]['create_parameter_vector'] = create_parameter_vector\n",
    "rc[:]['singleTranscript'] = singleTranscript\n",
    "\n",
    "# load experimental data\n",
    "path_data = '/Users/baumgaer/ownCloud/GitHub/gene_transcription_SMC_ABC/experimental_data/'\n",
    "\n",
    "data_0pME2 = np.loadtxt(path_data+'data_0pME2.csv')\n",
    "data_5pME2 = np.loadtxt(path_data+'data_5pME2.csv')\n",
    "data_7pME2 = np.loadtxt(path_data+'data_7pME2.csv')\n",
    "data_10pME2 = np.loadtxt(path_data+'data_10pME2.csv')\n",
    "data_14pME2 = np.loadtxt(path_data+'data_14pME2.csv')\n",
    "data_20pME2 = np.loadtxt(path_data+'data_20pME2.csv')\n",
    "data_100pME2 = np.loadtxt(path_data+'data_100pME2.csv')\n",
    "data_1000pME2 = np.loadtxt(path_data+'data_1000pME2.csv')\n",
    "\n",
    "mock_0pME2 = np.loadtxt(path_data+'mock_0pME2.csv')\n",
    "mock_5pME2 = np.loadtxt(path_data+'mock_5pME2.csv')\n",
    "mock_7pME2 = np.loadtxt(path_data+'mock_7pME2.csv')\n",
    "mock_10pME2 = np.loadtxt(path_data+'mock_10pME2.csv')\n",
    "mock_14pME2 = np.loadtxt(path_data+'mock_14pME2.csv')\n",
    "mock_20pME2 = np.loadtxt(path_data+'mock_20pME2.csv')\n",
    "mock_100pME2 = np.loadtxt(path_data+'mock_100pME2.csv')\n",
    "mock_1000pME2 = np.loadtxt(path_data+'mock_1000pME2.csv')"
   ]
  },
  {
   "cell_type": "markdown",
   "metadata": {
    "code_folding": [
     0
    ],
    "collapsed": true,
    "level": 1
   },
   "source": [
    "# Using Sequential Monte Carlo Approximate Bayesian Computation to fit experimental data"
   ]
  },
  {
   "cell_type": "markdown",
   "metadata": {
    "code_folding": [
     0
    ],
    "level": 1
   },
   "source": [
    "##  Create a large start population by random sampling\n",
    "\n",
    "Generate about 50000 candidate particles sampled from prior distributions. Simulate mRNA count only and save to file. Make the number of simulated cells larger than actual data sets. Before running SMC ABC take the start population, add noise and then find the best candidate particles for the SMC fitting. Reuse the start population for each fit be it real data or benchmark data. This should increase the sampling of the model and parameter space substantially.\n",
    "\n",
    "The resulting arrays of the simulations can become very big, thus it is easier not to hold all 50000 particles into one file but save 2000 or so particles into one file. This large start population is created only once and the sampled candidates are resused later before every fit to creat a sufficient start population."
   ]
  },
  {
   "cell_type": "code",
   "execution_count": 2,
   "metadata": {
    "code_folding": [],
    "collapsed": true,
    "level": 7
   },
   "outputs": [],
   "source": [
    "# parameters\n",
    "\n",
    "# population size for SMC ABC\n",
    "n_particles = 2000\n",
    "\n",
    "# stop distance\n",
    "stop = 0.2\n",
    "\n",
    "# maximal number of iterations\n",
    "iterations = 1\n",
    "\n",
    "# path to save the results\n",
    "path = '/Users/stephan/Desktop/gene_transcription_SMC_ABC/fits/'\n",
    "\n",
    "# folder to temporally store individual particles to find a good start population\n",
    "temp = '/Users/stephan/Desktop/temp/'\n",
    "\n",
    "# path to candidate particles from the large start population\n",
    "cand_path = '/Users/stephan/Desktop/gene_transcription_SMC_ABC/cand/'"
   ]
  },
  {
   "cell_type": "code",
   "execution_count": 10,
   "metadata": {
    "code_folding": [],
    "level": 7
   },
   "outputs": [
    {
     "name": "stdout",
     "output_type": "stream",
     "text": [
      "0\n",
      "Duration: 3.13\n",
      "1\n",
      "Duration: 3.14\n"
     ]
    }
   ],
   "source": [
    "# number of files to create\n",
    "rounds = 2\n",
    "start = 0\n",
    "count = start\n",
    "# sampled candidate particles per file\n",
    "n_particles = 50\n",
    "n_sim = 100\n",
    "while count - start < rounds:\n",
    "    print count - start\n",
    "    res = smc_start_multi(n_particles,n_sim)\n",
    "    np.save(cand_path+'res_'+str(count)+'.npy',res)\n",
    "    count = count + 1"
   ]
  },
  {
   "cell_type": "markdown",
   "metadata": {},
   "source": [
    "## Fit experimental data from estrogen dose response using the large sampled start population\n",
    "\n",
    "Here exemplified on the 0 pM estrogen data set"
   ]
  },
  {
   "cell_type": "markdown",
   "metadata": {
    "heading_collapsed": false,
    "level": 3
   },
   "source": [
    "### 0pM, no constraints on model topology"
   ]
  },
  {
   "cell_type": "code",
   "execution_count": 29,
   "metadata": {
    "code_folding": []
   },
   "outputs": [
    {
     "name": "stdout",
     "output_type": "stream",
     "text": [
      "File: 1 / 2\n",
      "File: 2 / 2\n",
      "Duration: 0.34 min\n",
      "Duration: 0.01 min\n"
     ]
    }
   ],
   "source": [
    "# compare data to blind shooting candidates\n",
    "paths = [cand_path,temp]\n",
    "dist_cand_0pM,par_cand_0pM = particle_distance_lut(Data0pM,Mock0pM,paths)\n",
    "\n",
    "# save distances and parameters of all candidate particles\n",
    "np.save(path + '0pM/dist_cand_0pM.npy',dist_cand_0pM)\n",
    "np.save(path+'0pM/par_cand_0pM.npy',par_cand_0pM)\n",
    "\n",
    "files = corrected_filelist(temp)\n",
    "start_population = best_start_particles(files,dist_cand_0pM,n_particles)\n",
    "np.save(path+'0pM/start_0pM_2000_corrected.npy',start_population)"
   ]
  },
  {
   "cell_type": "code",
   "execution_count": 3,
   "metadata": {
    "code_folding": [],
    "collapsed": true,
    "level": 7
   },
   "outputs": [],
   "source": [
    "start_population = np.load(path+'0pM/start_0pM_2000.npy')\n",
    "start_population[0][:,0] = 1./start_population[0].shape[0]"
   ]
  },
  {
   "cell_type": "code",
   "execution_count": 4,
   "metadata": {
    "code_folding": [],
    "level": 7,
    "scrolled": false
   },
   "outputs": [
    {
     "name": "stdout",
     "output_type": "stream",
     "text": [
      "# particles better than stop: 0\n",
      "Min start distance: 0.811\n",
      "Mean start distance: 3.313\n",
      "Max start distance: 4.83\n",
      "STD of start distance: 1.014\n",
      "Mean of burst, tau and T: [ 64.449   9.297  63.678]\n",
      "STD of burst, tau and T: [ 106.679    9.611   67.646]\n",
      "Iteration: 1\n",
      "Threshold distance 2.653\n"
     ]
    },
    {
     "name": "stderr",
     "output_type": "stream",
     "text": [
      "<string>:838: VisibleDeprecationWarning: using a non-integer number instead of an integer will result in an error in the future\n",
      "<string>:839: VisibleDeprecationWarning: using a non-integer number instead of an integer will result in an error in the future\n"
     ]
    },
    {
     "name": "stdout",
     "output_type": "stream",
     "text": [
      "Try: 0 First particles accepted: 71\n",
      "Try: 1 More particles accepted: 85\n",
      "Enough particles accepted: 85\n",
      "# Created particles: 98\n",
      "# particles better than stop: 0\n",
      "Min distance of current population: 0.531\n",
      "Mean distance of current population: 1.631\n",
      "Max distance of current population: 2.57\n",
      "Mean of burst, tau and T: [   5.598    2.194  173.988]\n",
      "STD of burst, tau and T: [   6.104    2.147  190.286]\n",
      "Duration of 1 th iteration 0.81 min\n",
      "Last iteration finished, max distance: 2.56965204996\n",
      "Duration of iterations: 0.81 min\n"
     ]
    }
   ],
   "source": [
    "alpha = 33.15\n",
    "threshold = 0.6\n",
    "save = [True,path+'0pM/','smc_0pM_']\n",
    "smc = smc_abc(Data0pM,Mock0pM,start_population,iterations,stop,threshold=threshold,alpha = alpha,save = save)\n",
    "np.save(path+'0pM/smc_0pM_2000_lut.npy',smc)"
   ]
  },
  {
   "cell_type": "markdown",
   "metadata": {
    "level": 4
   },
   "source": [
    "### Fit 115 model to 0 pM \n",
    "\n",
    "The 115 model (two state with combined source of extrinsic noise of RNA pol II elongation rate and initiation rate) is by far the most frequent model for the low estrogen concentrations. Fitting this model with fixed topology allows reduce the dimensionality of the search space. The 115 model has four kinetic parameters. Fitting all data sets with the same model topology is a way to assess the dependency of the model parameters on experimental conditions.\n",
    "\n",
    "Any other model from the list of allowed models can be fitted in a similar way by selecting the model topology of interest."
   ]
  },
  {
   "cell_type": "code",
   "execution_count": 12,
   "metadata": {
    "collapsed": true,
    "level": 7
   },
   "outputs": [],
   "source": [
    "# find the best 1000 particles in the posterior distribution for the 0 pM data set\n",
    "ind = np.where(smc_0pM[0][:,1,-1] == 5)[0]\n",
    "ind = ind[0:1000]\n",
    "start_population = [smc_0pM[0][ind,:,-1],smc_0pM[1][:,:,ind],smc_0pM[2][ind,:,-1],smc_0pM[3][:,:,ind]]\n",
    "start_population[0][:,0] = 1./1000."
   ]
  },
  {
   "cell_type": "code",
   "execution_count": 13,
   "metadata": {
    "collapsed": true,
    "level": 7
   },
   "outputs": [
    {
     "name": "stdout",
     "output_type": "stream",
     "text": [
      "# particles better than stop: 0\n",
      "Min start distance: 0.504\n",
      "Mean start distance: 0.61\n",
      "Max start distance: 0.64\n",
      "STD of start distance: 0.024\n",
      "Mean of burst, tau and T: [   4.168    1.618  309.055]\n",
      "STD of burst, tau and T: [  2.836   1.104  83.979]\n",
      "Iteration: 1\n",
      "Threshold distance 0.591\n",
      "Try: 0 First particles accepted: 15\n",
      "Try: 1 More particles accepted: 20\n",
      "Try: 2 More particles accepted: 32\n",
      "Try: 3 More particles accepted: 37\n",
      "Try: 4 More particles accepted: 52\n",
      "Try: 5 More particles accepted: 67\n",
      "Try: 6 More particles accepted: 85\n",
      "Try: 7 More particles accepted: 100\n",
      "Try: 8 More particles accepted: 116\n",
      "Try: 9 More particles accepted: 135\n",
      "Try: 10 More particles accepted: 143\n",
      "Slow creation of new particles, reduced number of tries to: 15\n",
      "Try: 11 More particles accepted: 155\n",
      "Try: 12 More particles accepted: 171\n",
      "Try: 13 More particles accepted: 180\n",
      "Try: 14 More particles accepted: 192\n",
      "Not enough particles accepted: 192\n",
      "# Created particles: 10692\n",
      "# particles better than stop: 0\n",
      "Min distance of current population: 0.504\n",
      "Mean distance of current population: 0.592\n",
      "Max distance of current population: 0.617\n",
      "Mean of burst, tau and T: [   3.164    1.333  297.112]\n",
      "STD of burst, tau and T: [  2.513   1.02   71.55 ]\n",
      "Duration of 1 th iteration 58.6 min\n",
      "Iteration: 2\n",
      "Threshold distance 0.576\n",
      "Try: 0 First particles accepted: 11\n",
      "Try: 1 More particles accepted: 19\n",
      "Try: 2 More particles accepted: 31\n",
      "Try: 3 More particles accepted: 38\n",
      "Try: 4 More particles accepted: 42\n",
      "Try: 5 More particles accepted: 50\n",
      "Try: 6 More particles accepted: 60\n",
      "Try: 7 More particles accepted: 67\n",
      "Try: 8 More particles accepted: 68\n",
      "Try: 9 More particles accepted: 74\n",
      "Try: 10 More particles accepted: 80\n",
      "Slow creation of new particles, reduced number of tries to: 15\n",
      "Try: 11 More particles accepted: 86\n",
      "Try: 12 More particles accepted: 91\n",
      "Try: 13 More particles accepted: 94\n",
      "Try: 14 More particles accepted: 96\n",
      "Not enough particles accepted: 96\n",
      "# Created particles: 11189\n",
      "# particles better than stop: 0\n",
      "Min distance of current population: 0.504\n",
      "Mean distance of current population: 0.583\n",
      "Max distance of current population: 0.606\n",
      "Mean of burst, tau and T: [   3.225    1.317  297.861]\n",
      "STD of burst, tau and T: [  2.464   0.82   66.961]\n",
      "Duration of 2 th iteration 64.77 min\n",
      "Iteration: 3\n",
      "Threshold distance 0.568\n",
      "Try: 0 First particles accepted: 4\n",
      "Try: 1 More particles accepted: 5\n",
      "Try: 2 More particles accepted: 10\n",
      "Try: 3 More particles accepted: 17\n",
      "Try: 4 More particles accepted: 22\n",
      "Try: 5 More particles accepted: 28\n",
      "Try: 6 More particles accepted: 32\n",
      "Try: 7 More particles accepted: 37\n",
      "Try: 8 More particles accepted: 38\n",
      "Try: 9 More particles accepted: 43\n",
      "Try: 10 More particles accepted: 48\n",
      "Slow creation of new particles, reduced number of tries to: 15\n",
      "Try: 11 More particles accepted: 50\n",
      "Try: 12 More particles accepted: 52\n",
      "Try: 13 More particles accepted: 54\n",
      "Try: 14 More particles accepted: 57\n",
      "Not enough particles accepted: 57\n",
      "# Created particles: 11560\n",
      "# particles better than stop: 0\n",
      "Min distance of current population: 0.504\n",
      "Mean distance of current population: 0.577\n",
      "Max distance of current population: 0.598\n",
      "Mean of burst, tau and T: [   3.412    1.234  295.439]\n",
      "STD of burst, tau and T: [  2.304   0.752  62.419]\n",
      "Duration of 3 th iteration 67.28 min\n",
      "STOP: no improvement gained, stopped after 2 iterations\n",
      "Duration of iterations: 190.67 min\n"
     ]
    }
   ],
   "source": [
    "alpha = 33.15\n",
    "\n",
    "# the threshold value defines the likelihood for changes on the model space. A value of one prohibits any jumps at \n",
    "# all and thus keeps the model topology fixed.\n",
    "threshold = 1.\n",
    "save = [True,path+'0pM/','smc_0pM_115_']\n",
    "smc = smc_abc(Data0pM,Mock0pM,start_population,iterations,stop,threshold=threshold,alpha = alpha,save = save)\n",
    "np.save(path+'0pM/smc_0pM_1000_115.npy',smc)"
   ]
  }
 ],
 "metadata": {
  "anaconda-cloud": {},
  "hide_input": false,
  "kernelspec": {
   "display_name": "Python 2",
   "language": "python",
   "name": "python2"
  },
  "language_info": {
   "codemirror_mode": {
    "name": "ipython",
    "version": 2
   },
   "file_extension": ".py",
   "mimetype": "text/x-python",
   "name": "python",
   "nbconvert_exporter": "python",
   "pygments_lexer": "ipython2",
   "version": "2.7.14"
  },
  "latex_envs": {
   "bibliofile": "biblio.bib",
   "cite_by": "apalike",
   "current_citInitial": 1,
   "eqLabelWithNumbers": true,
   "eqNumInitial": 0
  },
  "notify_time": "5",
  "toc": {
   "nav_menu": {},
   "number_sections": true,
   "sideBar": true,
   "skip_h1_title": false,
   "toc_cell": false,
   "toc_position": {
    "height": "1010px",
    "left": "0px",
    "right": "1594px",
    "top": "106px",
    "width": "326px"
   },
   "toc_section_display": "block",
   "toc_window_display": true
  },
  "toc_position": {
   "height": "792px",
   "left": "1553.94px",
   "right": "20px",
   "top": "119px",
   "width": "350px"
  },
  "varInspector": {
   "cols": {
    "lenName": 16,
    "lenType": 16,
    "lenVar": 40
   },
   "kernels_config": {
    "python": {
     "delete_cmd_postfix": "",
     "delete_cmd_prefix": "del ",
     "library": "var_list.py",
     "varRefreshCmd": "print(var_dic_list())"
    },
    "r": {
     "delete_cmd_postfix": ") ",
     "delete_cmd_prefix": "rm(",
     "library": "var_list.r",
     "varRefreshCmd": "cat(var_dic_list()) "
    }
   },
   "types_to_exclude": [
    "module",
    "function",
    "builtin_function_or_method",
    "instance",
    "_Feature"
   ],
   "window_display": false
  }
 },
 "nbformat": 4,
 "nbformat_minor": 1
}
