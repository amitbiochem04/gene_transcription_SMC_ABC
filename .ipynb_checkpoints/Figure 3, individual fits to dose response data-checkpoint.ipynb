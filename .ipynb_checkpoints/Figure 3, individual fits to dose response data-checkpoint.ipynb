{
 "cells": [
  {
   "cell_type": "code",
   "execution_count": 2,
   "metadata": {
    "code_folding": [],
    "collapsed": true
   },
   "outputs": [],
   "source": [
    "# imports and data\n",
    "%matplotlib inline\n",
    "%run SMC_ABC_recoded.py\n",
    "%run plotting_paper.py\n",
    "colors_conditions = colormap_conditions(sp.linspace(0,1,8))\n",
    "\n",
    "%px import numpy as np\n",
    "%px import scipy as sp\n",
    "%px import random\n",
    "%px from scipy import stats\n",
    "%px from ipyparallel import CompositeError\n",
    "\n",
    "rc[:]['create_parameter_vector'] = create_parameter_vector\n",
    "rc[:]['singleTranscript'] = singleTranscript\n"
   ]
  },
  {
   "cell_type": "code",
   "execution_count": 3,
   "metadata": {
    "code_folding": [],
    "collapsed": true
   },
   "outputs": [],
   "source": [
    "# load fitting results\n",
    "path = '/Volumes/Data/IMB/python/stochastic_modelling/ABC/Fitting_Cre/2nd_rep/'\n",
    "# smc_0pM = np.load(path+'0pM/smc_0pM_2000_univ_1_5.npy')\n",
    "# smc_0pM_110 = np.load(path+'0pM/smc_0pM_2000_univ_1_5_110.npy')\n",
    "smc_0pM_115 = np.load(path+'0pM/smc_0pM_1000_115_univ_1_5.npy')\n",
    "# smc_5pM = np.load(path+'5pM/smc_5pM_2000_univ_1_5.npy')\n",
    "# smc_5pM_110 = np.load(path+'5pM/smc_5pM_2000_univ_1_5_110.npy')\n",
    "smc_5pM_115 = np.load(path+'5pM/smc_5pM_1000_115_univ_1_5.npy')\n",
    "# smc_7pM = np.load(path+'7pM/smc_7pM_2000_univ_1_5.npy')\n",
    "# smc_7pM_110 = np.load(path+'7pM/smc_7pM_2000_univ_1_5_110.npy')\n",
    "smc_7pM_115 = np.load(path+'7pM/smc_7pM_1000_115_univ_1_5.npy')\n",
    "# smc_10pM = np.load(path+'10pM/smc_10pM_2000_univ_1_5.npy')\n",
    "# smc_10pM_110 = np.load(path+'10pM/smc_10pM_2000_univ_1_5_110.npy')\n",
    "# smc_10pM_111 = np.load(path+'10pM/smc_10pM_2000_univ_1_5_111.npy')\n",
    "# smc_10pM_112 = np.load(path+'10pM/smc_10pM_2000_univ_1_5_112.npy')\n",
    "smc_10pM_115 = np.load(path+'10pM/smc_10pM_1000_115_univ_1_5.npy')\n",
    "# smc_14pM = np.load(path+'14pM/smc_14pM_2000_univ_1_5.npy')\n",
    "# smc_14pM_110 = np.load(path+'14pM/smc_14pM_2000_univ_1_5_110.npy')\n",
    "smc_14pM_115 = np.load(path+'14pM/smc_14pM_1000_115_univ_1_5.npy')\n",
    "# smc_20pM = np.load(path+'20pM/smc_20pM_2000_univ_1_5.npy')\n",
    "# smc_20pM_110 = np.load(path+'20pM/smc_20pM_2000_univ_1_5_110.npy')\n",
    "smc_20pM_115 = np.load(path+'20pM/smc_20pM_1000_115_univ_1_5.npy')\n",
    "# smc_100pM = np.load(path+'100pM/smc_100pM_2000_univ_1_5.npy')\n",
    "# smc_100pM_110 = np.load(path+'100pM/smc_100pM_2000_univ_1_5_110.npy')\n",
    "smc_100pM_115 = np.load(path+'100pM/smc_100pM_1000_115_univ_1_5.npy')\n",
    "# smc_1000pM = np.load(path+'1000pM/smc_1000pM_2000_univ_1_5.npy')\n",
    "# smc_1000pM_110 = np.load(path+'1000pM/smc_1000pM_2000_univ_1_5_110.npy')\n",
    "smc_1000pM_115 = np.load(path+'1000pM/smc_1000pM_1000_115_univ_1_5.npy')"
   ]
  },
  {
   "cell_type": "markdown",
   "metadata": {},
   "source": [
    "# Individual parameter posterior values"
   ]
  },
  {
   "cell_type": "markdown",
   "metadata": {
    "code_folding": [
     0
    ]
   },
   "source": [
    "## Perturbation parameter"
   ]
  },
  {
   "cell_type": "code",
   "execution_count": 13,
   "metadata": {},
   "outputs": [
    {
     "data": {
      "image/png": "[encoded data removed]",
      "text/plain": [
       "<matplotlib.figure.Figure at 0x116865550>"
      ]
     },
     "metadata": {},
     "output_type": "display_data"
    }
   ],
   "source": [
    "sigma_km = [smc_0pM_115[0][:,5,-1],smc_5pM_115[0][:,5,-1],smc_7pM_115[0][:,5,-1],smc_10pM_115[0][:,5,-1],smc_14pM_115[0][:,5,-1],smc_100pM_115[0][:,5,-1],smc_1000pM_115[0][:,5,-1]]\n",
    "\n",
    "fig,ax = pl.subplots(1,1, figsize = (7,5))\n",
    "bp = ax.boxplot(sigma_km,patch_artist = True, whis = [5,95], showfliers = False)\n",
    "nice_boxplots(bp)\n",
    "\n",
    "ax.set_xticklabels(labels_all, rotation = 0);\n",
    "ax.set_ylabel('$\\sigma_{k_{init}} (RNA/min)$')\n",
    "\n",
    "pl.tight_layout()\n",
    "pl.savefig(plot_path+'fig3_supp_posterior_sigma_kinit.svg',dpi = dpi)"
   ]
  },
  {
   "cell_type": "code",
   "execution_count": null,
   "metadata": {
    "collapsed": true
   },
   "outputs": [],
   "source": []
  }
 ],
 "metadata": {
  "hide_input": false,
  "kernelspec": {
   "display_name": "Python 2",
   "language": "python",
   "name": "python2"
  },
  "language_info": {
   "codemirror_mode": {
    "name": "ipython",
    "version": 2
   },
   "file_extension": ".py",
   "mimetype": "text/x-python",
   "name": "python",
   "nbconvert_exporter": "python",
   "pygments_lexer": "ipython2",
   "version": "2.7.14"
  },
  "toc": {
   "nav_menu": {
    "height": "48px",
    "width": "252px"
   },
   "number_sections": true,
   "sideBar": true,
   "skip_h1_title": false,
   "toc_cell": false,
   "toc_position": {},
   "toc_section_display": "block",
   "toc_window_display": false
  },
  "varInspector": {
   "cols": {
    "lenName": 16,
    "lenType": 16,
    "lenVar": 40
   },
   "kernels_config": {
    "python": {
     "delete_cmd_postfix": "",
     "delete_cmd_prefix": "del ",
     "library": "var_list.py",
     "varRefreshCmd": "print(var_dic_list())"
    },
    "r": {
     "delete_cmd_postfix": ") ",
     "delete_cmd_prefix": "rm(",
     "library": "var_list.r",
     "varRefreshCmd": "cat(var_dic_list()) "
    }
   },
   "types_to_exclude": [
    "module",
    "function",
    "builtin_function_or_method",
    "instance",
    "_Feature"
   ],
   "window_display": false
  }
 },
 "nbformat": 4,
 "nbformat_minor": 2
}
