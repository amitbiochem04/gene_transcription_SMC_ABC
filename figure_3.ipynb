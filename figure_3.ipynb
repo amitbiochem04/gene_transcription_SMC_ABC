{
 "cells": [
  {
   "cell_type": "code",
   "execution_count": 95,
   "metadata": {
    "code_folding": [
     0
    ]
   },
   "outputs": [],
   "source": [
    "# imports and settings\n",
    "%run plot_settings.py\n",
    "%matplotlib inline\n",
    "\n",
    "# load experimental data\n",
    "path_data = '/Users/baumgaer/ownCloud/GitHub/gene_transcription_SMC_ABC/experimental_data/'\n",
    "\n",
    "data_0pME2 = np.loadtxt(path_data+'data_0pME2.csv')\n",
    "data_5pME2 = np.loadtxt(path_data+'data_5pME2.csv')\n",
    "data_7pME2 = np.loadtxt(path_data+'data_7pME2.csv')\n",
    "data_10pME2 = np.loadtxt(path_data+'data_10pME2.csv')\n",
    "data_14pME2 = np.loadtxt(path_data+'data_14pME2.csv')\n",
    "data_20pME2 = np.loadtxt(path_data+'data_20pME2.csv')\n",
    "data_100pME2 = np.loadtxt(path_data+'data_100pME2.csv')\n",
    "data_1000pME2 = np.loadtxt(path_data+'data_1000pME2.csv')\n",
    "\n",
    "mock_0pME2 = np.loadtxt(path_data+'mock_0pME2.csv')\n",
    "mock_5pME2 = np.loadtxt(path_data+'mock_5pME2.csv')\n",
    "mock_7pME2 = np.loadtxt(path_data+'mock_7pME2.csv')\n",
    "mock_10pME2 = np.loadtxt(path_data+'mock_10pME2.csv')\n",
    "mock_14pME2 = np.loadtxt(path_data+'mock_14pME2.csv')\n",
    "mock_20pME2 = np.loadtxt(path_data+'mock_20pME2.csv')\n",
    "mock_100pME2 = np.loadtxt(path_data+'mock_100pME2.csv')\n",
    "mock_1000pME2 = np.loadtxt(path_data+'mock_1000pME2.csv')\n",
    "\n",
    "# load fitting results\n",
    "path_fits = '/Users/baumgaer/ownCloud/GitHub/gene_transcription_SMC_ABC/model_fits/dose_response/'\n",
    "smc_0pM = np.load(path_fits+'smc_0pM.npy')\n",
    "smc_0pM_110 = np.load(path_fits+'smc_0pM_110.npy')\n",
    "smc_0pM_115 = np.load(path_fits+'smc_0pM_115.npy')\n",
    "smc_5pM = np.load(path_fits+'smc_5pM.npy')\n",
    "smc_5pM_110 = np.load(path_fits+'smc_5pM_110.npy')\n",
    "smc_5pM_115 = np.load(path_fits+'smc_5pM_115.npy')\n",
    "smc_7pM = np.load(path_fits+'smc_7pM.npy')\n",
    "smc_7pM_110 = np.load(path_fits+'smc_7pM_110.npy')\n",
    "smc_7pM_115 = np.load(path_fits+'smc_7pM_115.npy')\n",
    "smc_10pM = np.load(path_fits+'smc_10pM.npy')\n",
    "smc_10pM_110 = np.load(path_fits+'smc_10pM_110.npy')\n",
    "smc_10pM_111 = np.load(path_fits+'smc_10pM_111.npy')\n",
    "smc_10pM_112 = np.load(path_fits+'smc_10pM_112.npy')\n",
    "smc_10pM_115 = np.load(path_fits+'smc_10pM_115.npy')\n",
    "smc_14pM = np.load(path_fits+'smc_14pM.npy')\n",
    "smc_14pM_110 = np.load(path_fits+'smc_14pM_110.npy')\n",
    "smc_14pM_115 = np.load(path_fits+'smc_14pM_115.npy')\n",
    "smc_20pM = np.load(path_fits+'smc_20pM.npy')\n",
    "smc_20pM_110 = np.load(path_fits+'smc_20pM_110.npy')\n",
    "smc_20pM_115 = np.load(path_fits+'smc_20pM_115.npy')\n",
    "smc_100pM = np.load(path_fits+'smc_100pM.npy')\n",
    "smc_100pM_110 = np.load(path_fits+'smc_100pM_110.npy')\n",
    "smc_100pM_115 = np.load(path_fits+'smc_100pM_115.npy')\n",
    "smc_1000pM = np.load(path_fits+'smc_1000pM.npy')\n",
    "smc_1000pM_110 = np.load(path_fits+'smc_1000pM_110.npy')\n",
    "smc_1000pM_115 = np.load(path_fits+'smc_1000pM_115.npy')"
   ]
  },
  {
   "cell_type": "markdown",
   "metadata": {},
   "source": [
    "# Model selection"
   ]
  },
  {
   "cell_type": "markdown",
   "metadata": {},
   "source": [
    "## Model selection Fig 3"
   ]
  },
  {
   "cell_type": "code",
   "execution_count": 65,
   "metadata": {
    "code_folding": [
     0,
     18
    ],
    "collapsed": true
   },
   "outputs": [],
   "source": [
    "def model_selection_matrix(smc_res):\n",
    "    selection = np.zeros((len(smc_res), smc_res[0].shape[0]))\n",
    "    for ii, smc in enumerate(smc_res):\n",
    "        selection[ii] = smc[:, 1]\n",
    "\n",
    "    res = np.zeros((5, 8))\n",
    "    res_ind = [(0, 0), (0, 1), (0, 2), (0, 3), (0, 4), (0, 5), (0, 6), (0, 7),\n",
    "               (1, 0), (1, 1), (1, 2), (1, 3), (1, 4), (1, 5), (1, 6), (1, 7),\n",
    "               (2, 0), (2, 1), (2, 2), (2, 3), (2, 4), (2, 5), (2, 6), (2, 7),\n",
    "               (3, 0), (3, 1), (3, 2), (3, 3), (3, 4), (3, 5), (3, 6), (3, 7),\n",
    "               (4, 0), (4, 1), (4, 2), (4, 3), (4, 4), (4, 5), (4, 6), (4, 7)]\n",
    "\n",
    "    for ii, ind in enumerate(res_ind):\n",
    "        model_count = np.where(selection == ii)[0].shape[0]\n",
    "        res[ind] = model_count\n",
    "\n",
    "    return selection, res\n",
    "\n",
    "def fig3_model_selection(smc_res, save = [False]):\n",
    "    fig,ax = pl.subplots(1,1, figsize = (6,6))\n",
    "    \n",
    "    cmap = matplotlib.cm.gray\n",
    "    interpolation = 'none'\n",
    "    aspect = 'auto'\n",
    "    \n",
    "    selection, model_mat = model_selection_matrix(smc_res)\n",
    "    model_mat = model_mat / model_mat.sum()\n",
    "    n = 10\n",
    "    mat = np.kron(model_mat,np.ones((n,n)))\n",
    "    cax1 = ax.imshow(mat.transpose(), interpolation = interpolation, aspect = aspect, cmap = cmap)\n",
    "    cax1.set_clim(-0.05, 0.42)\n",
    "    ylabel = ['', 'no perturbation', 'Pol II speed', 'Initiation rate', 'On time', 'Off time',\n",
    "              'Pol II speed + initiation rate', 'Pol II speed + on time', 'Pol II speed + off time']\n",
    "    ax.set_yticklabels(ylabel)\n",
    "\n",
    "    xlabel = ['', 'One on, one off', 'One on, two off', 'Two on, two off', 'One on, nine off', 'Two on, eight off']\n",
    "    ax.set_xticklabels(xlabel, rotation = 90)\n",
    "\n",
    "    cbar = fig.add_axes([0.92, 0.125, 0.04, 0.754])\n",
    "    fig.colorbar(cax1, cax = cbar, orientation = \"vertical\", ticks = [0,0.2,0.4])\n",
    "    cbar.set_ylabel('Percentage')\n",
    "    \n",
    "    if save[0] == True:\n",
    "        pl.savefig(save[1] + save[2], dpi = save[3], format = 'svg')"
   ]
  },
  {
   "cell_type": "code",
   "execution_count": 66,
   "metadata": {},
   "outputs": [
    {
     "data": {
      "image/png": "[encoded data removed]",
      "text/plain": [
       "<matplotlib.figure.Figure at 0x10e547c10>"
      ]
     },
     "metadata": {},
     "output_type": "display_data"
    }
   ],
   "source": [
    "smc_res = [smc_0pM[0],smc_5pM[0],smc_7pM[0],smc_10pM[0],smc_14pM[0],smc_20pM[0],smc_100pM[0],smc_1000pM[0]]\n",
    "fig3_model_selection(smc_res)"
   ]
  },
  {
   "cell_type": "markdown",
   "metadata": {},
   "source": [
    "## Model selection Fig EV3"
   ]
  },
  {
   "cell_type": "code",
   "execution_count": 88,
   "metadata": {
    "code_folding": [
     0
    ],
    "collapsed": true
   },
   "outputs": [],
   "source": [
    "def fig_EV3_full_model_selection(smc_res,\n",
    "                                 labels = ['110','111','112','113','114','115','116','117',\n",
    "                                           '120','121','122','123','124','125','126','127',\n",
    "                                           '220','221','222','223','224','225','226','227',\n",
    "                                           '190','191','192','193','194','195','196','197',\n",
    "                                           '280','281','282','283','284','285','286','287'],\n",
    "                                 conc = ['','0 pM','5 pM','7 pM','10 pM','14 pM','20 pM','100 pM','1000 pM'],\n",
    "                                 save = [False]):\n",
    "    count = []\n",
    "    for smc in smc_res:\n",
    "        m = smc[:,1]\n",
    "        c = np.bincount(np.array(m,dtype=int),minlength=40)\n",
    "        count.append(c)\n",
    "        \n",
    "    res = np.vstack(count)\n",
    "    \n",
    "    res = sp.log10(res)\n",
    "    interpolation = 'none'\n",
    "    aspect = 'auto'\n",
    "    cmap = matplotlib.cm.viridis\n",
    "    \n",
    "    fig,ax = pl.subplots(1,1, figsize = (10,4))\n",
    "    cax = ax.imshow(res,interpolation = interpolation,aspect = aspect, cmap = cmap)\n",
    "    cbar = fig.add_axes([0.92,0.1,0.02,0.8])\n",
    "    fig.colorbar(cax, cax = cbar,orientation=\"vertical\",ticks = [0,1,2,3])\n",
    "    cbar.set_yticklabels([1,10,100,1000])\n",
    "\n",
    "    ax.set_xticks(np.arange(0,40))\n",
    "    ax.set_xticklabels(labels, rotation = 90);\n",
    "    ax.set_xlabel('Models')\n",
    "    ax.set_yticklabels(conc);\n",
    "    ax.set_ylabel('Concentration')\n",
    "    \n",
    "    if save[0] == True:\n",
    "        pl.savefig(save[1] + save[2], dpi = save[3], format = 'svg')\n",
    "        "
   ]
  },
  {
   "cell_type": "code",
   "execution_count": 93,
   "metadata": {},
   "outputs": [
    {
     "data": {
      "image/png": "[encoded data removed]",
      "text/plain": [
       "<matplotlib.figure.Figure at 0x10e46a5d0>"
      ]
     },
     "metadata": {},
     "output_type": "display_data"
    }
   ],
   "source": [
    "fig_EV3_full_model_selection(smc_res)"
   ]
  },
  {
   "cell_type": "markdown",
   "metadata": {},
   "source": [
    "# Goodness of fit"
   ]
  },
  {
   "cell_type": "markdown",
   "metadata": {},
   "source": [
    "## Distance metric"
   ]
  },
  {
   "cell_type": "code",
   "execution_count": 160,
   "metadata": {
    "collapsed": true
   },
   "outputs": [],
   "source": [
    "def fig_EV3_distance(smc_dist,\n",
    "                    conc = ['0','5','7','10','14','20','100','1000'],\n",
    "                    save=[False]):\n",
    "    dist = []\n",
    "    \n",
    "    for smc in smc_dist:\n",
    "        dist.append(smc[:,-1])\n",
    "        \n",
    "    fig,ax = pl.subplots(1,1, figsize = (5,5))\n",
    "    \n",
    "    bp = ax.boxplot(dist, patch_artist=True, whis = [5,95], showfliers=False)\n",
    "    nice_boxplots(bp)\n",
    "    ax.set_ylabel('Distance between model and data')\n",
    "    ax.set_xticklabels(conc, rotation = 90)\n",
    "    ax.set_xlabel('E2 concentration (pM)')\n",
    "    \n",
    "    ax.plot([0,9],[0.5,0.5],'--',lw = 2, color = 'lightgrey')\n",
    "    \n",
    "    pl.tight_layout()\n",
    "    if save[0] == True:\n",
    "        pl.savefig(save[1] + save[2], dpi=save[3])"
   ]
  },
  {
   "cell_type": "code",
   "execution_count": 161,
   "metadata": {},
   "outputs": [
    {
     "data": {
      "image/png": "[encoded data removed]",
      "text/plain": [
       "<matplotlib.figure.Figure at 0x10b6b96d0>"
      ]
     },
     "metadata": {},
     "output_type": "display_data"
    }
   ],
   "source": [
    "smc_dist = [smc_0pM[2],smc_5pM[2],smc_7pM[2],smc_10pM[2],smc_14pM[2],smc_20pM[2],smc_100pM[2],smc_1000pM[2]]\n",
    "fig_EV3_distance(smc_dist)"
   ]
  },
  {
   "cell_type": "code",
   "execution_count": 213,
   "metadata": {
    "code_folding": [
     0
    ]
   },
   "outputs": [],
   "source": [
    "def fig_EV3_distance_variability(smc_dist_110,smc_dist_115,smc_dist_111,smc_dist_112,\n",
    "                          conc = ['0','5','7','10','14','20','100','1000'],\n",
    "                          save=[False]):\n",
    "    \n",
    "    dist_110 = []\n",
    "    dist_115 = []\n",
    "    for ii,smc_110 in enumerate(smc_dist_110):\n",
    "        dist_110.append(smc_110[:,-1])\n",
    "        dist_115.append(smc_dist_115[ii][:,-1])\n",
    "\n",
    "    positions_110 = np.array([0,2,4,6,10,12,14,16])    \n",
    "    positions_115 = np.array([1,3,5,9,11,13,15,17])\n",
    "    ticks = [0.5,2.5,4.5,7.5,10.5,12.5,14.5,16.5]\n",
    "    vert_lines = [1.5,3.5,5.5,9.5,11.5,13.5,15.5]\n",
    "    widths = 0.4\n",
    "    \n",
    "    fig,ax = pl.subplots(1,1, figsize = (10,5))\n",
    "    \n",
    "    bp = ax.boxplot(dist_110,positions=positions_110,patch_artist=True,whis=[5,95],showfliers=False,widths=widths)\n",
    "    nice_boxplots(bp)\n",
    "    \n",
    "    bp = ax.boxplot(dist_115,positions=positions_115,patch_artist=True,whis=[5,95],showfliers=False, widths=widths)\n",
    "    for box in bp['boxes']:\n",
    "        box.set(facecolor = 'lime')\n",
    "    for median in bp['medians']:\n",
    "        median.set(color='dimgrey', linewidth=1)\n",
    "        \n",
    "    bp = ax.boxplot([smc_dist_111],positions=[7], patch_artist=True, showfliers=False, whis = [5,95], widths = widths)\n",
    "    for box in bp['boxes']:\n",
    "        box.set(facecolor = 'steelblue')\n",
    "    for median in bp['medians']:\n",
    "        median.set(color='dimgrey', linewidth=1)\n",
    "        \n",
    "    bp = ax.boxplot([smc_dist_112],positions=[8], patch_artist=True, showfliers=False, whis = [5,95], widths = widths)\n",
    "    for box in bp['boxes']:\n",
    "        box.set(facecolor = 'green')\n",
    "    for median in bp['medians']:\n",
    "        median.set(color='dimgrey', linewidth=1)\n",
    "        \n",
    "    for ll in vert_lines:\n",
    "        ax.plot([ll,ll],[0,1.4],'--',lw = 2, color = 'lightgrey')\n",
    "\n",
    "    ax.set_ylabel('Distance between model and data')\n",
    "    ax.set_xticks(ticks)\n",
    "    ax.set_xticklabels(conc, rotation = 90)\n",
    "    ax.set_xlabel('E2 concentration (pM)')\n",
    "    ax.set_xlim(-1,18)\n",
    "    ax.set_ylim(0,1.35)\n",
    "    \n",
    "    ax.plot([10,10],[10,10],'s', ms = 10, color= 'dimgrey', label = '110')\n",
    "    ax.plot([10,10],[10,10],'s', ms = 10, color= 'lime', label = '115')\n",
    "    ax.plot([10,10],[10,10],'s', ms = 10, color= 'steelblue', label = '111')\n",
    "    ax.plot([10,10],[10,10],'s', ms = 10, color= 'green', label = '112')\n",
    "    ax.legend(loc = 'best', fontsize = 14)\n",
    "    \n",
    "    pl.tight_layout()\n",
    "    if save[0] == True:\n",
    "        pl.savefig(save[1] + save[2], dpi=save[3])"
   ]
  },
  {
   "cell_type": "code",
   "execution_count": 214,
   "metadata": {},
   "outputs": [
    {
     "data": {
      "image/png": "[encoded data removed]",
      "text/plain": [
       "<matplotlib.figure.Figure at 0x1a1ad9a050>"
      ]
     },
     "metadata": {},
     "output_type": "display_data"
    }
   ],
   "source": [
    "smc_dist_110 = [smc_0pM_110[2],smc_5pM_110[2],smc_7pM_110[2],smc_10pM_110[2],smc_14pM_110[2],smc_20pM_110[2],smc_100pM_110[2],smc_1000pM_110[2]]\n",
    "smc_dist_115 = [smc_0pM_115[2],smc_5pM_115[2],smc_7pM_115[2],smc_10pM_115[2],smc_14pM_115[2],smc_20pM_115[2],smc_100pM_115[2],smc_1000pM_115[2]]\n",
    "\n",
    "fig_EV3_distance_variability(smc_dist_110,smc_dist_115,smc_10pM_111[2][:,-1],smc_10pM_112[2][:,-1])"
   ]
  },
  {
   "cell_type": "markdown",
   "metadata": {},
   "source": [
    "## Best particles"
   ]
  },
  {
   "cell_type": "code",
   "execution_count": 4,
   "metadata": {
    "collapsed": true
   },
   "outputs": [],
   "source": [
    "def figure_3_best_particles(data, mock, smc_simulations, windows=win, save=[False],\n",
    "                  n_part=10):\n",
    "    lw = 3\n",
    "    factor = [33.15, 33.15, 33.15, 33.15, 33.15, 33.15, 23.3, 23.3]\n",
    "    ind_hist = [[6, 38], [6, 38], [6, 38], [6, 38], [6, 38], [6, 38], [4, 37], [4, 37]]\n",
    "    color = 'crimson'\n",
    "    color_fits = 'dimgrey'\n",
    "    # color_bg = 'lightgrey'\n",
    "    alpha = 0.7\n",
    "    alpha_fits = 0.05\n",
    "    ind = [0, 1, 3, 6]\n",
    "    bins_hl = sp.linspace(0, 15, 20)\n",
    "    bin_centers_hl = (bins_hl[1:] - bins_hl[:-1]) / 2 + bins_hl[:-1]\n",
    "    bins_lag = sp.linspace(0, 1, 20)\n",
    "    bin_centers_lag = (bins_lag[1:] - bins_lag[:-1]) / 2 + bins_lag[:-1]\n",
    "\n",
    "    matplotlib.rcParams.update({'font.size': 15, 'font.family': 'sans'})\n",
    "    fig, ax = pl.subplots(len(data), 4, figsize=(1.4 * fig_width, 4 * figheight_single))\n",
    "\n",
    "    for ii in np.arange(0, len(data)):\n",
    "\n",
    "        for jj in np.arange(0, n_part):\n",
    "            bins, hist = spl.calc_histogram(smc_simulations[ii][:, :, jj])\n",
    "            ax[ii, 0].plot(bins[ind_hist[ii][0]:ind_hist[ii][1]] / factor[ii], hist[ind_hist[ii][0]:ind_hist[ii][1]],\n",
    "                           lw=1, alpha=alpha_fits, color=color_fits)\n",
    "\n",
    "            ts, acf = smc.acf_sliding_window(smc_simulations[ii][:, :, jj], windows)\n",
    "            acf_m = smc.average_acf(acf)\n",
    "            ax[ii, 1].plot(np.arange(0, len(acf_m.mean(axis=0)))[0:34] * 3,\n",
    "                           acf_m.mean(axis=0)[0:34], lw=2, color=color_fits, alpha=alpha_fits)\n",
    "\n",
    "            acf_hl_hist = bootstrap_acf_hl(acf, bins_hl)\n",
    "            hl_m = acf_hl_hist.mean(axis=0)\n",
    "            ax[ii, 2].plot(bin_centers_hl, hl_m, lw=2, color=color_fits, alpha=alpha_fits)\n",
    "\n",
    "            acf_lag_hist = bootstrap_acf_lag(acf, bins_lag)\n",
    "            lag_m = acf_lag_hist.mean(axis=0)\n",
    "            ax[ii, 3].plot(bin_centers_lag, lag_m, lw=2, color=color_fits, alpha=alpha_fits)\n",
    "\n",
    "        bins, hist = spl.calc_histogram(data[ii])\n",
    "        ax[ii, 0].plot(bins[ind_hist[ii][0]:ind_hist[ii][1]] / factor[ii], hist[ind_hist[ii][0]:ind_hist[ii][1]],\n",
    "                       color=color, lw=2)\n",
    "\n",
    "        ts, acf = smc.acf_sliding_window(data[ii], windows)\n",
    "        acf_m = smc.average_acf(acf)\n",
    "        ax[ii, 1].plot(np.arange(0, len(acf_m.mean(axis=0)))[0:34] * 3,\n",
    "                       acf_m.mean(axis=0)[0:34], lw=2, color=color)\n",
    "\n",
    "        acf_hl_hist = bootstrap_acf_hl(acf, bins_hl)\n",
    "        hl_m = acf_hl_hist.mean(axis=0)\n",
    "        ax[ii, 2].plot(bin_centers_hl, hl_m, lw=2, color=color)\n",
    "\n",
    "        acf_lag_hist = bootstrap_acf_lag(acf, bins_lag)\n",
    "        lag_m = acf_lag_hist.mean(axis=0)\n",
    "        ax[ii, 3].plot(bin_centers_lag, lag_m, lw=2, color=color)\n",
    "\n",
    "        ax[ii, 0].set_xlabel('#RNA')\n",
    "        ax[ii, 0].set_ylabel('Frequency')\n",
    "        ax[ii, 0].set_xscale('log')\n",
    "        ticks = [0.0, 0.05, 0.1, 0.15, 0.2]\n",
    "        ax[ii, 0].set_yticks(ticks)\n",
    "        ax[ii, 0].set_xlim(1e-1, 2e2)\n",
    "\n",
    "        ax[ii, 1].set_xlim(0, 100)\n",
    "        ax[ii, 1].set_ylabel('ACF')\n",
    "        ax[ii, 1].set_xlabel('Lag (min)')\n",
    "        ax[ii, 1].set_ylim(-.2, 1)\n",
    "\n",
    "        ax[ii, 2].set_ylabel('Frequency')\n",
    "        ax[ii, 2].set_ylim(0, 0.5)\n",
    "        ax[ii, 2].set_xlim(0, 15)\n",
    "        ticks = [0, 2, 4, 6, 8, 10, 12, 14]\n",
    "        ax[ii, 2].set_xticks(ticks)\n",
    "        ax[ii, 2].set_xticklabels(ticks * 3)\n",
    "        ax[ii, 2].set_xlabel('ACF HL (min)')\n",
    "\n",
    "        ax[ii, 3].set_ylabel('Frequency')\n",
    "        ax[ii, 3].set_xlabel('ACF @ lag = 1')\n",
    "        ax[ii, 3].set_xlim(0, 1)\n",
    "        ax[ii, 3].set_ylim(0, 15)\n",
    "\n",
    "    pl.tight_layout()\n",
    "    if save[0] == True:\n",
    "        pl.savefig(save[1] + save[2], dpi=save[3])"
   ]
  },
  {
   "cell_type": "code",
   "execution_count": 5,
   "metadata": {},
   "outputs": [
    {
     "ename": "NameError",
     "evalue": "name 'data_all' is not defined",
     "output_type": "error",
     "traceback": [
      "\u001b[0;31m---------------------------------------------------------------------------\u001b[0m",
      "\u001b[0;31mNameError\u001b[0m                                 Traceback (most recent call last)",
      "\u001b[0;32m<ipython-input-5-163d162b4ada>\u001b[0m in \u001b[0;36m<module>\u001b[0;34m()\u001b[0m\n\u001b[1;32m      2\u001b[0m                       smc_20pM[1],smc_100pM[1],smc_1000pM[1]]\n\u001b[1;32m      3\u001b[0m \u001b[0;34m\u001b[0m\u001b[0m\n\u001b[0;32m----> 4\u001b[0;31m \u001b[0mfigure_3_best_particles\u001b[0m\u001b[0;34m(\u001b[0m\u001b[0mdata_all\u001b[0m\u001b[0;34m,\u001b[0m\u001b[0mmock_all\u001b[0m\u001b[0;34m,\u001b[0m\u001b[0msmc_simulations_all\u001b[0m\u001b[0;34m,\u001b[0m\u001b[0mn_part\u001b[0m \u001b[0;34m=\u001b[0m \u001b[0;36m5\u001b[0m\u001b[0;34m)\u001b[0m\u001b[0;34m\u001b[0m\u001b[0m\n\u001b[0m",
      "\u001b[0;31mNameError\u001b[0m: name 'data_all' is not defined"
     ]
    }
   ],
   "source": [
    "smc_simulations_all = [smc_0pM[1],smc_5pM[1],smc_7pM[1],smc_10pM[1],smc_14pM[1],\n",
    "                      smc_20pM[1],smc_100pM[1],smc_1000pM[1]]\n",
    "\n",
    "figure_3_best_particles(data_all,mock_all,smc_simulations_all,n_part = 5)"
   ]
  },
  {
   "cell_type": "markdown",
   "metadata": {},
   "source": [
    "# Local parameter posterior distributions"
   ]
  },
  {
   "cell_type": "code",
   "execution_count": 146,
   "metadata": {
    "code_folding": [],
    "collapsed": true
   },
   "outputs": [],
   "source": [
    "def fig_EV3_local_posteriors(smc_res,\n",
    "                             conc = ['0','5','7','10','14','20','100','1000'],\n",
    "                             save=[False]):\n",
    "    bursts = []\n",
    "    t_on = []\n",
    "    t_off = []\n",
    "    \n",
    "    for smc in smc_res:\n",
    "        bursts.append(smc[:,8])\n",
    "        t_on.append(smc[:,9])\n",
    "        t_off.append(smc[:,10])\n",
    "        \n",
    "    fig,ax = pl.subplots(1,3,figsize = (12,4))   \n",
    "    \n",
    "    bp = ax[1].boxplot(bursts,patch_artist = True, whis = [5,95],vert = True,showfliers = False);\n",
    "    nice_boxplots(bp)\n",
    "    ax[1].set_yscale('log')\n",
    "    ax[1].set_xticklabels(conc, rotation = 90);\n",
    "    ax[1].set_ylabel('Burst size (#RNA)')\n",
    "    ax[1].set_xlabel('E2 concentration (pM)')\n",
    "    ax[1].set_ylim(0.1,30)\n",
    "\n",
    "    bp = ax[0].boxplot(t_on,patch_artist = True, whis = [5,95],vert = True,showfliers = False);\n",
    "    nice_boxplots(bp)\n",
    "    ax[0].set_yscale('log')\n",
    "    ax[0].set_ylabel('On time (min)')\n",
    "    ax[0].set_ylim(0.1,3)\n",
    "    ax[0].set_xticklabels(conc, rotation = 90);\n",
    "    ax[0].set_xlabel('E2 concentration (pM)')\n",
    "\n",
    "    bp = ax[2].boxplot(T_off,patch_artist = True, whis = [5,95],vert = True,showfliers = False);\n",
    "    nice_boxplots(bp)\n",
    "    ax[2].set_yscale('log')\n",
    "    ax[2].set_ylabel('OFF time (min)')\n",
    "    ax[2].set_ylim(4,500)\n",
    "    ax[2].set_xticklabels(conc, rotation = 90);\n",
    "    ax[2].set_xlabel('E2 concentration (pM)')\n",
    "    \n",
    "    pl.tight_layout()\n",
    "    if save[0] == True:\n",
    "        pl.savefig(save[1] + save[2], dpi=save[3])"
   ]
  },
  {
   "cell_type": "code",
   "execution_count": 147,
   "metadata": {},
   "outputs": [
    {
     "data": {
      "image/png": "[encoded data removed]",
      "text/plain": [
       "<matplotlib.figure.Figure at 0x1a1a2bf190>"
      ]
     },
     "metadata": {},
     "output_type": "display_data"
    }
   ],
   "source": [
    "fig_EV3_local_posteriors(smc_res)"
   ]
  },
  {
   "cell_type": "markdown",
   "metadata": {},
   "source": [
    "# Benchmarking"
   ]
  },
  {
   "cell_type": "markdown",
   "metadata": {},
   "source": [
    "## Parameter estimation"
   ]
  },
  {
   "cell_type": "markdown",
   "metadata": {},
   "source": [
    "## Model recovery"
   ]
  }
 ],
 "metadata": {
  "hide_input": false,
  "kernelspec": {
   "display_name": "Python 2",
   "language": "python",
   "name": "python2"
  },
  "language_info": {
   "codemirror_mode": {
    "name": "ipython",
    "version": 2
   },
   "file_extension": ".py",
   "mimetype": "text/x-python",
   "name": "python",
   "nbconvert_exporter": "python",
   "pygments_lexer": "ipython2",
   "version": "2.7.14"
  },
  "toc": {
   "nav_menu": {},
   "number_sections": true,
   "sideBar": true,
   "skip_h1_title": false,
   "toc_cell": false,
   "toc_position": {},
   "toc_section_display": "block",
   "toc_window_display": true
  },
  "varInspector": {
   "cols": {
    "lenName": 16,
    "lenType": 16,
    "lenVar": 40
   },
   "kernels_config": {
    "python": {
     "delete_cmd_postfix": "",
     "delete_cmd_prefix": "del ",
     "library": "var_list.py",
     "varRefreshCmd": "print(var_dic_list())"
    },
    "r": {
     "delete_cmd_postfix": ") ",
     "delete_cmd_prefix": "rm(",
     "library": "var_list.r",
     "varRefreshCmd": "cat(var_dic_list()) "
    }
   },
   "position": {
    "height": "1062px",
    "left": "1196px",
    "right": "49px",
    "top": "39px",
    "width": "675px"
   },
   "types_to_exclude": [
    "module",
    "function",
    "builtin_function_or_method",
    "instance",
    "_Feature"
   ],
   "window_display": false
  }
 },
 "nbformat": 4,
 "nbformat_minor": 2
}
