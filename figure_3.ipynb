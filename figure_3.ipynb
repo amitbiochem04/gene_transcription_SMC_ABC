{
 "cells": [
  {
   "cell_type": "code",
   "execution_count": 1,
   "metadata": {
    "collapsed": true
   },
   "outputs": [],
   "source": [
    "# imports and settings\n",
    "%run plot_settings.py\n",
    "%matplotlib inline\n",
    "\n",
    "# load experimental data\n",
    "path_data = '/Users/baumgaer/ownCloud/GitHub/gene_transcription_SMC_ABC/experimental_data/'\n",
    "\n",
    "data_0pME2 = np.loadtxt(path_data+'data_0pME2.csv')\n",
    "data_5pME2 = np.loadtxt(path_data+'data_5pME2.csv')\n",
    "data_7pME2 = np.loadtxt(path_data+'data_7pME2.csv')\n",
    "data_10pME2 = np.loadtxt(path_data+'data_10pME2.csv')\n",
    "data_14pME2 = np.loadtxt(path_data+'data_14pME2.csv')\n",
    "data_20pME2 = np.loadtxt(path_data+'data_20pME2.csv')\n",
    "data_100pME2 = np.loadtxt(path_data+'data_100pME2.csv')\n",
    "data_1000pME2 = np.loadtxt(path_data+'data_1000pME2.csv')\n",
    "\n",
    "mock_0pME2 = np.loadtxt(path_data+'mock_0pME2.csv')\n",
    "mock_5pME2 = np.loadtxt(path_data+'mock_5pME2.csv')\n",
    "mock_7pME2 = np.loadtxt(path_data+'mock_7pME2.csv')\n",
    "mock_10pME2 = np.loadtxt(path_data+'mock_10pME2.csv')\n",
    "mock_14pME2 = np.loadtxt(path_data+'mock_14pME2.csv')\n",
    "mock_20pME2 = np.loadtxt(path_data+'mock_20pME2.csv')\n",
    "mock_100pME2 = np.loadtxt(path_data+'mock_100pME2.csv')\n",
    "mock_1000pME2 = np.loadtxt(path_data+'mock_1000pME2.csv')\n",
    "\n",
    "# load fitting results\n",
    "path_fits = '/Users/baumgaer/ownCloud/GitHub/gene_transcription_SMC_ABC/model_fits/dose_response/'\n",
    "smc_0pM = np.load(path_fits+'smc_0pM.npy')\n",
    "smc_0pM_110 = np.load(path_fits+'smc_0pM_110.npy')\n",
    "smc_0pM_115 = np.load(path_fits+'smc_0pM_115.npy')\n",
    "smc_5pM = np.load(path_fits+'smc_5pM.npy')\n",
    "smc_5pM_110 = np.load(path_fits+'smc_5pM_110.npy')\n",
    "smc_5pM_115 = np.load(path_fits+'smc_5pM_115.npy')\n",
    "smc_7pM = np.load(path_fits+'smc_7pM.npy')\n",
    "smc_7pM_110 = np.load(path_fits+'smc_7pM_110.npy')\n",
    "smc_7pM_115 = np.load(path_fits+'smc_7pM_115.npy')\n",
    "smc_10pM = np.load(path_fits+'smc_10pM.npy')\n",
    "smc_10pM_110 = np.load(path_fits+'smc_10pM_110.npy')\n",
    "smc_10pM_111 = np.load(path_fits+'smc_10pM_111.npy')\n",
    "smc_10pM_112 = np.load(path_fits+'smc_10pM_112.npy')\n",
    "smc_10pM_115 = np.load(path_fits+'smc_10pM_115.npy')\n",
    "smc_14pM = np.load(path_fits+'smc_14pM.npy')\n",
    "smc_14pM_110 = np.load(path_fits+'smc_14pM_110.npy')\n",
    "smc_14pM_115 = np.load(path_fits+'smc_14pM_115.npy')\n",
    "smc_20pM = np.load(path_fits+'smc_20pM.npy')\n",
    "smc_20pM_110 = np.load(path_fits+'smc_20pM_110.npy')\n",
    "smc_20pM_115 = np.load(path_fits+'smc_20pM_115.npy')\n",
    "smc_100pM = np.load(path_fits+'smc_100pM.npy')\n",
    "smc_100pM_110 = np.load(path_fits+'smc_100pM_110.npy')\n",
    "smc_100pM_115 = np.load(path_fits+'smc_100pM_115.npy')\n",
    "smc_1000pM = np.load(path_fits+'smc_1000pM.npy')\n",
    "smc_1000pM_110 = np.load(path_fits+'smc_1000pM_110.npy')\n",
    "smc_1000pM_115 = np.load(path_fits+'smc_1000pM_115.npy')"
   ]
  },
  {
   "cell_type": "markdown",
   "metadata": {},
   "source": [
    "# Model selection"
   ]
  },
  {
   "cell_type": "markdown",
   "metadata": {},
   "source": [
    "## Model selection Fig 3"
   ]
  },
  {
   "cell_type": "markdown",
   "metadata": {},
   "source": [
    "## Model selection Fig EV3"
   ]
  },
  {
   "cell_type": "markdown",
   "metadata": {},
   "source": [
    "# Goodness of fit"
   ]
  },
  {
   "cell_type": "markdown",
   "metadata": {},
   "source": [
    "## Distance metric"
   ]
  },
  {
   "cell_type": "code",
   "execution_count": null,
   "metadata": {
    "collapsed": true
   },
   "outputs": [],
   "source": []
  },
  {
   "cell_type": "markdown",
   "metadata": {},
   "source": [
    "## Best particles"
   ]
  },
  {
   "cell_type": "code",
   "execution_count": 4,
   "metadata": {
    "collapsed": true
   },
   "outputs": [],
   "source": [
    "def figure_3_best_particles(data, mock, smc_simulations, windows=win, save=[False],\n",
    "                  n_part=10):\n",
    "    lw = 3\n",
    "    factor = [33.15, 33.15, 33.15, 33.15, 33.15, 33.15, 23.3, 23.3]\n",
    "    ind_hist = [[6, 38], [6, 38], [6, 38], [6, 38], [6, 38], [6, 38], [4, 37], [4, 37]]\n",
    "    color = 'crimson'\n",
    "    color_fits = 'dimgrey'\n",
    "    # color_bg = 'lightgrey'\n",
    "    alpha = 0.7\n",
    "    alpha_fits = 0.05\n",
    "    ind = [0, 1, 3, 6]\n",
    "    bins_hl = sp.linspace(0, 15, 20)\n",
    "    bin_centers_hl = (bins_hl[1:] - bins_hl[:-1]) / 2 + bins_hl[:-1]\n",
    "    bins_lag = sp.linspace(0, 1, 20)\n",
    "    bin_centers_lag = (bins_lag[1:] - bins_lag[:-1]) / 2 + bins_lag[:-1]\n",
    "\n",
    "    matplotlib.rcParams.update({'font.size': 15, 'font.family': 'sans'})\n",
    "    fig, ax = pl.subplots(len(data), 4, figsize=(1.4 * fig_width, 4 * figheight_single))\n",
    "\n",
    "    for ii in np.arange(0, len(data)):\n",
    "\n",
    "        for jj in np.arange(0, n_part):\n",
    "            bins, hist = spl.calc_histogram(smc_simulations[ii][:, :, jj])\n",
    "            ax[ii, 0].plot(bins[ind_hist[ii][0]:ind_hist[ii][1]] / factor[ii], hist[ind_hist[ii][0]:ind_hist[ii][1]],\n",
    "                           lw=1, alpha=alpha_fits, color=color_fits)\n",
    "\n",
    "            ts, acf = smc.acf_sliding_window(smc_simulations[ii][:, :, jj], windows)\n",
    "            acf_m = smc.average_acf(acf)\n",
    "            ax[ii, 1].plot(np.arange(0, len(acf_m.mean(axis=0)))[0:34] * 3,\n",
    "                           acf_m.mean(axis=0)[0:34], lw=2, color=color_fits, alpha=alpha_fits)\n",
    "\n",
    "            acf_hl_hist = bootstrap_acf_hl(acf, bins_hl)\n",
    "            hl_m = acf_hl_hist.mean(axis=0)\n",
    "            ax[ii, 2].plot(bin_centers_hl, hl_m, lw=2, color=color_fits, alpha=alpha_fits)\n",
    "\n",
    "            acf_lag_hist = bootstrap_acf_lag(acf, bins_lag)\n",
    "            lag_m = acf_lag_hist.mean(axis=0)\n",
    "            ax[ii, 3].plot(bin_centers_lag, lag_m, lw=2, color=color_fits, alpha=alpha_fits)\n",
    "\n",
    "        bins, hist = spl.calc_histogram(data[ii])\n",
    "        ax[ii, 0].plot(bins[ind_hist[ii][0]:ind_hist[ii][1]] / factor[ii], hist[ind_hist[ii][0]:ind_hist[ii][1]],\n",
    "                       color=color, lw=2)\n",
    "\n",
    "        ts, acf = smc.acf_sliding_window(data[ii], windows)\n",
    "        acf_m = smc.average_acf(acf)\n",
    "        ax[ii, 1].plot(np.arange(0, len(acf_m.mean(axis=0)))[0:34] * 3,\n",
    "                       acf_m.mean(axis=0)[0:34], lw=2, color=color)\n",
    "\n",
    "        acf_hl_hist = bootstrap_acf_hl(acf, bins_hl)\n",
    "        hl_m = acf_hl_hist.mean(axis=0)\n",
    "        ax[ii, 2].plot(bin_centers_hl, hl_m, lw=2, color=color)\n",
    "\n",
    "        acf_lag_hist = bootstrap_acf_lag(acf, bins_lag)\n",
    "        lag_m = acf_lag_hist.mean(axis=0)\n",
    "        ax[ii, 3].plot(bin_centers_lag, lag_m, lw=2, color=color)\n",
    "\n",
    "        ax[ii, 0].set_xlabel('#RNA')\n",
    "        ax[ii, 0].set_ylabel('Frequency')\n",
    "        ax[ii, 0].set_xscale('log')\n",
    "        ticks = [0.0, 0.05, 0.1, 0.15, 0.2]\n",
    "        ax[ii, 0].set_yticks(ticks)\n",
    "        ax[ii, 0].set_xlim(1e-1, 2e2)\n",
    "\n",
    "        ax[ii, 1].set_xlim(0, 100)\n",
    "        ax[ii, 1].set_ylabel('ACF')\n",
    "        ax[ii, 1].set_xlabel('Lag (min)')\n",
    "        ax[ii, 1].set_ylim(-.2, 1)\n",
    "\n",
    "        ax[ii, 2].set_ylabel('Frequency')\n",
    "        ax[ii, 2].set_ylim(0, 0.5)\n",
    "        ax[ii, 2].set_xlim(0, 15)\n",
    "        ticks = [0, 2, 4, 6, 8, 10, 12, 14]\n",
    "        ax[ii, 2].set_xticks(ticks)\n",
    "        ax[ii, 2].set_xticklabels(ticks * 3)\n",
    "        ax[ii, 2].set_xlabel('ACF HL (min)')\n",
    "\n",
    "        ax[ii, 3].set_ylabel('Frequency')\n",
    "        ax[ii, 3].set_xlabel('ACF @ lag = 1')\n",
    "        ax[ii, 3].set_xlim(0, 1)\n",
    "        ax[ii, 3].set_ylim(0, 15)\n",
    "\n",
    "    pl.tight_layout()\n",
    "    if save[0] == True:\n",
    "        pl.savefig(save[1] + save[2], dpi=save[3])"
   ]
  },
  {
   "cell_type": "code",
   "execution_count": 5,
   "metadata": {},
   "outputs": [
    {
     "ename": "NameError",
     "evalue": "name 'data_all' is not defined",
     "output_type": "error",
     "traceback": [
      "\u001b[0;31m---------------------------------------------------------------------------\u001b[0m",
      "\u001b[0;31mNameError\u001b[0m                                 Traceback (most recent call last)",
      "\u001b[0;32m<ipython-input-5-163d162b4ada>\u001b[0m in \u001b[0;36m<module>\u001b[0;34m()\u001b[0m\n\u001b[1;32m      2\u001b[0m                       smc_20pM[1],smc_100pM[1],smc_1000pM[1]]\n\u001b[1;32m      3\u001b[0m \u001b[0;34m\u001b[0m\u001b[0m\n\u001b[0;32m----> 4\u001b[0;31m \u001b[0mfigure_3_best_particles\u001b[0m\u001b[0;34m(\u001b[0m\u001b[0mdata_all\u001b[0m\u001b[0;34m,\u001b[0m\u001b[0mmock_all\u001b[0m\u001b[0;34m,\u001b[0m\u001b[0msmc_simulations_all\u001b[0m\u001b[0;34m,\u001b[0m\u001b[0mn_part\u001b[0m \u001b[0;34m=\u001b[0m \u001b[0;36m5\u001b[0m\u001b[0;34m)\u001b[0m\u001b[0;34m\u001b[0m\u001b[0m\n\u001b[0m",
      "\u001b[0;31mNameError\u001b[0m: name 'data_all' is not defined"
     ]
    }
   ],
   "source": [
    "smc_simulations_all = [smc_0pM[1],smc_5pM[1],smc_7pM[1],smc_10pM[1],smc_14pM[1],\n",
    "                      smc_20pM[1],smc_100pM[1],smc_1000pM[1]]\n",
    "\n",
    "figure_3_best_particles(data_all,mock_all,smc_simulations_all,n_part = 5)"
   ]
  },
  {
   "cell_type": "markdown",
   "metadata": {},
   "source": [
    "# Local parameter posterior distributions"
   ]
  },
  {
   "cell_type": "markdown",
   "metadata": {},
   "source": [
    "# Benchmarking"
   ]
  },
  {
   "cell_type": "markdown",
   "metadata": {},
   "source": [
    "## Parameter estimation"
   ]
  },
  {
   "cell_type": "markdown",
   "metadata": {},
   "source": [
    "## Model recovery"
   ]
  }
 ],
 "metadata": {
  "hide_input": false,
  "kernelspec": {
   "display_name": "Python 2",
   "language": "python",
   "name": "python2"
  },
  "toc": {
   "nav_menu": {},
   "number_sections": true,
   "sideBar": true,
   "skip_h1_title": false,
   "toc_cell": false,
   "toc_position": {},
   "toc_section_display": "block",
   "toc_window_display": false
  },
  "varInspector": {
   "cols": {
    "lenName": 16,
    "lenType": 16,
    "lenVar": 40
   },
   "kernels_config": {
    "python": {
     "delete_cmd_postfix": "",
     "delete_cmd_prefix": "del ",
     "library": "var_list.py",
     "varRefreshCmd": "print(var_dic_list())"
    },
    "r": {
     "delete_cmd_postfix": ") ",
     "delete_cmd_prefix": "rm(",
     "library": "var_list.r",
     "varRefreshCmd": "cat(var_dic_list()) "
    }
   },
   "position": {
    "height": "1062px",
    "left": "1196px",
    "right": "49px",
    "top": "39px",
    "width": "675px"
   },
   "types_to_exclude": [
    "module",
    "function",
    "builtin_function_or_method",
    "instance",
    "_Feature"
   ],
   "window_display": false
  }
 },
 "nbformat": 4,
 "nbformat_minor": 2
}
